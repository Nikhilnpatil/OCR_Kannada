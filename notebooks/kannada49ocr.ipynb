{
  "metadata": {
    "kernelspec": {
      "language": "python",
      "display_name": "Python 3",
      "name": "python3"
    },
    "language_info": {
      "name": "python",
      "version": "3.10.13",
      "mimetype": "text/x-python",
      "codemirror_mode": {
        "name": "ipython",
        "version": 3
      },
      "pygments_lexer": "ipython3",
      "nbconvert_exporter": "python",
      "file_extension": ".py"
    },
    "kaggle": {
      "accelerator": "nvidiaTeslaT4",
      "dataSources": [
        {
          "sourceId": 7699620,
          "sourceType": "datasetVersion",
          "datasetId": 4494369
        }
      ],
      "dockerImageVersionId": 30648,
      "isInternetEnabled": true,
      "language": "python",
      "sourceType": "notebook",
      "isGpuEnabled": true
    },
    "colab": {
      "name": "kannada49ocr",
      "provenance": []
    }
  },
  "nbformat_minor": 0,
  "nbformat": 4,
  "cells": [
    {
      "source": [
        "\n",
        "# IMPORTANT: RUN THIS CELL IN ORDER TO IMPORT YOUR KAGGLE DATA SOURCES\n",
        "# TO THE CORRECT LOCATION (/kaggle/input) IN YOUR NOTEBOOK,\n",
        "# THEN FEEL FREE TO DELETE THIS CELL.\n",
        "# NOTE: THIS NOTEBOOK ENVIRONMENT DIFFERS FROM KAGGLE'S PYTHON\n",
        "# ENVIRONMENT SO THERE MAY BE MISSING LIBRARIES USED BY YOUR\n",
        "# NOTEBOOK.\n",
        "\n",
        "import os\n",
        "import sys\n",
        "from tempfile import NamedTemporaryFile\n",
        "from urllib.request import urlopen\n",
        "from urllib.parse import unquote, urlparse\n",
        "from urllib.error import HTTPError\n",
        "from zipfile import ZipFile\n",
        "import tarfile\n",
        "import shutil\n",
        "\n",
        "CHUNK_SIZE = 40960\n",
        "DATA_SOURCE_MAPPING = 'kannada49char:https%3A%2F%2Fstorage.googleapis.com%2Fkaggle-data-sets%2F4494369%2F7699620%2Fbundle%2Farchive.zip%3FX-Goog-Algorithm%3DGOOG4-RSA-SHA256%26X-Goog-Credential%3Dgcp-kaggle-com%2540kaggle-161607.iam.gserviceaccount.com%252F20240225%252Fauto%252Fstorage%252Fgoog4_request%26X-Goog-Date%3D20240225T193805Z%26X-Goog-Expires%3D259200%26X-Goog-SignedHeaders%3Dhost%26X-Goog-Signature%3D6378cbcb83029316bf3442c744722b7a4b8e9b494fc02b239f76605a02e4d5de1bcd03de2f160ceb6544ae86f00a5df196175cfc069749badec671e1ededc227a9a2b411fde6935afe02b307f962bc74235b424ac550049de8c937eb23bf7f3350a70833bd6aff762af908f291b3519dc8a0ac2aefdb978d8dd9fdc8f662479eda45d866baf57af974be729383ef26573c8e7f284a1b2880c3d9707c031b6f088a0b4900947f02e61e9125446eeb60ea15d654c233731c82dbb3e8fb95dd8ea6a8486f44b6fc5bdfd27fa28a80a266dd10a5328e89d75329be413d76bdaa928d72dcfaf424c3125fd598dd3c0e00a8ae2e41d5d54a88a82d046ebd7dc4f6c68a'\n",
        "\n",
        "KAGGLE_INPUT_PATH='/kaggle/input'\n",
        "KAGGLE_WORKING_PATH='/kaggle/working'\n",
        "KAGGLE_SYMLINK='kaggle'\n",
        "\n",
        "!umount /kaggle/input/ 2> /dev/null\n",
        "shutil.rmtree('/kaggle/input', ignore_errors=True)\n",
        "os.makedirs(KAGGLE_INPUT_PATH, 0o777, exist_ok=True)\n",
        "os.makedirs(KAGGLE_WORKING_PATH, 0o777, exist_ok=True)\n",
        "\n",
        "try:\n",
        "  os.symlink(KAGGLE_INPUT_PATH, os.path.join(\"..\", 'input'), target_is_directory=True)\n",
        "except FileExistsError:\n",
        "  pass\n",
        "try:\n",
        "  os.symlink(KAGGLE_WORKING_PATH, os.path.join(\"..\", 'working'), target_is_directory=True)\n",
        "except FileExistsError:\n",
        "  pass\n",
        "\n",
        "for data_source_mapping in DATA_SOURCE_MAPPING.split(','):\n",
        "    directory, download_url_encoded = data_source_mapping.split(':')\n",
        "    download_url = unquote(download_url_encoded)\n",
        "    filename = urlparse(download_url).path\n",
        "    destination_path = os.path.join(KAGGLE_INPUT_PATH, directory)\n",
        "    try:\n",
        "        with urlopen(download_url) as fileres, NamedTemporaryFile() as tfile:\n",
        "            total_length = fileres.headers['content-length']\n",
        "            print(f'Downloading {directory}, {total_length} bytes compressed')\n",
        "            dl = 0\n",
        "            data = fileres.read(CHUNK_SIZE)\n",
        "            while len(data) > 0:\n",
        "                dl += len(data)\n",
        "                tfile.write(data)\n",
        "                done = int(50 * dl / int(total_length))\n",
        "                sys.stdout.write(f\"\\r[{'=' * done}{' ' * (50-done)}] {dl} bytes downloaded\")\n",
        "                sys.stdout.flush()\n",
        "                data = fileres.read(CHUNK_SIZE)\n",
        "            if filename.endswith('.zip'):\n",
        "              with ZipFile(tfile) as zfile:\n",
        "                zfile.extractall(destination_path)\n",
        "            else:\n",
        "              with tarfile.open(tfile.name) as tarfile:\n",
        "                tarfile.extractall(destination_path)\n",
        "            print(f'\\nDownloaded and uncompressed: {directory}')\n",
        "    except HTTPError as e:\n",
        "        print(f'Failed to load (likely expired) {download_url} to path {destination_path}')\n",
        "        continue\n",
        "    except OSError as e:\n",
        "        print(f'Failed to load {download_url} to path {destination_path}')\n",
        "        continue\n",
        "\n",
        "print('Data source import complete.')\n"
      ],
      "metadata": {
        "id": "X2RvPkgbxl6J"
      },
      "cell_type": "code",
      "outputs": [],
      "execution_count": null
    },
    {
      "cell_type": "code",
      "source": [],
      "metadata": {
        "id": "lElrkao2xl6Q"
      },
      "execution_count": null,
      "outputs": []
    },
    {
      "cell_type": "code",
      "source": [
        "# This Python 3 environment comes with many helpful analytics libraries installed\n",
        "# It is defined by the kaggle/python Docker image: https://github.com/kaggle/docker-python\n",
        "# For example, here's several helpful packages to load\n",
        "\n",
        "import numpy as np # linear algebra\n",
        "import pandas as pd # data processing, CSV file I/O (e.g. pd.read_csv)\n",
        "\n",
        "# Input data files are available in the read-only \"../input/\" directory\n",
        "# For example, running this (by clicking run or pressing Shift+Enter) will list all files under the input directory\n",
        "\n",
        "import os\n",
        "for dirname, _, filenames in os.walk('/kaggle/input'):\n",
        "    for filename in filenames:\n",
        "        print(os.path.join(dirname, filename))\n",
        "\n",
        "# You can write up to 20GB to the current directory (/kaggle/working/) that gets preserved as output when you create a version using \"Save & Run All\"\n",
        "# You can also write temporary files to /kaggle/temp/, but they won't be saved outside of the current session"
      ],
      "metadata": {
        "_uuid": "8f2839f25d086af736a60e9eeb907d3b93b6e0e5",
        "_cell_guid": "b1076dfc-b9ad-4769-8c92-a6c4dae69d19",
        "execution": {
          "iopub.status.busy": "2024-02-25T19:25:20.747875Z",
          "iopub.execute_input": "2024-02-25T19:25:20.748291Z",
          "iopub.status.idle": "2024-02-25T19:25:21.305749Z",
          "shell.execute_reply.started": "2024-02-25T19:25:20.748259Z",
          "shell.execute_reply": "2024-02-25T19:25:21.304766Z"
        },
        "trusted": true,
        "id": "XTNWiIW4xl6R",
        "outputId": "e6de9b48-5bfe-47c0-a1ac-b4c0242d06e2"
      },
      "execution_count": null,
      "outputs": [
        {
          "name": "stdout",
          "text": "/kaggle/input/kannada49char/data/val/47/img579-022.png\n/kaggle/input/kannada49char/data/val/47/img579-012.png\n/kaggle/input/kannada49char/data/val/47/img579-025.png\n/kaggle/input/kannada49char/data/val/17/img035-022.png\n/kaggle/input/kannada49char/data/val/17/img035-015.png\n/kaggle/input/kannada49char/data/val/17/img035-014.png\n/kaggle/input/kannada49char/data/val/17/img035-009.png\n/kaggle/input/kannada49char/data/val/17/img035-008.png\n/kaggle/input/kannada49char/data/val/19/img069-002.png\n/kaggle/input/kannada49char/data/val/19/img069-006.png\n/kaggle/input/kannada49char/data/val/19/img069-007.png\n/kaggle/input/kannada49char/data/val/22/img120-023.png\n/kaggle/input/kannada49char/data/val/22/img120-007.png\n/kaggle/input/kannada49char/data/val/2/img003-019.png\n/kaggle/input/kannada49char/data/val/2/img003-004.png\n/kaggle/input/kannada49char/data/val/2/img003-018.png\n/kaggle/input/kannada49char/data/val/2/img003-025.png\n/kaggle/input/kannada49char/data/val/2/img003-009.png\n/kaggle/input/kannada49char/data/val/2/img003-002.png\n/kaggle/input/kannada49char/data/val/35/img341-006.png\n/kaggle/input/kannada49char/data/val/35/img341-012.png\n/kaggle/input/kannada49char/data/val/35/img341-004.png\n/kaggle/input/kannada49char/data/val/35/img341-024.png\n/kaggle/input/kannada49char/data/val/35/img341-020.png\n/kaggle/input/kannada49char/data/val/23/img137-023.png\n/kaggle/input/kannada49char/data/val/23/img137-003.png\n/kaggle/input/kannada49char/data/val/23/img137-005.png\n/kaggle/input/kannada49char/data/val/23/img137-011.png\n/kaggle/input/kannada49char/data/val/23/img137-020.png\n/kaggle/input/kannada49char/data/val/10/img011-005.png\n/kaggle/input/kannada49char/data/val/10/img011-023.png\n/kaggle/input/kannada49char/data/val/10/img011-020.png\n/kaggle/input/kannada49char/data/val/10/img011-011.png\n/kaggle/input/kannada49char/data/val/10/img011-008.png\n/kaggle/input/kannada49char/data/val/5/img006-005.png\n/kaggle/input/kannada49char/data/val/5/img006-003.png\n/kaggle/input/kannada49char/data/val/5/img006-019.png\n/kaggle/input/kannada49char/data/val/5/img006-016.png\n/kaggle/input/kannada49char/data/val/5/img006-009.png\n/kaggle/input/kannada49char/data/val/36/img358-019.png\n/kaggle/input/kannada49char/data/val/36/img358-006.png\n/kaggle/input/kannada49char/data/val/36/img358-020.png\n/kaggle/input/kannada49char/data/val/36/img358-007.png\n/kaggle/input/kannada49char/data/val/20/img086-003.png\n/kaggle/input/kannada49char/data/val/20/img086-018.png\n/kaggle/input/kannada49char/data/val/20/img086-005.png\n/kaggle/input/kannada49char/data/val/20/img086-008.png\n/kaggle/input/kannada49char/data/val/45/img545-014.png\n/kaggle/input/kannada49char/data/val/45/img545-024.png\n/kaggle/input/kannada49char/data/val/45/img545-025.png\n/kaggle/input/kannada49char/data/val/27/img205-016.png\n/kaggle/input/kannada49char/data/val/27/img205-022.png\n/kaggle/input/kannada49char/data/val/27/img205-007.png\n/kaggle/input/kannada49char/data/val/27/img205-012.png\n/kaggle/input/kannada49char/data/val/41/img443-001.png\n/kaggle/input/kannada49char/data/val/41/img443-013.png\n/kaggle/input/kannada49char/data/val/41/img443-019.png\n/kaggle/input/kannada49char/data/val/39/img409-021.png\n/kaggle/input/kannada49char/data/val/39/img409-024.png\n/kaggle/input/kannada49char/data/val/39/img409-010.png\n/kaggle/input/kannada49char/data/val/39/img409-013.png\n/kaggle/input/kannada49char/data/val/39/img409-015.png\n/kaggle/input/kannada49char/data/val/39/img409-003.png\n/kaggle/input/kannada49char/data/val/32/img290-024.png\n/kaggle/input/kannada49char/data/val/32/img290-014.png\n/kaggle/input/kannada49char/data/val/25/img171-014.png\n/kaggle/input/kannada49char/data/val/25/img171-013.png\n/kaggle/input/kannada49char/data/val/25/img171-004.png\n/kaggle/input/kannada49char/data/val/25/img171-003.png\n/kaggle/input/kannada49char/data/val/25/img171-006.png\n/kaggle/input/kannada49char/data/val/25/img171-019.png\n/kaggle/input/kannada49char/data/val/25/img171-001.png\n/kaggle/input/kannada49char/data/val/42/img460-018.png\n/kaggle/input/kannada49char/data/val/42/img460-024.png\n/kaggle/input/kannada49char/data/val/42/img460-007.png\n/kaggle/input/kannada49char/data/val/8/img009-009.png\n/kaggle/input/kannada49char/data/val/8/img009-012.png\n/kaggle/input/kannada49char/data/val/38/img392-016.png\n/kaggle/input/kannada49char/data/val/38/img392-011.png\n/kaggle/input/kannada49char/data/val/12/img013-014.png\n/kaggle/input/kannada49char/data/val/12/img013-006.png\n/kaggle/input/kannada49char/data/val/12/img013-012.png\n/kaggle/input/kannada49char/data/val/49/img613-014.png\n/kaggle/input/kannada49char/data/val/49/img613-002.png\n/kaggle/input/kannada49char/data/val/49/img613-024.png\n/kaggle/input/kannada49char/data/val/49/img613-007.png\n/kaggle/input/kannada49char/data/val/0/img001-002.png\n/kaggle/input/kannada49char/data/val/0/img001-012.png\n/kaggle/input/kannada49char/data/val/0/img001-020.png\n/kaggle/input/kannada49char/data/val/0/img001-010.png\n/kaggle/input/kannada49char/data/val/31/img273-009.png\n/kaggle/input/kannada49char/data/val/31/img273-024.png\n/kaggle/input/kannada49char/data/val/34/img324-016.png\n/kaggle/input/kannada49char/data/val/34/img324-019.png\n/kaggle/input/kannada49char/data/val/34/img324-023.png\n/kaggle/input/kannada49char/data/val/34/img324-005.png\n/kaggle/input/kannada49char/data/val/34/img324-025.png\n/kaggle/input/kannada49char/data/val/18/img052-009.png\n/kaggle/input/kannada49char/data/val/18/img052-003.png\n/kaggle/input/kannada49char/data/val/18/img052-010.png\n/kaggle/input/kannada49char/data/val/28/img222-018.png\n/kaggle/input/kannada49char/data/val/28/img222-014.png\n/kaggle/input/kannada49char/data/val/28/img222-006.png\n/kaggle/input/kannada49char/data/val/28/img222-023.png\n/kaggle/input/kannada49char/data/val/16/img018-023.png\n/kaggle/input/kannada49char/data/val/16/img018-013.png\n/kaggle/input/kannada49char/data/val/16/img018-012.png\n/kaggle/input/kannada49char/data/val/16/img018-024.png\n/kaggle/input/kannada49char/data/val/16/img018-014.png\n/kaggle/input/kannada49char/data/val/13/img014-019.png\n/kaggle/input/kannada49char/data/val/13/img014-017.png\n/kaggle/input/kannada49char/data/val/13/img014-012.png\n/kaggle/input/kannada49char/data/val/26/img188-006.png\n/kaggle/input/kannada49char/data/val/26/img188-019.png\n/kaggle/input/kannada49char/data/val/15/img016-008.png\n/kaggle/input/kannada49char/data/val/15/img016-024.png\n/kaggle/input/kannada49char/data/val/15/img016-004.png\n/kaggle/input/kannada49char/data/val/15/img016-006.png\n/kaggle/input/kannada49char/data/val/3/img004-001.png\n/kaggle/input/kannada49char/data/val/3/img004-014.png\n/kaggle/input/kannada49char/data/val/3/img004-009.png\n/kaggle/input/kannada49char/data/val/3/img004-021.png\n/kaggle/input/kannada49char/data/val/3/img004-015.png\n/kaggle/input/kannada49char/data/val/3/img004-016.png\n/kaggle/input/kannada49char/data/val/43/img494-010.png\n/kaggle/input/kannada49char/data/val/43/img494-022.png\n/kaggle/input/kannada49char/data/val/43/img494-004.png\n/kaggle/input/kannada49char/data/val/43/img494-025.png\n/kaggle/input/kannada49char/data/val/43/img494-015.png\n/kaggle/input/kannada49char/data/val/43/img494-005.png\n/kaggle/input/kannada49char/data/val/43/img494-011.png\n/kaggle/input/kannada49char/data/val/43/img494-006.png\n/kaggle/input/kannada49char/data/val/43/img494-019.png\n/kaggle/input/kannada49char/data/val/43/img494-018.png\n/kaggle/input/kannada49char/data/val/43/img494-016.png\n/kaggle/input/kannada49char/data/val/43/img494-001.png\n/kaggle/input/kannada49char/data/val/43/img494-023.png\n/kaggle/input/kannada49char/data/val/43/img494-013.png\n/kaggle/input/kannada49char/data/val/43/img494-020.png\n/kaggle/input/kannada49char/data/val/43/img494-017.png\n/kaggle/input/kannada49char/data/val/43/img494-002.png\n/kaggle/input/kannada49char/data/val/43/img494-012.png\n/kaggle/input/kannada49char/data/val/43/img494-003.png\n/kaggle/input/kannada49char/data/val/43/img494-024.png\n/kaggle/input/kannada49char/data/val/43/img494-007.png\n/kaggle/input/kannada49char/data/val/43/img494-008.png\n/kaggle/input/kannada49char/data/val/43/img494-009.png\n/kaggle/input/kannada49char/data/val/43/img494-021.png\n/kaggle/input/kannada49char/data/val/43/img494-014.png\n/kaggle/input/kannada49char/data/val/1/img002-014.png\n/kaggle/input/kannada49char/data/val/1/img002-005.png\n/kaggle/input/kannada49char/data/val/30/img256-002.png\n/kaggle/input/kannada49char/data/val/30/img256-004.png\n/kaggle/input/kannada49char/data/val/30/img256-015.png\n/kaggle/input/kannada49char/data/val/14/img015-005.png\n/kaggle/input/kannada49char/data/val/14/img015-009.png\n/kaggle/input/kannada49char/data/val/4/img005-023.png\n/kaggle/input/kannada49char/data/val/4/img005-002.png\n/kaggle/input/kannada49char/data/val/4/img005-018.png\n/kaggle/input/kannada49char/data/val/4/img005-007.png\n/kaggle/input/kannada49char/data/val/9/img010-024.png\n/kaggle/input/kannada49char/data/val/9/img010-003.png\n/kaggle/input/kannada49char/data/val/9/img010-011.png\n/kaggle/input/kannada49char/data/val/9/img010-005.png\n/kaggle/input/kannada49char/data/val/9/img010-015.png\n/kaggle/input/kannada49char/data/val/9/img010-009.png\n/kaggle/input/kannada49char/data/val/9/img010-007.png\n/kaggle/input/kannada49char/data/val/9/img010-022.png\n/kaggle/input/kannada49char/data/val/46/img562-020.png\n/kaggle/input/kannada49char/data/val/46/img562-009.png\n/kaggle/input/kannada49char/data/val/46/img562-018.png\n/kaggle/input/kannada49char/data/val/46/img562-014.png\n/kaggle/input/kannada49char/data/val/46/img562-012.png\n/kaggle/input/kannada49char/data/val/21/img103-014.png\n/kaggle/input/kannada49char/data/val/21/img103-009.png\n/kaggle/input/kannada49char/data/val/21/img103-020.png\n/kaggle/input/kannada49char/data/val/21/img103-015.png\n/kaggle/input/kannada49char/data/val/21/img103-001.png\n/kaggle/input/kannada49char/data/val/44/img511-010.png\n/kaggle/input/kannada49char/data/val/44/img511-009.png\n/kaggle/input/kannada49char/data/val/44/img511-025.png\n/kaggle/input/kannada49char/data/val/40/img426-018.png\n/kaggle/input/kannada49char/data/val/40/img426-007.png\n/kaggle/input/kannada49char/data/val/40/img426-022.png\n/kaggle/input/kannada49char/data/val/40/img426-019.png\n/kaggle/input/kannada49char/data/val/40/img426-025.png\n/kaggle/input/kannada49char/data/val/40/img426-006.png\n/kaggle/input/kannada49char/data/val/6/img007-006.png\n/kaggle/input/kannada49char/data/val/6/img007-023.png\n/kaggle/input/kannada49char/data/val/6/img007-001.png\n/kaggle/input/kannada49char/data/val/6/img007-015.png\n/kaggle/input/kannada49char/data/val/6/img007-016.png\n/kaggle/input/kannada49char/data/val/11/img012-001.png\n/kaggle/input/kannada49char/data/val/11/img012-014.png\n/kaggle/input/kannada49char/data/val/37/img375-007.png\n/kaggle/input/kannada49char/data/val/37/img375-016.png\n/kaggle/input/kannada49char/data/val/37/img375-004.png\n/kaggle/input/kannada49char/data/val/37/img375-005.png\n/kaggle/input/kannada49char/data/val/33/img307-024.png\n/kaggle/input/kannada49char/data/val/33/img307-007.png\n/kaggle/input/kannada49char/data/val/33/img307-020.png\n/kaggle/input/kannada49char/data/val/48/img596-022.png\n/kaggle/input/kannada49char/data/val/48/img596-014.png\n/kaggle/input/kannada49char/data/val/48/img596-004.png\n/kaggle/input/kannada49char/data/val/29/img239-019.png\n/kaggle/input/kannada49char/data/val/29/img239-024.png\n/kaggle/input/kannada49char/data/val/29/img239-014.png\n/kaggle/input/kannada49char/data/val/29/img239-015.png\n/kaggle/input/kannada49char/data/val/29/img239-007.png\n/kaggle/input/kannada49char/data/val/24/img154-006.png\n/kaggle/input/kannada49char/data/val/24/img154-024.png\n/kaggle/input/kannada49char/data/val/24/img154-013.png\n/kaggle/input/kannada49char/data/val/24/img154-022.png\n/kaggle/input/kannada49char/data/train/47/img579-006.png\n/kaggle/input/kannada49char/data/train/47/img579-019.png\n/kaggle/input/kannada49char/data/train/47/img579-024.png\n/kaggle/input/kannada49char/data/train/47/img579-001.png\n/kaggle/input/kannada49char/data/train/47/img579-013.png\n/kaggle/input/kannada49char/data/train/47/img579-023.png\n/kaggle/input/kannada49char/data/train/47/img579-020.png\n/kaggle/input/kannada49char/data/train/47/img579-002.png\n/kaggle/input/kannada49char/data/train/47/img579-017.png\n/kaggle/input/kannada49char/data/train/47/img579-008.png\n/kaggle/input/kannada49char/data/train/47/img579-005.png\n/kaggle/input/kannada49char/data/train/47/img579-009.png\n/kaggle/input/kannada49char/data/train/47/img579-016.png\n/kaggle/input/kannada49char/data/train/47/img579-021.png\n/kaggle/input/kannada49char/data/train/47/img579-015.png\n/kaggle/input/kannada49char/data/train/47/img579-018.png\n/kaggle/input/kannada49char/data/train/47/img579-014.png\n/kaggle/input/kannada49char/data/train/47/img579-010.png\n/kaggle/input/kannada49char/data/train/47/img579-004.png\n/kaggle/input/kannada49char/data/train/47/img579-003.png\n/kaggle/input/kannada49char/data/train/47/img579-007.png\n/kaggle/input/kannada49char/data/train/47/img579-011.png\n/kaggle/input/kannada49char/data/train/17/img035-005.png\n/kaggle/input/kannada49char/data/train/17/img035-006.png\n/kaggle/input/kannada49char/data/train/17/img035-020.png\n/kaggle/input/kannada49char/data/train/17/img035-024.png\n/kaggle/input/kannada49char/data/train/17/img035-016.png\n/kaggle/input/kannada49char/data/train/17/img035-004.png\n/kaggle/input/kannada49char/data/train/17/img035-003.png\n/kaggle/input/kannada49char/data/train/17/img035-007.png\n/kaggle/input/kannada49char/data/train/17/img035-013.png\n/kaggle/input/kannada49char/data/train/17/img035-018.png\n/kaggle/input/kannada49char/data/train/17/img035-002.png\n/kaggle/input/kannada49char/data/train/17/img035-017.png\n/kaggle/input/kannada49char/data/train/17/img035-019.png\n/kaggle/input/kannada49char/data/train/17/img035-023.png\n/kaggle/input/kannada49char/data/train/17/img035-021.png\n/kaggle/input/kannada49char/data/train/17/img035-010.png\n/kaggle/input/kannada49char/data/train/17/img035-025.png\n/kaggle/input/kannada49char/data/train/17/img035-011.png\n/kaggle/input/kannada49char/data/train/17/img035-001.png\n/kaggle/input/kannada49char/data/train/17/img035-012.png\n/kaggle/input/kannada49char/data/train/19/img069-001.png\n/kaggle/input/kannada49char/data/train/19/img069-015.png\n/kaggle/input/kannada49char/data/train/19/img069-011.png\n/kaggle/input/kannada49char/data/train/19/img069-024.png\n/kaggle/input/kannada49char/data/train/19/img069-018.png\n/kaggle/input/kannada49char/data/train/19/img069-017.png\n/kaggle/input/kannada49char/data/train/19/img069-008.png\n/kaggle/input/kannada49char/data/train/19/img069-004.png\n/kaggle/input/kannada49char/data/train/19/img069-013.png\n/kaggle/input/kannada49char/data/train/19/img069-005.png\n/kaggle/input/kannada49char/data/train/19/img069-020.png\n/kaggle/input/kannada49char/data/train/19/img069-023.png\n/kaggle/input/kannada49char/data/train/19/img069-014.png\n/kaggle/input/kannada49char/data/train/19/img069-025.png\n/kaggle/input/kannada49char/data/train/19/img069-019.png\n/kaggle/input/kannada49char/data/train/19/img069-003.png\n/kaggle/input/kannada49char/data/train/19/img069-012.png\n/kaggle/input/kannada49char/data/train/19/img069-010.png\n/kaggle/input/kannada49char/data/train/19/img069-009.png\n/kaggle/input/kannada49char/data/train/19/img069-016.png\n/kaggle/input/kannada49char/data/train/19/img069-021.png\n/kaggle/input/kannada49char/data/train/19/img069-022.png\n/kaggle/input/kannada49char/data/train/22/img120-021.png\n/kaggle/input/kannada49char/data/train/22/img120-010.png\n/kaggle/input/kannada49char/data/train/22/img120-017.png\n/kaggle/input/kannada49char/data/train/22/img120-015.png\n/kaggle/input/kannada49char/data/train/22/img120-020.png\n/kaggle/input/kannada49char/data/train/22/img120-013.png\n/kaggle/input/kannada49char/data/train/22/img120-008.png\n/kaggle/input/kannada49char/data/train/22/img120-006.png\n/kaggle/input/kannada49char/data/train/22/img120-024.png\n/kaggle/input/kannada49char/data/train/22/img120-005.png\n/kaggle/input/kannada49char/data/train/22/img120-018.png\n/kaggle/input/kannada49char/data/train/22/img120-012.png\n/kaggle/input/kannada49char/data/train/22/img120-016.png\n/kaggle/input/kannada49char/data/train/22/img120-014.png\n/kaggle/input/kannada49char/data/train/22/img120-011.png\n/kaggle/input/kannada49char/data/train/22/img120-025.png\n/kaggle/input/kannada49char/data/train/22/img120-019.png\n/kaggle/input/kannada49char/data/train/22/img120-022.png\n/kaggle/input/kannada49char/data/train/22/img120-003.png\n/kaggle/input/kannada49char/data/train/22/img120-002.png\n/kaggle/input/kannada49char/data/train/22/img120-001.png\n/kaggle/input/kannada49char/data/train/22/img120-009.png\n/kaggle/input/kannada49char/data/train/22/img120-004.png\n/kaggle/input/kannada49char/data/train/2/img003-015.png\n/kaggle/input/kannada49char/data/train/2/img003-003.png\n/kaggle/input/kannada49char/data/train/2/img003-006.png\n/kaggle/input/kannada49char/data/train/2/img003-022.png\n/kaggle/input/kannada49char/data/train/2/img003-016.png\n/kaggle/input/kannada49char/data/train/2/img003-012.png\n/kaggle/input/kannada49char/data/train/2/img003-008.png\n/kaggle/input/kannada49char/data/train/2/img003-007.png\n/kaggle/input/kannada49char/data/train/2/img003-013.png\n/kaggle/input/kannada49char/data/train/2/img003-014.png\n/kaggle/input/kannada49char/data/train/2/img003-021.png\n/kaggle/input/kannada49char/data/train/2/img003-011.png\n/kaggle/input/kannada49char/data/train/2/img003-010.png\n/kaggle/input/kannada49char/data/train/2/img003-005.png\n/kaggle/input/kannada49char/data/train/2/img003-023.png\n/kaggle/input/kannada49char/data/train/2/img003-020.png\n/kaggle/input/kannada49char/data/train/2/img003-024.png\n/kaggle/input/kannada49char/data/train/2/img003-001.png\n/kaggle/input/kannada49char/data/train/2/img003-017.png\n/kaggle/input/kannada49char/data/train/35/img341-018.png\n/kaggle/input/kannada49char/data/train/35/img341-007.png\n/kaggle/input/kannada49char/data/train/35/img341-008.png\n/kaggle/input/kannada49char/data/train/35/img341-009.png\n/kaggle/input/kannada49char/data/train/35/img341-019.png\n/kaggle/input/kannada49char/data/train/35/img341-022.png\n/kaggle/input/kannada49char/data/train/35/img341-017.png\n/kaggle/input/kannada49char/data/train/35/img341-014.png\n/kaggle/input/kannada49char/data/train/35/img341-013.png\n/kaggle/input/kannada49char/data/train/35/img341-003.png\n/kaggle/input/kannada49char/data/train/35/img341-010.png\n/kaggle/input/kannada49char/data/train/35/img341-016.png\n/kaggle/input/kannada49char/data/train/35/img341-021.png\n/kaggle/input/kannada49char/data/train/35/img341-002.png\n/kaggle/input/kannada49char/data/train/35/img341-023.png\n/kaggle/input/kannada49char/data/train/35/img341-025.png\n/kaggle/input/kannada49char/data/train/35/img341-001.png\n/kaggle/input/kannada49char/data/train/35/img341-005.png\n/kaggle/input/kannada49char/data/train/35/img341-015.png\n/kaggle/input/kannada49char/data/train/35/img341-011.png\n/kaggle/input/kannada49char/data/train/23/img137-008.png\n/kaggle/input/kannada49char/data/train/23/img137-024.png\n/kaggle/input/kannada49char/data/train/23/img137-021.png\n/kaggle/input/kannada49char/data/train/23/img137-001.png\n/kaggle/input/kannada49char/data/train/23/img137-013.png\n/kaggle/input/kannada49char/data/train/23/img137-014.png\n/kaggle/input/kannada49char/data/train/23/img137-015.png\n/kaggle/input/kannada49char/data/train/23/img137-025.png\n/kaggle/input/kannada49char/data/train/23/img137-009.png\n/kaggle/input/kannada49char/data/train/23/img137-006.png\n/kaggle/input/kannada49char/data/train/23/img137-012.png\n/kaggle/input/kannada49char/data/train/23/img137-010.png\n/kaggle/input/kannada49char/data/train/23/img137-018.png\n/kaggle/input/kannada49char/data/train/23/img137-022.png\n/kaggle/input/kannada49char/data/train/23/img137-007.png\n/kaggle/input/kannada49char/data/train/23/img137-019.png\n/kaggle/input/kannada49char/data/train/23/img137-002.png\n/kaggle/input/kannada49char/data/train/23/img137-004.png\n/kaggle/input/kannada49char/data/train/23/img137-017.png\n/kaggle/input/kannada49char/data/train/23/img137-016.png\n/kaggle/input/kannada49char/data/train/10/img011-013.png\n/kaggle/input/kannada49char/data/train/10/img011-019.png\n/kaggle/input/kannada49char/data/train/10/img011-002.png\n/kaggle/input/kannada49char/data/train/10/img011-003.png\n/kaggle/input/kannada49char/data/train/10/img011-017.png\n/kaggle/input/kannada49char/data/train/10/img011-010.png\n/kaggle/input/kannada49char/data/train/10/img011-021.png\n/kaggle/input/kannada49char/data/train/10/img011-004.png\n/kaggle/input/kannada49char/data/train/10/img011-009.png\n/kaggle/input/kannada49char/data/train/10/img011-001.png\n/kaggle/input/kannada49char/data/train/10/img011-016.png\n/kaggle/input/kannada49char/data/train/10/img011-007.png\n/kaggle/input/kannada49char/data/train/10/img011-018.png\n/kaggle/input/kannada49char/data/train/10/img011-012.png\n/kaggle/input/kannada49char/data/train/10/img011-015.png\n/kaggle/input/kannada49char/data/train/10/img011-025.png\n/kaggle/input/kannada49char/data/train/10/img011-006.png\n/kaggle/input/kannada49char/data/train/10/img011-024.png\n/kaggle/input/kannada49char/data/train/10/img011-014.png\n/kaggle/input/kannada49char/data/train/10/img011-022.png\n/kaggle/input/kannada49char/data/train/5/img006-012.png\n/kaggle/input/kannada49char/data/train/5/img006-023.png\n/kaggle/input/kannada49char/data/train/5/img006-011.png\n/kaggle/input/kannada49char/data/train/5/img006-021.png\n/kaggle/input/kannada49char/data/train/5/img006-007.png\n/kaggle/input/kannada49char/data/train/5/img006-006.png\n/kaggle/input/kannada49char/data/train/5/img006-018.png\n/kaggle/input/kannada49char/data/train/5/img006-004.png\n/kaggle/input/kannada49char/data/train/5/img006-008.png\n/kaggle/input/kannada49char/data/train/5/img006-022.png\n/kaggle/input/kannada49char/data/train/5/img006-017.png\n/kaggle/input/kannada49char/data/train/5/img006-025.png\n/kaggle/input/kannada49char/data/train/5/img006-010.png\n/kaggle/input/kannada49char/data/train/5/img006-013.png\n/kaggle/input/kannada49char/data/train/5/img006-015.png\n/kaggle/input/kannada49char/data/train/5/img006-020.png\n/kaggle/input/kannada49char/data/train/5/img006-024.png\n/kaggle/input/kannada49char/data/train/5/img006-001.png\n/kaggle/input/kannada49char/data/train/5/img006-014.png\n/kaggle/input/kannada49char/data/train/5/img006-002.png\n/kaggle/input/kannada49char/data/train/36/img358-018.png\n/kaggle/input/kannada49char/data/train/36/img358-010.png\n/kaggle/input/kannada49char/data/train/36/img358-008.png\n/kaggle/input/kannada49char/data/train/36/img358-013.png\n/kaggle/input/kannada49char/data/train/36/img358-004.png\n/kaggle/input/kannada49char/data/train/36/img358-009.png\n/kaggle/input/kannada49char/data/train/36/img358-002.png\n/kaggle/input/kannada49char/data/train/36/img358-015.png\n/kaggle/input/kannada49char/data/train/36/img358-024.png\n/kaggle/input/kannada49char/data/train/36/img358-021.png\n/kaggle/input/kannada49char/data/train/36/img358-003.png\n/kaggle/input/kannada49char/data/train/36/img358-017.png\n/kaggle/input/kannada49char/data/train/36/img358-022.png\n/kaggle/input/kannada49char/data/train/36/img358-011.png\n/kaggle/input/kannada49char/data/train/36/img358-023.png\n/kaggle/input/kannada49char/data/train/36/img358-001.png\n/kaggle/input/kannada49char/data/train/36/img358-025.png\n/kaggle/input/kannada49char/data/train/36/img358-005.png\n/kaggle/input/kannada49char/data/train/36/img358-012.png\n/kaggle/input/kannada49char/data/train/36/img358-016.png\n/kaggle/input/kannada49char/data/train/36/img358-014.png\n/kaggle/input/kannada49char/data/train/20/img086-006.png\n/kaggle/input/kannada49char/data/train/20/img086-004.png\n/kaggle/input/kannada49char/data/train/20/img086-016.png\n/kaggle/input/kannada49char/data/train/20/img086-020.png\n/kaggle/input/kannada49char/data/train/20/img086-025.png\n/kaggle/input/kannada49char/data/train/20/img086-022.png\n/kaggle/input/kannada49char/data/train/20/img086-011.png\n/kaggle/input/kannada49char/data/train/20/img086-021.png\n/kaggle/input/kannada49char/data/train/20/img086-002.png\n/kaggle/input/kannada49char/data/train/20/img086-017.png\n/kaggle/input/kannada49char/data/train/20/img086-023.png\n/kaggle/input/kannada49char/data/train/20/img086-019.png\n/kaggle/input/kannada49char/data/train/20/img086-007.png\n/kaggle/input/kannada49char/data/train/20/img086-010.png\n/kaggle/input/kannada49char/data/train/20/img086-001.png\n/kaggle/input/kannada49char/data/train/20/img086-012.png\n/kaggle/input/kannada49char/data/train/20/img086-015.png\n/kaggle/input/kannada49char/data/train/20/img086-009.png\n/kaggle/input/kannada49char/data/train/20/img086-013.png\n/kaggle/input/kannada49char/data/train/20/img086-024.png\n/kaggle/input/kannada49char/data/train/20/img086-014.png\n/kaggle/input/kannada49char/data/train/45/img545-023.png\n/kaggle/input/kannada49char/data/train/45/img545-001.png\n/kaggle/input/kannada49char/data/train/45/img545-003.png\n/kaggle/input/kannada49char/data/train/45/img545-008.png\n/kaggle/input/kannada49char/data/train/45/img545-016.png\n/kaggle/input/kannada49char/data/train/45/img545-009.png\n/kaggle/input/kannada49char/data/train/45/img545-015.png\n/kaggle/input/kannada49char/data/train/45/img545-007.png\n/kaggle/input/kannada49char/data/train/45/img545-012.png\n/kaggle/input/kannada49char/data/train/45/img545-010.png\n/kaggle/input/kannada49char/data/train/45/img545-004.png\n/kaggle/input/kannada49char/data/train/45/img545-022.png\n/kaggle/input/kannada49char/data/train/45/img545-019.png\n/kaggle/input/kannada49char/data/train/45/img545-005.png\n/kaggle/input/kannada49char/data/train/45/img545-018.png\n/kaggle/input/kannada49char/data/train/45/img545-017.png\n/kaggle/input/kannada49char/data/train/45/img545-013.png\n/kaggle/input/kannada49char/data/train/45/img545-002.png\n/kaggle/input/kannada49char/data/train/45/img545-011.png\n/kaggle/input/kannada49char/data/train/45/img545-006.png\n/kaggle/input/kannada49char/data/train/45/img545-020.png\n/kaggle/input/kannada49char/data/train/45/img545-021.png\n/kaggle/input/kannada49char/data/train/27/img205-006.png\n/kaggle/input/kannada49char/data/train/27/img205-008.png\n/kaggle/input/kannada49char/data/train/27/img205-004.png\n/kaggle/input/kannada49char/data/train/27/img205-009.png\n/kaggle/input/kannada49char/data/train/27/img205-023.png\n/kaggle/input/kannada49char/data/train/27/img205-001.png\n/kaggle/input/kannada49char/data/train/27/img205-020.png\n/kaggle/input/kannada49char/data/train/27/img205-015.png\n/kaggle/input/kannada49char/data/train/27/img205-024.png\n/kaggle/input/kannada49char/data/train/27/img205-017.png\n/kaggle/input/kannada49char/data/train/27/img205-011.png\n/kaggle/input/kannada49char/data/train/27/img205-014.png\n/kaggle/input/kannada49char/data/train/27/img205-018.png\n/kaggle/input/kannada49char/data/train/27/img205-003.png\n/kaggle/input/kannada49char/data/train/27/img205-002.png\n/kaggle/input/kannada49char/data/train/27/img205-021.png\n/kaggle/input/kannada49char/data/train/27/img205-005.png\n/kaggle/input/kannada49char/data/train/27/img205-010.png\n/kaggle/input/kannada49char/data/train/27/img205-025.png\n/kaggle/input/kannada49char/data/train/27/img205-019.png\n/kaggle/input/kannada49char/data/train/27/img205-013.png\n/kaggle/input/kannada49char/data/train/41/img443-002.png\n/kaggle/input/kannada49char/data/train/41/img443-024.png\n/kaggle/input/kannada49char/data/train/41/img443-007.png\n/kaggle/input/kannada49char/data/train/41/img443-012.png\n/kaggle/input/kannada49char/data/train/41/img443-015.png\n/kaggle/input/kannada49char/data/train/41/img443-021.png\n/kaggle/input/kannada49char/data/train/41/img443-023.png\n/kaggle/input/kannada49char/data/train/41/img443-004.png\n/kaggle/input/kannada49char/data/train/41/img443-003.png\n/kaggle/input/kannada49char/data/train/41/img443-005.png\n/kaggle/input/kannada49char/data/train/41/img443-006.png\n/kaggle/input/kannada49char/data/train/41/img443-010.png\n/kaggle/input/kannada49char/data/train/41/img443-016.png\n/kaggle/input/kannada49char/data/train/41/img443-020.png\n/kaggle/input/kannada49char/data/train/41/img443-011.png\n/kaggle/input/kannada49char/data/train/41/img443-022.png\n/kaggle/input/kannada49char/data/train/41/img443-018.png\n/kaggle/input/kannada49char/data/train/41/img443-025.png\n/kaggle/input/kannada49char/data/train/41/img443-008.png\n/kaggle/input/kannada49char/data/train/41/img443-014.png\n/kaggle/input/kannada49char/data/train/41/img443-017.png\n/kaggle/input/kannada49char/data/train/41/img443-009.png\n/kaggle/input/kannada49char/data/train/39/img409-004.png\n/kaggle/input/kannada49char/data/train/39/img409-016.png\n/kaggle/input/kannada49char/data/train/39/img409-023.png\n/kaggle/input/kannada49char/data/train/39/img409-002.png\n/kaggle/input/kannada49char/data/train/39/img409-020.png\n/kaggle/input/kannada49char/data/train/39/img409-025.png\n/kaggle/input/kannada49char/data/train/39/img409-019.png\n/kaggle/input/kannada49char/data/train/39/img409-017.png\n/kaggle/input/kannada49char/data/train/39/img409-006.png\n/kaggle/input/kannada49char/data/train/39/img409-012.png\n/kaggle/input/kannada49char/data/train/39/img409-007.png\n/kaggle/input/kannada49char/data/train/39/img409-005.png\n/kaggle/input/kannada49char/data/train/39/img409-018.png\n/kaggle/input/kannada49char/data/train/39/img409-022.png\n/kaggle/input/kannada49char/data/train/39/img409-008.png\n/kaggle/input/kannada49char/data/train/39/img409-009.png\n/kaggle/input/kannada49char/data/train/39/img409-014.png\n/kaggle/input/kannada49char/data/train/39/img409-011.png\n/kaggle/input/kannada49char/data/train/39/img409-001.png\n/kaggle/input/kannada49char/data/train/32/img290-018.png\n/kaggle/input/kannada49char/data/train/32/img290-023.png\n/kaggle/input/kannada49char/data/train/32/img290-013.png\n/kaggle/input/kannada49char/data/train/32/img290-012.png\n/kaggle/input/kannada49char/data/train/32/img290-011.png\n/kaggle/input/kannada49char/data/train/32/img290-002.png\n/kaggle/input/kannada49char/data/train/32/img290-017.png\n/kaggle/input/kannada49char/data/train/32/img290-010.png\n/kaggle/input/kannada49char/data/train/32/img290-022.png\n/kaggle/input/kannada49char/data/train/32/img290-015.png\n/kaggle/input/kannada49char/data/train/32/img290-021.png\n/kaggle/input/kannada49char/data/train/32/img290-019.png\n/kaggle/input/kannada49char/data/train/32/img290-016.png\n/kaggle/input/kannada49char/data/train/32/img290-025.png\n/kaggle/input/kannada49char/data/train/32/img290-007.png\n/kaggle/input/kannada49char/data/train/32/img290-020.png\n/kaggle/input/kannada49char/data/train/32/img290-005.png\n/kaggle/input/kannada49char/data/train/32/img290-004.png\n/kaggle/input/kannada49char/data/train/32/img290-008.png\n/kaggle/input/kannada49char/data/train/32/img290-009.png\n/kaggle/input/kannada49char/data/train/32/img290-006.png\n/kaggle/input/kannada49char/data/train/32/img290-003.png\n/kaggle/input/kannada49char/data/train/32/img290-001.png\n/kaggle/input/kannada49char/data/train/25/img171-017.png\n/kaggle/input/kannada49char/data/train/25/img171-002.png\n/kaggle/input/kannada49char/data/train/25/img171-010.png\n/kaggle/input/kannada49char/data/train/25/img171-012.png\n/kaggle/input/kannada49char/data/train/25/img171-020.png\n/kaggle/input/kannada49char/data/train/25/img171-018.png\n/kaggle/input/kannada49char/data/train/25/img171-023.png\n/kaggle/input/kannada49char/data/train/25/img171-022.png\n/kaggle/input/kannada49char/data/train/25/img171-025.png\n/kaggle/input/kannada49char/data/train/25/img171-005.png\n/kaggle/input/kannada49char/data/train/25/img171-021.png\n/kaggle/input/kannada49char/data/train/25/img171-024.png\n/kaggle/input/kannada49char/data/train/25/img171-007.png\n/kaggle/input/kannada49char/data/train/25/img171-011.png\n/kaggle/input/kannada49char/data/train/25/img171-016.png\n/kaggle/input/kannada49char/data/train/25/img171-015.png\n/kaggle/input/kannada49char/data/train/25/img171-009.png\n/kaggle/input/kannada49char/data/train/25/img171-008.png\n/kaggle/input/kannada49char/data/train/42/img460-008.png\n/kaggle/input/kannada49char/data/train/42/img460-020.png\n/kaggle/input/kannada49char/data/train/42/img460-023.png\n/kaggle/input/kannada49char/data/train/42/img460-025.png\n/kaggle/input/kannada49char/data/train/42/img460-002.png\n/kaggle/input/kannada49char/data/train/42/img460-010.png\n/kaggle/input/kannada49char/data/train/42/img460-009.png\n/kaggle/input/kannada49char/data/train/42/img460-016.png\n/kaggle/input/kannada49char/data/train/42/img460-003.png\n/kaggle/input/kannada49char/data/train/42/img460-014.png\n/kaggle/input/kannada49char/data/train/42/img460-017.png\n/kaggle/input/kannada49char/data/train/42/img460-011.png\n/kaggle/input/kannada49char/data/train/42/img460-005.png\n/kaggle/input/kannada49char/data/train/42/img460-012.png\n/kaggle/input/kannada49char/data/train/42/img460-019.png\n/kaggle/input/kannada49char/data/train/42/img460-001.png\n/kaggle/input/kannada49char/data/train/42/img460-022.png\n/kaggle/input/kannada49char/data/train/42/img460-006.png\n/kaggle/input/kannada49char/data/train/42/img460-021.png\n/kaggle/input/kannada49char/data/train/42/img460-015.png\n/kaggle/input/kannada49char/data/train/42/img460-013.png\n/kaggle/input/kannada49char/data/train/42/img460-004.png\n/kaggle/input/kannada49char/data/train/8/img009-021.png\n/kaggle/input/kannada49char/data/train/8/img009-004.png\n/kaggle/input/kannada49char/data/train/8/img009-003.png\n/kaggle/input/kannada49char/data/train/8/img009-023.png\n/kaggle/input/kannada49char/data/train/8/img009-014.png\n/kaggle/input/kannada49char/data/train/8/img009-019.png\n/kaggle/input/kannada49char/data/train/8/img009-002.png\n/kaggle/input/kannada49char/data/train/8/img009-020.png\n/kaggle/input/kannada49char/data/train/8/img009-008.png\n/kaggle/input/kannada49char/data/train/8/img009-018.png\n/kaggle/input/kannada49char/data/train/8/img009-001.png\n/kaggle/input/kannada49char/data/train/8/img009-013.png\n/kaggle/input/kannada49char/data/train/8/img009-017.png\n/kaggle/input/kannada49char/data/train/8/img009-010.png\n/kaggle/input/kannada49char/data/train/8/img009-022.png\n/kaggle/input/kannada49char/data/train/8/img009-011.png\n/kaggle/input/kannada49char/data/train/8/img009-025.png\n/kaggle/input/kannada49char/data/train/8/img009-006.png\n/kaggle/input/kannada49char/data/train/8/img009-005.png\n/kaggle/input/kannada49char/data/train/8/img009-016.png\n/kaggle/input/kannada49char/data/train/8/img009-024.png\n/kaggle/input/kannada49char/data/train/8/img009-015.png\n/kaggle/input/kannada49char/data/train/8/img009-007.png\n/kaggle/input/kannada49char/data/train/38/img392-002.png\n/kaggle/input/kannada49char/data/train/38/img392-025.png\n/kaggle/input/kannada49char/data/train/38/img392-012.png\n/kaggle/input/kannada49char/data/train/38/img392-022.png\n/kaggle/input/kannada49char/data/train/38/img392-001.png\n/kaggle/input/kannada49char/data/train/38/img392-009.png\n/kaggle/input/kannada49char/data/train/38/img392-014.png\n/kaggle/input/kannada49char/data/train/38/img392-007.png\n/kaggle/input/kannada49char/data/train/38/img392-021.png\n/kaggle/input/kannada49char/data/train/38/img392-018.png\n/kaggle/input/kannada49char/data/train/38/img392-004.png\n/kaggle/input/kannada49char/data/train/38/img392-010.png\n/kaggle/input/kannada49char/data/train/38/img392-015.png\n/kaggle/input/kannada49char/data/train/38/img392-024.png\n/kaggle/input/kannada49char/data/train/38/img392-019.png\n/kaggle/input/kannada49char/data/train/38/img392-006.png\n/kaggle/input/kannada49char/data/train/38/img392-008.png\n/kaggle/input/kannada49char/data/train/38/img392-003.png\n/kaggle/input/kannada49char/data/train/38/img392-020.png\n/kaggle/input/kannada49char/data/train/38/img392-013.png\n/kaggle/input/kannada49char/data/train/38/img392-005.png\n/kaggle/input/kannada49char/data/train/38/img392-023.png\n/kaggle/input/kannada49char/data/train/38/img392-017.png\n/kaggle/input/kannada49char/data/train/12/img013-015.png\n/kaggle/input/kannada49char/data/train/12/img013-018.png\n/kaggle/input/kannada49char/data/train/12/img013-005.png\n/kaggle/input/kannada49char/data/train/12/img013-025.png\n/kaggle/input/kannada49char/data/train/12/img013-024.png\n/kaggle/input/kannada49char/data/train/12/img013-016.png\n/kaggle/input/kannada49char/data/train/12/img013-008.png\n/kaggle/input/kannada49char/data/train/12/img013-011.png\n/kaggle/input/kannada49char/data/train/12/img013-023.png\n/kaggle/input/kannada49char/data/train/12/img013-009.png\n/kaggle/input/kannada49char/data/train/12/img013-013.png\n/kaggle/input/kannada49char/data/train/12/img013-022.png\n/kaggle/input/kannada49char/data/train/12/img013-019.png\n/kaggle/input/kannada49char/data/train/12/img013-002.png\n/kaggle/input/kannada49char/data/train/12/img013-004.png\n/kaggle/input/kannada49char/data/train/12/img013-010.png\n/kaggle/input/kannada49char/data/train/12/img013-017.png\n/kaggle/input/kannada49char/data/train/12/img013-007.png\n/kaggle/input/kannada49char/data/train/12/img013-003.png\n/kaggle/input/kannada49char/data/train/12/img013-021.png\n/kaggle/input/kannada49char/data/train/12/img013-001.png\n/kaggle/input/kannada49char/data/train/12/img013-020.png\n/kaggle/input/kannada49char/data/train/49/img613-009.png\n/kaggle/input/kannada49char/data/train/49/img613-018.png\n/kaggle/input/kannada49char/data/train/49/img613-021.png\n/kaggle/input/kannada49char/data/train/49/img613-006.png\n/kaggle/input/kannada49char/data/train/49/img613-010.png\n/kaggle/input/kannada49char/data/train/49/img613-008.png\n/kaggle/input/kannada49char/data/train/49/img613-004.png\n/kaggle/input/kannada49char/data/train/49/img613-011.png\n/kaggle/input/kannada49char/data/train/49/img613-005.png\n/kaggle/input/kannada49char/data/train/49/img613-019.png\n/kaggle/input/kannada49char/data/train/49/img613-001.png\n/kaggle/input/kannada49char/data/train/49/img613-025.png\n/kaggle/input/kannada49char/data/train/49/img613-013.png\n/kaggle/input/kannada49char/data/train/49/img613-022.png\n/kaggle/input/kannada49char/data/train/49/img613-017.png\n/kaggle/input/kannada49char/data/train/49/img613-003.png\n/kaggle/input/kannada49char/data/train/49/img613-015.png\n/kaggle/input/kannada49char/data/train/49/img613-016.png\n/kaggle/input/kannada49char/data/train/49/img613-023.png\n/kaggle/input/kannada49char/data/train/49/img613-020.png\n/kaggle/input/kannada49char/data/train/49/img613-012.png\n/kaggle/input/kannada49char/data/train/0/img001-022.png\n/kaggle/input/kannada49char/data/train/0/img001-004.png\n/kaggle/input/kannada49char/data/train/0/img001-001.png\n/kaggle/input/kannada49char/data/train/0/img001-006.png\n/kaggle/input/kannada49char/data/train/0/img001-005.png\n/kaggle/input/kannada49char/data/train/0/img001-021.png\n/kaggle/input/kannada49char/data/train/0/img001-007.png\n/kaggle/input/kannada49char/data/train/0/img001-014.png\n/kaggle/input/kannada49char/data/train/0/img001-015.png\n/kaggle/input/kannada49char/data/train/0/img001-009.png\n/kaggle/input/kannada49char/data/train/0/img001-016.png\n/kaggle/input/kannada49char/data/train/0/img001-023.png\n/kaggle/input/kannada49char/data/train/0/img001-008.png\n/kaggle/input/kannada49char/data/train/0/img001-003.png\n/kaggle/input/kannada49char/data/train/0/img001-024.png\n/kaggle/input/kannada49char/data/train/0/img001-013.png\n/kaggle/input/kannada49char/data/train/0/img001-017.png\n/kaggle/input/kannada49char/data/train/0/img001-025.png\n/kaggle/input/kannada49char/data/train/0/img001-019.png\n/kaggle/input/kannada49char/data/train/0/img001-011.png\n/kaggle/input/kannada49char/data/train/0/img001-018.png\n/kaggle/input/kannada49char/data/train/31/img273-025.png\n/kaggle/input/kannada49char/data/train/31/img273-001.png\n/kaggle/input/kannada49char/data/train/31/img273-022.png\n/kaggle/input/kannada49char/data/train/31/img273-023.png\n/kaggle/input/kannada49char/data/train/31/img273-004.png\n/kaggle/input/kannada49char/data/train/31/img273-019.png\n/kaggle/input/kannada49char/data/train/31/img273-013.png\n/kaggle/input/kannada49char/data/train/31/img273-018.png\n/kaggle/input/kannada49char/data/train/31/img273-005.png\n/kaggle/input/kannada49char/data/train/31/img273-014.png\n/kaggle/input/kannada49char/data/train/31/img273-010.png\n/kaggle/input/kannada49char/data/train/31/img273-003.png\n/kaggle/input/kannada49char/data/train/31/img273-007.png\n/kaggle/input/kannada49char/data/train/31/img273-021.png\n/kaggle/input/kannada49char/data/train/31/img273-012.png\n/kaggle/input/kannada49char/data/train/31/img273-011.png\n/kaggle/input/kannada49char/data/train/31/img273-020.png\n/kaggle/input/kannada49char/data/train/31/img273-002.png\n/kaggle/input/kannada49char/data/train/31/img273-015.png\n/kaggle/input/kannada49char/data/train/31/img273-016.png\n/kaggle/input/kannada49char/data/train/31/img273-017.png\n/kaggle/input/kannada49char/data/train/31/img273-006.png\n/kaggle/input/kannada49char/data/train/31/img273-008.png\n/kaggle/input/kannada49char/data/train/34/img324-003.png\n/kaggle/input/kannada49char/data/train/34/img324-011.png\n/kaggle/input/kannada49char/data/train/34/img324-001.png\n/kaggle/input/kannada49char/data/train/34/img324-012.png\n/kaggle/input/kannada49char/data/train/34/img324-009.png\n/kaggle/input/kannada49char/data/train/34/img324-022.png\n/kaggle/input/kannada49char/data/train/34/img324-024.png\n/kaggle/input/kannada49char/data/train/34/img324-014.png\n/kaggle/input/kannada49char/data/train/34/img324-002.png\n/kaggle/input/kannada49char/data/train/34/img324-020.png\n/kaggle/input/kannada49char/data/train/34/img324-013.png\n/kaggle/input/kannada49char/data/train/34/img324-010.png\n/kaggle/input/kannada49char/data/train/34/img324-015.png\n/kaggle/input/kannada49char/data/train/34/img324-006.png\n/kaggle/input/kannada49char/data/train/34/img324-018.png\n/kaggle/input/kannada49char/data/train/34/img324-017.png\n/kaggle/input/kannada49char/data/train/34/img324-007.png\n/kaggle/input/kannada49char/data/train/34/img324-004.png\n/kaggle/input/kannada49char/data/train/34/img324-021.png\n/kaggle/input/kannada49char/data/train/34/img324-008.png\n/kaggle/input/kannada49char/data/train/18/img052-023.png\n/kaggle/input/kannada49char/data/train/18/img052-001.png\n/kaggle/input/kannada49char/data/train/18/img052-024.png\n/kaggle/input/kannada49char/data/train/18/img052-006.png\n/kaggle/input/kannada49char/data/train/18/img052-012.png\n/kaggle/input/kannada49char/data/train/18/img052-016.png\n/kaggle/input/kannada49char/data/train/18/img052-005.png\n/kaggle/input/kannada49char/data/train/18/img052-019.png\n/kaggle/input/kannada49char/data/train/18/img052-021.png\n/kaggle/input/kannada49char/data/train/18/img052-025.png\n/kaggle/input/kannada49char/data/train/18/img052-007.png\n/kaggle/input/kannada49char/data/train/18/img052-008.png\n/kaggle/input/kannada49char/data/train/18/img052-018.png\n/kaggle/input/kannada49char/data/train/18/img052-014.png\n/kaggle/input/kannada49char/data/train/18/img052-002.png\n/kaggle/input/kannada49char/data/train/18/img052-017.png\n/kaggle/input/kannada49char/data/train/18/img052-022.png\n/kaggle/input/kannada49char/data/train/18/img052-011.png\n/kaggle/input/kannada49char/data/train/18/img052-020.png\n/kaggle/input/kannada49char/data/train/18/img052-013.png\n/kaggle/input/kannada49char/data/train/18/img052-004.png\n/kaggle/input/kannada49char/data/train/18/img052-015.png\n/kaggle/input/kannada49char/data/train/28/img222-004.png\n/kaggle/input/kannada49char/data/train/28/img222-019.png\n/kaggle/input/kannada49char/data/train/28/img222-010.png\n/kaggle/input/kannada49char/data/train/28/img222-005.png\n/kaggle/input/kannada49char/data/train/28/img222-009.png\n/kaggle/input/kannada49char/data/train/28/img222-025.png\n/kaggle/input/kannada49char/data/train/28/img222-011.png\n/kaggle/input/kannada49char/data/train/28/img222-003.png\n/kaggle/input/kannada49char/data/train/28/img222-012.png\n/kaggle/input/kannada49char/data/train/28/img222-002.png\n/kaggle/input/kannada49char/data/train/28/img222-016.png\n/kaggle/input/kannada49char/data/train/28/img222-013.png\n/kaggle/input/kannada49char/data/train/28/img222-001.png\n/kaggle/input/kannada49char/data/train/28/img222-021.png\n/kaggle/input/kannada49char/data/train/28/img222-008.png\n/kaggle/input/kannada49char/data/train/28/img222-020.png\n/kaggle/input/kannada49char/data/train/28/img222-022.png\n/kaggle/input/kannada49char/data/train/28/img222-017.png\n/kaggle/input/kannada49char/data/train/28/img222-007.png\n/kaggle/input/kannada49char/data/train/28/img222-024.png\n/kaggle/input/kannada49char/data/train/28/img222-015.png\n/kaggle/input/kannada49char/data/train/16/img018-020.png\n/kaggle/input/kannada49char/data/train/16/img018-019.png\n/kaggle/input/kannada49char/data/train/16/img018-018.png\n/kaggle/input/kannada49char/data/train/16/img018-017.png\n/kaggle/input/kannada49char/data/train/16/img018-015.png\n/kaggle/input/kannada49char/data/train/16/img018-022.png\n/kaggle/input/kannada49char/data/train/16/img018-011.png\n/kaggle/input/kannada49char/data/train/16/img018-007.png\n/kaggle/input/kannada49char/data/train/16/img018-009.png\n/kaggle/input/kannada49char/data/train/16/img018-002.png\n/kaggle/input/kannada49char/data/train/16/img018-004.png\n/kaggle/input/kannada49char/data/train/16/img018-006.png\n/kaggle/input/kannada49char/data/train/16/img018-010.png\n/kaggle/input/kannada49char/data/train/16/img018-021.png\n/kaggle/input/kannada49char/data/train/16/img018-003.png\n/kaggle/input/kannada49char/data/train/16/img018-008.png\n/kaggle/input/kannada49char/data/train/16/img018-005.png\n/kaggle/input/kannada49char/data/train/16/img018-001.png\n/kaggle/input/kannada49char/data/train/16/img018-016.png\n/kaggle/input/kannada49char/data/train/16/img018-025.png\n/kaggle/input/kannada49char/data/train/13/img014-025.png\n/kaggle/input/kannada49char/data/train/13/img014-023.png\n/kaggle/input/kannada49char/data/train/13/img014-011.png\n/kaggle/input/kannada49char/data/train/13/img014-015.png\n/kaggle/input/kannada49char/data/train/13/img014-003.png\n/kaggle/input/kannada49char/data/train/13/img014-002.png\n/kaggle/input/kannada49char/data/train/13/img014-009.png\n/kaggle/input/kannada49char/data/train/13/img014-001.png\n/kaggle/input/kannada49char/data/train/13/img014-007.png\n/kaggle/input/kannada49char/data/train/13/img014-013.png\n/kaggle/input/kannada49char/data/train/13/img014-020.png\n/kaggle/input/kannada49char/data/train/13/img014-016.png\n/kaggle/input/kannada49char/data/train/13/img014-008.png\n/kaggle/input/kannada49char/data/train/13/img014-004.png\n/kaggle/input/kannada49char/data/train/13/img014-021.png\n/kaggle/input/kannada49char/data/train/13/img014-022.png\n/kaggle/input/kannada49char/data/train/13/img014-018.png\n/kaggle/input/kannada49char/data/train/13/img014-014.png\n/kaggle/input/kannada49char/data/train/13/img014-005.png\n/kaggle/input/kannada49char/data/train/13/img014-024.png\n/kaggle/input/kannada49char/data/train/13/img014-006.png\n/kaggle/input/kannada49char/data/train/13/img014-010.png\n/kaggle/input/kannada49char/data/train/26/img188-015.png\n/kaggle/input/kannada49char/data/train/26/img188-014.png\n/kaggle/input/kannada49char/data/train/26/img188-009.png\n/kaggle/input/kannada49char/data/train/26/img188-007.png\n/kaggle/input/kannada49char/data/train/26/img188-005.png\n/kaggle/input/kannada49char/data/train/26/img188-004.png\n/kaggle/input/kannada49char/data/train/26/img188-024.png\n/kaggle/input/kannada49char/data/train/26/img188-003.png\n/kaggle/input/kannada49char/data/train/26/img188-022.png\n/kaggle/input/kannada49char/data/train/26/img188-002.png\n/kaggle/input/kannada49char/data/train/26/img188-013.png\n/kaggle/input/kannada49char/data/train/26/img188-016.png\n/kaggle/input/kannada49char/data/train/26/img188-017.png\n/kaggle/input/kannada49char/data/train/26/img188-008.png\n/kaggle/input/kannada49char/data/train/26/img188-021.png\n/kaggle/input/kannada49char/data/train/26/img188-012.png\n/kaggle/input/kannada49char/data/train/26/img188-001.png\n/kaggle/input/kannada49char/data/train/26/img188-011.png\n/kaggle/input/kannada49char/data/train/26/img188-025.png\n/kaggle/input/kannada49char/data/train/26/img188-020.png\n/kaggle/input/kannada49char/data/train/26/img188-018.png\n/kaggle/input/kannada49char/data/train/26/img188-023.png\n/kaggle/input/kannada49char/data/train/26/img188-010.png\n/kaggle/input/kannada49char/data/train/15/img016-014.png\n/kaggle/input/kannada49char/data/train/15/img016-005.png\n/kaggle/input/kannada49char/data/train/15/img016-015.png\n/kaggle/input/kannada49char/data/train/15/img016-019.png\n/kaggle/input/kannada49char/data/train/15/img016-021.png\n/kaggle/input/kannada49char/data/train/15/img016-010.png\n/kaggle/input/kannada49char/data/train/15/img016-023.png\n/kaggle/input/kannada49char/data/train/15/img016-001.png\n/kaggle/input/kannada49char/data/train/15/img016-011.png\n/kaggle/input/kannada49char/data/train/15/img016-013.png\n/kaggle/input/kannada49char/data/train/15/img016-007.png\n/kaggle/input/kannada49char/data/train/15/img016-003.png\n/kaggle/input/kannada49char/data/train/15/img016-020.png\n/kaggle/input/kannada49char/data/train/15/img016-022.png\n/kaggle/input/kannada49char/data/train/15/img016-017.png\n/kaggle/input/kannada49char/data/train/15/img016-009.png\n/kaggle/input/kannada49char/data/train/15/img016-018.png\n/kaggle/input/kannada49char/data/train/15/img016-012.png\n/kaggle/input/kannada49char/data/train/15/img016-002.png\n/kaggle/input/kannada49char/data/train/15/img016-025.png\n/kaggle/input/kannada49char/data/train/15/img016-016.png\n/kaggle/input/kannada49char/data/train/3/img004-017.png\n/kaggle/input/kannada49char/data/train/3/img004-024.png\n/kaggle/input/kannada49char/data/train/3/img004-013.png\n/kaggle/input/kannada49char/data/train/3/img004-018.png\n/kaggle/input/kannada49char/data/train/3/img004-006.png\n/kaggle/input/kannada49char/data/train/3/img004-023.png\n/kaggle/input/kannada49char/data/train/3/img004-002.png\n/kaggle/input/kannada49char/data/train/3/img004-010.png\n/kaggle/input/kannada49char/data/train/3/img004-022.png\n/kaggle/input/kannada49char/data/train/3/img004-012.png\n/kaggle/input/kannada49char/data/train/3/img004-008.png\n/kaggle/input/kannada49char/data/train/3/img004-020.png\n/kaggle/input/kannada49char/data/train/3/img004-005.png\n/kaggle/input/kannada49char/data/train/3/img004-004.png\n/kaggle/input/kannada49char/data/train/3/img004-003.png\n/kaggle/input/kannada49char/data/train/3/img004-007.png\n/kaggle/input/kannada49char/data/train/3/img004-019.png\n/kaggle/input/kannada49char/data/train/3/img004-025.png\n/kaggle/input/kannada49char/data/train/3/img004-011.png\n/kaggle/input/kannada49char/data/train/43/img494-010.png\n/kaggle/input/kannada49char/data/train/43/img494-022.png\n/kaggle/input/kannada49char/data/train/43/img494-004.png\n/kaggle/input/kannada49char/data/train/43/img494-025.png\n/kaggle/input/kannada49char/data/train/43/img494-015.png\n/kaggle/input/kannada49char/data/train/43/img494-005.png\n/kaggle/input/kannada49char/data/train/43/img494-011.png\n/kaggle/input/kannada49char/data/train/43/img494-006.png\n/kaggle/input/kannada49char/data/train/43/img494-019.png\n/kaggle/input/kannada49char/data/train/43/img494-018.png\n/kaggle/input/kannada49char/data/train/43/img494-016.png\n/kaggle/input/kannada49char/data/train/43/img494-001.png\n/kaggle/input/kannada49char/data/train/43/img494-023.png\n/kaggle/input/kannada49char/data/train/43/img494-013.png\n/kaggle/input/kannada49char/data/train/43/img494-020.png\n/kaggle/input/kannada49char/data/train/43/img494-017.png\n/kaggle/input/kannada49char/data/train/43/img494-002.png\n/kaggle/input/kannada49char/data/train/43/img494-012.png\n/kaggle/input/kannada49char/data/train/43/img494-003.png\n/kaggle/input/kannada49char/data/train/43/img494-024.png\n/kaggle/input/kannada49char/data/train/43/img494-007.png\n/kaggle/input/kannada49char/data/train/43/img494-008.png\n/kaggle/input/kannada49char/data/train/43/img494-009.png\n/kaggle/input/kannada49char/data/train/43/img494-021.png\n/kaggle/input/kannada49char/data/train/43/img494-014.png\n/kaggle/input/kannada49char/data/train/1/img002-008.png\n/kaggle/input/kannada49char/data/train/1/img002-010.png\n/kaggle/input/kannada49char/data/train/1/img002-003.png\n/kaggle/input/kannada49char/data/train/1/img002-009.png\n/kaggle/input/kannada49char/data/train/1/img002-025.png\n/kaggle/input/kannada49char/data/train/1/img002-024.png\n/kaggle/input/kannada49char/data/train/1/img002-019.png\n/kaggle/input/kannada49char/data/train/1/img002-001.png\n/kaggle/input/kannada49char/data/train/1/img002-015.png\n/kaggle/input/kannada49char/data/train/1/img002-007.png\n/kaggle/input/kannada49char/data/train/1/img002-002.png\n/kaggle/input/kannada49char/data/train/1/img002-018.png\n/kaggle/input/kannada49char/data/train/1/img002-011.png\n/kaggle/input/kannada49char/data/train/1/img002-012.png\n/kaggle/input/kannada49char/data/train/1/img002-006.png\n/kaggle/input/kannada49char/data/train/1/img002-017.png\n/kaggle/input/kannada49char/data/train/1/img002-004.png\n/kaggle/input/kannada49char/data/train/1/img002-022.png\n/kaggle/input/kannada49char/data/train/1/img002-013.png\n/kaggle/input/kannada49char/data/train/1/img002-021.png\n/kaggle/input/kannada49char/data/train/1/img002-020.png\n/kaggle/input/kannada49char/data/train/1/img002-016.png\n/kaggle/input/kannada49char/data/train/1/img002-023.png\n/kaggle/input/kannada49char/data/train/30/img256-020.png\n/kaggle/input/kannada49char/data/train/30/img256-007.png\n/kaggle/input/kannada49char/data/train/30/img256-009.png\n/kaggle/input/kannada49char/data/train/30/img256-025.png\n/kaggle/input/kannada49char/data/train/30/img256-023.png\n/kaggle/input/kannada49char/data/train/30/img256-003.png\n/kaggle/input/kannada49char/data/train/30/img256-012.png\n/kaggle/input/kannada49char/data/train/30/img256-018.png\n/kaggle/input/kannada49char/data/train/30/img256-014.png\n/kaggle/input/kannada49char/data/train/30/img256-017.png\n/kaggle/input/kannada49char/data/train/30/img256-024.png\n/kaggle/input/kannada49char/data/train/30/img256-001.png\n/kaggle/input/kannada49char/data/train/30/img256-008.png\n/kaggle/input/kannada49char/data/train/30/img256-005.png\n/kaggle/input/kannada49char/data/train/30/img256-006.png\n/kaggle/input/kannada49char/data/train/30/img256-019.png\n/kaggle/input/kannada49char/data/train/30/img256-010.png\n/kaggle/input/kannada49char/data/train/30/img256-021.png\n/kaggle/input/kannada49char/data/train/30/img256-022.png\n/kaggle/input/kannada49char/data/train/30/img256-011.png\n/kaggle/input/kannada49char/data/train/30/img256-016.png\n/kaggle/input/kannada49char/data/train/30/img256-013.png\n/kaggle/input/kannada49char/data/train/14/img015-007.png\n/kaggle/input/kannada49char/data/train/14/img015-008.png\n/kaggle/input/kannada49char/data/train/14/img015-023.png\n/kaggle/input/kannada49char/data/train/14/img015-006.png\n/kaggle/input/kannada49char/data/train/14/img015-013.png\n/kaggle/input/kannada49char/data/train/14/img015-002.png\n/kaggle/input/kannada49char/data/train/14/img015-003.png\n/kaggle/input/kannada49char/data/train/14/img015-014.png\n/kaggle/input/kannada49char/data/train/14/img015-017.png\n/kaggle/input/kannada49char/data/train/14/img015-025.png\n/kaggle/input/kannada49char/data/train/14/img015-012.png\n/kaggle/input/kannada49char/data/train/14/img015-020.png\n/kaggle/input/kannada49char/data/train/14/img015-022.png\n/kaggle/input/kannada49char/data/train/14/img015-004.png\n/kaggle/input/kannada49char/data/train/14/img015-024.png\n/kaggle/input/kannada49char/data/train/14/img015-010.png\n/kaggle/input/kannada49char/data/train/14/img015-015.png\n/kaggle/input/kannada49char/data/train/14/img015-011.png\n/kaggle/input/kannada49char/data/train/14/img015-021.png\n/kaggle/input/kannada49char/data/train/14/img015-019.png\n/kaggle/input/kannada49char/data/train/14/img015-001.png\n/kaggle/input/kannada49char/data/train/14/img015-018.png\n/kaggle/input/kannada49char/data/train/14/img015-016.png\n/kaggle/input/kannada49char/data/train/4/img005-017.png\n/kaggle/input/kannada49char/data/train/4/img005-004.png\n/kaggle/input/kannada49char/data/train/4/img005-010.png\n/kaggle/input/kannada49char/data/train/4/img005-009.png\n/kaggle/input/kannada49char/data/train/4/img005-014.png\n/kaggle/input/kannada49char/data/train/4/img005-016.png\n/kaggle/input/kannada49char/data/train/4/img005-011.png\n/kaggle/input/kannada49char/data/train/4/img005-013.png\n/kaggle/input/kannada49char/data/train/4/img005-006.png\n/kaggle/input/kannada49char/data/train/4/img005-012.png\n/kaggle/input/kannada49char/data/train/4/img005-008.png\n/kaggle/input/kannada49char/data/train/4/img005-024.png\n/kaggle/input/kannada49char/data/train/4/img005-020.png\n/kaggle/input/kannada49char/data/train/4/img005-001.png\n/kaggle/input/kannada49char/data/train/4/img005-022.png\n/kaggle/input/kannada49char/data/train/4/img005-003.png\n/kaggle/input/kannada49char/data/train/4/img005-025.png\n/kaggle/input/kannada49char/data/train/4/img005-021.png\n/kaggle/input/kannada49char/data/train/4/img005-015.png\n/kaggle/input/kannada49char/data/train/4/img005-019.png\n/kaggle/input/kannada49char/data/train/4/img005-005.png\n/kaggle/input/kannada49char/data/train/9/img010-014.png\n/kaggle/input/kannada49char/data/train/9/img010-013.png\n/kaggle/input/kannada49char/data/train/9/img010-025.png\n/kaggle/input/kannada49char/data/train/9/img010-006.png\n/kaggle/input/kannada49char/data/train/9/img010-001.png\n/kaggle/input/kannada49char/data/train/9/img010-021.png\n/kaggle/input/kannada49char/data/train/9/img010-018.png\n/kaggle/input/kannada49char/data/train/9/img010-017.png\n/kaggle/input/kannada49char/data/train/9/img010-002.png\n/kaggle/input/kannada49char/data/train/9/img010-019.png\n/kaggle/input/kannada49char/data/train/9/img010-020.png\n/kaggle/input/kannada49char/data/train/9/img010-016.png\n/kaggle/input/kannada49char/data/train/9/img010-008.png\n/kaggle/input/kannada49char/data/train/9/img010-023.png\n/kaggle/input/kannada49char/data/train/9/img010-012.png\n/kaggle/input/kannada49char/data/train/9/img010-004.png\n/kaggle/input/kannada49char/data/train/9/img010-010.png\n/kaggle/input/kannada49char/data/train/46/img562-010.png\n/kaggle/input/kannada49char/data/train/46/img562-022.png\n/kaggle/input/kannada49char/data/train/46/img562-004.png\n/kaggle/input/kannada49char/data/train/46/img562-024.png\n/kaggle/input/kannada49char/data/train/46/img562-008.png\n/kaggle/input/kannada49char/data/train/46/img562-023.png\n/kaggle/input/kannada49char/data/train/46/img562-001.png\n/kaggle/input/kannada49char/data/train/46/img562-011.png\n/kaggle/input/kannada49char/data/train/46/img562-002.png\n/kaggle/input/kannada49char/data/train/46/img562-019.png\n/kaggle/input/kannada49char/data/train/46/img562-021.png\n/kaggle/input/kannada49char/data/train/46/img562-005.png\n/kaggle/input/kannada49char/data/train/46/img562-003.png\n/kaggle/input/kannada49char/data/train/46/img562-007.png\n/kaggle/input/kannada49char/data/train/46/img562-016.png\n/kaggle/input/kannada49char/data/train/46/img562-006.png\n/kaggle/input/kannada49char/data/train/46/img562-013.png\n/kaggle/input/kannada49char/data/train/46/img562-025.png\n/kaggle/input/kannada49char/data/train/46/img562-015.png\n/kaggle/input/kannada49char/data/train/46/img562-017.png\n/kaggle/input/kannada49char/data/train/21/img103-013.png\n/kaggle/input/kannada49char/data/train/21/img103-011.png\n/kaggle/input/kannada49char/data/train/21/img103-023.png\n/kaggle/input/kannada49char/data/train/21/img103-012.png\n/kaggle/input/kannada49char/data/train/21/img103-002.png\n/kaggle/input/kannada49char/data/train/21/img103-017.png\n/kaggle/input/kannada49char/data/train/21/img103-024.png\n/kaggle/input/kannada49char/data/train/21/img103-008.png\n/kaggle/input/kannada49char/data/train/21/img103-004.png\n/kaggle/input/kannada49char/data/train/21/img103-019.png\n/kaggle/input/kannada49char/data/train/21/img103-006.png\n/kaggle/input/kannada49char/data/train/21/img103-005.png\n/kaggle/input/kannada49char/data/train/21/img103-007.png\n/kaggle/input/kannada49char/data/train/21/img103-025.png\n/kaggle/input/kannada49char/data/train/21/img103-003.png\n/kaggle/input/kannada49char/data/train/21/img103-022.png\n/kaggle/input/kannada49char/data/train/21/img103-016.png\n/kaggle/input/kannada49char/data/train/21/img103-010.png\n/kaggle/input/kannada49char/data/train/21/img103-018.png\n/kaggle/input/kannada49char/data/train/21/img103-021.png\n/kaggle/input/kannada49char/data/train/44/img511-016.png\n/kaggle/input/kannada49char/data/train/44/img511-005.png\n/kaggle/input/kannada49char/data/train/44/img511-001.png\n/kaggle/input/kannada49char/data/train/44/img511-006.png\n/kaggle/input/kannada49char/data/train/44/img511-020.png\n/kaggle/input/kannada49char/data/train/44/img511-017.png\n/kaggle/input/kannada49char/data/train/44/img511-007.png\n/kaggle/input/kannada49char/data/train/44/img511-013.png\n/kaggle/input/kannada49char/data/train/44/img511-018.png\n/kaggle/input/kannada49char/data/train/44/img511-011.png\n/kaggle/input/kannada49char/data/train/44/img511-022.png\n/kaggle/input/kannada49char/data/train/44/img511-002.png\n/kaggle/input/kannada49char/data/train/44/img511-019.png\n/kaggle/input/kannada49char/data/train/44/img511-014.png\n/kaggle/input/kannada49char/data/train/44/img511-008.png\n/kaggle/input/kannada49char/data/train/44/img511-021.png\n/kaggle/input/kannada49char/data/train/44/img511-015.png\n/kaggle/input/kannada49char/data/train/44/img511-003.png\n/kaggle/input/kannada49char/data/train/44/img511-023.png\n/kaggle/input/kannada49char/data/train/44/img511-004.png\n/kaggle/input/kannada49char/data/train/44/img511-024.png\n/kaggle/input/kannada49char/data/train/44/img511-012.png\n/kaggle/input/kannada49char/data/train/40/img426-015.png\n/kaggle/input/kannada49char/data/train/40/img426-002.png\n/kaggle/input/kannada49char/data/train/40/img426-004.png\n/kaggle/input/kannada49char/data/train/40/img426-014.png\n/kaggle/input/kannada49char/data/train/40/img426-023.png\n/kaggle/input/kannada49char/data/train/40/img426-008.png\n/kaggle/input/kannada49char/data/train/40/img426-020.png\n/kaggle/input/kannada49char/data/train/40/img426-021.png\n/kaggle/input/kannada49char/data/train/40/img426-012.png\n/kaggle/input/kannada49char/data/train/40/img426-024.png\n/kaggle/input/kannada49char/data/train/40/img426-011.png\n/kaggle/input/kannada49char/data/train/40/img426-016.png\n/kaggle/input/kannada49char/data/train/40/img426-017.png\n/kaggle/input/kannada49char/data/train/40/img426-009.png\n/kaggle/input/kannada49char/data/train/40/img426-005.png\n/kaggle/input/kannada49char/data/train/40/img426-013.png\n/kaggle/input/kannada49char/data/train/40/img426-003.png\n/kaggle/input/kannada49char/data/train/40/img426-010.png\n/kaggle/input/kannada49char/data/train/40/img426-001.png\n/kaggle/input/kannada49char/data/train/6/img007-024.png\n/kaggle/input/kannada49char/data/train/6/img007-021.png\n/kaggle/input/kannada49char/data/train/6/img007-022.png\n/kaggle/input/kannada49char/data/train/6/img007-008.png\n/kaggle/input/kannada49char/data/train/6/img007-019.png\n/kaggle/input/kannada49char/data/train/6/img007-020.png\n/kaggle/input/kannada49char/data/train/6/img007-003.png\n/kaggle/input/kannada49char/data/train/6/img007-012.png\n/kaggle/input/kannada49char/data/train/6/img007-007.png\n/kaggle/input/kannada49char/data/train/6/img007-025.png\n/kaggle/input/kannada49char/data/train/6/img007-011.png\n/kaggle/input/kannada49char/data/train/6/img007-004.png\n/kaggle/input/kannada49char/data/train/6/img007-014.png\n/kaggle/input/kannada49char/data/train/6/img007-002.png\n/kaggle/input/kannada49char/data/train/6/img007-018.png\n/kaggle/input/kannada49char/data/train/6/img007-010.png\n/kaggle/input/kannada49char/data/train/6/img007-005.png\n/kaggle/input/kannada49char/data/train/6/img007-009.png\n/kaggle/input/kannada49char/data/train/6/img007-013.png\n/kaggle/input/kannada49char/data/train/6/img007-017.png\n/kaggle/input/kannada49char/data/train/11/img012-004.png\n/kaggle/input/kannada49char/data/train/11/img012-002.png\n/kaggle/input/kannada49char/data/train/11/img012-020.png\n/kaggle/input/kannada49char/data/train/11/img012-006.png\n/kaggle/input/kannada49char/data/train/11/img012-015.png\n/kaggle/input/kannada49char/data/train/11/img012-005.png\n/kaggle/input/kannada49char/data/train/11/img012-012.png\n/kaggle/input/kannada49char/data/train/11/img012-016.png\n/kaggle/input/kannada49char/data/train/11/img012-024.png\n/kaggle/input/kannada49char/data/train/11/img012-018.png\n/kaggle/input/kannada49char/data/train/11/img012-021.png\n/kaggle/input/kannada49char/data/train/11/img012-013.png\n/kaggle/input/kannada49char/data/train/11/img012-007.png\n/kaggle/input/kannada49char/data/train/11/img012-022.png\n/kaggle/input/kannada49char/data/train/11/img012-008.png\n/kaggle/input/kannada49char/data/train/11/img012-010.png\n/kaggle/input/kannada49char/data/train/11/img012-025.png\n/kaggle/input/kannada49char/data/train/11/img012-019.png\n/kaggle/input/kannada49char/data/train/11/img012-023.png\n/kaggle/input/kannada49char/data/train/11/img012-009.png\n/kaggle/input/kannada49char/data/train/11/img012-003.png\n/kaggle/input/kannada49char/data/train/11/img012-017.png\n/kaggle/input/kannada49char/data/train/11/img012-011.png\n/kaggle/input/kannada49char/data/train/37/img375-013.png\n/kaggle/input/kannada49char/data/train/37/img375-006.png\n/kaggle/input/kannada49char/data/train/37/img375-023.png\n/kaggle/input/kannada49char/data/train/37/img375-017.png\n/kaggle/input/kannada49char/data/train/37/img375-008.png\n/kaggle/input/kannada49char/data/train/37/img375-002.png\n/kaggle/input/kannada49char/data/train/37/img375-011.png\n/kaggle/input/kannada49char/data/train/37/img375-024.png\n/kaggle/input/kannada49char/data/train/37/img375-015.png\n/kaggle/input/kannada49char/data/train/37/img375-021.png\n/kaggle/input/kannada49char/data/train/37/img375-012.png\n/kaggle/input/kannada49char/data/train/37/img375-001.png\n/kaggle/input/kannada49char/data/train/37/img375-010.png\n/kaggle/input/kannada49char/data/train/37/img375-022.png\n/kaggle/input/kannada49char/data/train/37/img375-003.png\n/kaggle/input/kannada49char/data/train/37/img375-009.png\n/kaggle/input/kannada49char/data/train/37/img375-025.png\n/kaggle/input/kannada49char/data/train/37/img375-018.png\n/kaggle/input/kannada49char/data/train/37/img375-020.png\n/kaggle/input/kannada49char/data/train/37/img375-019.png\n/kaggle/input/kannada49char/data/train/37/img375-014.png\n/kaggle/input/kannada49char/data/train/33/img307-014.png\n/kaggle/input/kannada49char/data/train/33/img307-008.png\n/kaggle/input/kannada49char/data/train/33/img307-001.png\n/kaggle/input/kannada49char/data/train/33/img307-018.png\n/kaggle/input/kannada49char/data/train/33/img307-012.png\n/kaggle/input/kannada49char/data/train/33/img307-015.png\n/kaggle/input/kannada49char/data/train/33/img307-022.png\n/kaggle/input/kannada49char/data/train/33/img307-017.png\n/kaggle/input/kannada49char/data/train/33/img307-019.png\n/kaggle/input/kannada49char/data/train/33/img307-005.png\n/kaggle/input/kannada49char/data/train/33/img307-004.png\n/kaggle/input/kannada49char/data/train/33/img307-003.png\n/kaggle/input/kannada49char/data/train/33/img307-021.png\n/kaggle/input/kannada49char/data/train/33/img307-016.png\n/kaggle/input/kannada49char/data/train/33/img307-009.png\n/kaggle/input/kannada49char/data/train/33/img307-002.png\n/kaggle/input/kannada49char/data/train/33/img307-023.png\n/kaggle/input/kannada49char/data/train/33/img307-025.png\n/kaggle/input/kannada49char/data/train/33/img307-013.png\n/kaggle/input/kannada49char/data/train/33/img307-011.png\n/kaggle/input/kannada49char/data/train/33/img307-010.png\n/kaggle/input/kannada49char/data/train/33/img307-006.png\n/kaggle/input/kannada49char/data/train/48/img596-001.png\n/kaggle/input/kannada49char/data/train/48/img596-021.png\n/kaggle/input/kannada49char/data/train/48/img596-007.png\n/kaggle/input/kannada49char/data/train/48/img596-008.png\n/kaggle/input/kannada49char/data/train/48/img596-024.png\n/kaggle/input/kannada49char/data/train/48/img596-005.png\n/kaggle/input/kannada49char/data/train/48/img596-016.png\n/kaggle/input/kannada49char/data/train/48/img596-023.png\n/kaggle/input/kannada49char/data/train/48/img596-020.png\n/kaggle/input/kannada49char/data/train/48/img596-010.png\n/kaggle/input/kannada49char/data/train/48/img596-018.png\n/kaggle/input/kannada49char/data/train/48/img596-006.png\n/kaggle/input/kannada49char/data/train/48/img596-015.png\n/kaggle/input/kannada49char/data/train/48/img596-003.png\n/kaggle/input/kannada49char/data/train/48/img596-017.png\n/kaggle/input/kannada49char/data/train/48/img596-012.png\n/kaggle/input/kannada49char/data/train/48/img596-009.png\n/kaggle/input/kannada49char/data/train/48/img596-002.png\n/kaggle/input/kannada49char/data/train/48/img596-025.png\n/kaggle/input/kannada49char/data/train/48/img596-019.png\n/kaggle/input/kannada49char/data/train/48/img596-011.png\n/kaggle/input/kannada49char/data/train/48/img596-013.png\n/kaggle/input/kannada49char/data/train/29/img239-013.png\n/kaggle/input/kannada49char/data/train/29/img239-018.png\n/kaggle/input/kannada49char/data/train/29/img239-012.png\n/kaggle/input/kannada49char/data/train/29/img239-006.png\n/kaggle/input/kannada49char/data/train/29/img239-008.png\n/kaggle/input/kannada49char/data/train/29/img239-025.png\n/kaggle/input/kannada49char/data/train/29/img239-004.png\n/kaggle/input/kannada49char/data/train/29/img239-005.png\n/kaggle/input/kannada49char/data/train/29/img239-022.png\n/kaggle/input/kannada49char/data/train/29/img239-020.png\n/kaggle/input/kannada49char/data/train/29/img239-011.png\n/kaggle/input/kannada49char/data/train/29/img239-009.png\n/kaggle/input/kannada49char/data/train/29/img239-023.png\n/kaggle/input/kannada49char/data/train/29/img239-001.png\n/kaggle/input/kannada49char/data/train/29/img239-002.png\n/kaggle/input/kannada49char/data/train/29/img239-017.png\n/kaggle/input/kannada49char/data/train/29/img239-010.png\n/kaggle/input/kannada49char/data/train/29/img239-016.png\n/kaggle/input/kannada49char/data/train/29/img239-003.png\n/kaggle/input/kannada49char/data/train/29/img239-021.png\n/kaggle/input/kannada49char/data/train/24/img154-011.png\n/kaggle/input/kannada49char/data/train/24/img154-020.png\n/kaggle/input/kannada49char/data/train/24/img154-018.png\n/kaggle/input/kannada49char/data/train/24/img154-025.png\n/kaggle/input/kannada49char/data/train/24/img154-014.png\n/kaggle/input/kannada49char/data/train/24/img154-002.png\n/kaggle/input/kannada49char/data/train/24/img154-017.png\n/kaggle/input/kannada49char/data/train/24/img154-003.png\n/kaggle/input/kannada49char/data/train/24/img154-021.png\n/kaggle/input/kannada49char/data/train/24/img154-005.png\n/kaggle/input/kannada49char/data/train/24/img154-012.png\n/kaggle/input/kannada49char/data/train/24/img154-009.png\n/kaggle/input/kannada49char/data/train/24/img154-008.png\n/kaggle/input/kannada49char/data/train/24/img154-015.png\n/kaggle/input/kannada49char/data/train/24/img154-007.png\n/kaggle/input/kannada49char/data/train/24/img154-023.png\n/kaggle/input/kannada49char/data/train/24/img154-004.png\n/kaggle/input/kannada49char/data/train/24/img154-016.png\n/kaggle/input/kannada49char/data/train/24/img154-019.png\n/kaggle/input/kannada49char/data/train/24/img154-001.png\n/kaggle/input/kannada49char/data/train/24/img154-010.png\n",
          "output_type": "stream"
        }
      ]
    },
    {
      "cell_type": "code",
      "source": [
        "!pip install ultralytics"
      ],
      "metadata": {
        "execution": {
          "iopub.status.busy": "2024-02-25T18:20:44.619863Z",
          "iopub.execute_input": "2024-02-25T18:20:44.620203Z",
          "iopub.status.idle": "2024-02-25T18:20:59.308948Z",
          "shell.execute_reply.started": "2024-02-25T18:20:44.620177Z",
          "shell.execute_reply": "2024-02-25T18:20:59.307891Z"
        },
        "trusted": true,
        "id": "Vc0P09dGxl6U",
        "outputId": "58202dcc-e55e-4310-8269-caa067db6ded"
      },
      "execution_count": null,
      "outputs": [
        {
          "name": "stdout",
          "text": "Collecting ultralytics\n  Downloading ultralytics-8.1.18-py3-none-any.whl.metadata (40 kB)\n\u001b[2K     \u001b[90m━━━━━━━━━━━━━━━━━━━━━━━━━━━━━━━━━━━━━━━━\u001b[0m \u001b[32m40.4/40.4 kB\u001b[0m \u001b[31m1.7 MB/s\u001b[0m eta \u001b[36m0:00:00\u001b[0m\n\u001b[?25hRequirement already satisfied: matplotlib>=3.3.0 in /opt/conda/lib/python3.10/site-packages (from ultralytics) (3.7.4)\nRequirement already satisfied: opencv-python>=4.6.0 in /opt/conda/lib/python3.10/site-packages (from ultralytics) (4.9.0.80)\nRequirement already satisfied: pillow>=7.1.2 in /opt/conda/lib/python3.10/site-packages (from ultralytics) (9.5.0)\nRequirement already satisfied: pyyaml>=5.3.1 in /opt/conda/lib/python3.10/site-packages (from ultralytics) (6.0.1)\nRequirement already satisfied: requests>=2.23.0 in /opt/conda/lib/python3.10/site-packages (from ultralytics) (2.31.0)\nRequirement already satisfied: scipy>=1.4.1 in /opt/conda/lib/python3.10/site-packages (from ultralytics) (1.11.4)\nRequirement already satisfied: torch>=1.8.0 in /opt/conda/lib/python3.10/site-packages (from ultralytics) (2.1.2)\nRequirement already satisfied: torchvision>=0.9.0 in /opt/conda/lib/python3.10/site-packages (from ultralytics) (0.16.2)\nRequirement already satisfied: tqdm>=4.64.0 in /opt/conda/lib/python3.10/site-packages (from ultralytics) (4.66.1)\nRequirement already satisfied: psutil in /opt/conda/lib/python3.10/site-packages (from ultralytics) (5.9.3)\nRequirement already satisfied: py-cpuinfo in /opt/conda/lib/python3.10/site-packages (from ultralytics) (9.0.0)\nCollecting thop>=0.1.1 (from ultralytics)\n  Downloading thop-0.1.1.post2209072238-py3-none-any.whl.metadata (2.7 kB)\nRequirement already satisfied: pandas>=1.1.4 in /opt/conda/lib/python3.10/site-packages (from ultralytics) (2.1.4)\nRequirement already satisfied: seaborn>=0.11.0 in /opt/conda/lib/python3.10/site-packages (from ultralytics) (0.12.2)\nRequirement already satisfied: contourpy>=1.0.1 in /opt/conda/lib/python3.10/site-packages (from matplotlib>=3.3.0->ultralytics) (1.2.0)\nRequirement already satisfied: cycler>=0.10 in /opt/conda/lib/python3.10/site-packages (from matplotlib>=3.3.0->ultralytics) (0.12.1)\nRequirement already satisfied: fonttools>=4.22.0 in /opt/conda/lib/python3.10/site-packages (from matplotlib>=3.3.0->ultralytics) (4.47.0)\nRequirement already satisfied: kiwisolver>=1.0.1 in /opt/conda/lib/python3.10/site-packages (from matplotlib>=3.3.0->ultralytics) (1.4.5)\nRequirement already satisfied: numpy<2,>=1.20 in /opt/conda/lib/python3.10/site-packages (from matplotlib>=3.3.0->ultralytics) (1.24.4)\nRequirement already satisfied: packaging>=20.0 in /opt/conda/lib/python3.10/site-packages (from matplotlib>=3.3.0->ultralytics) (21.3)\nRequirement already satisfied: pyparsing>=2.3.1 in /opt/conda/lib/python3.10/site-packages (from matplotlib>=3.3.0->ultralytics) (3.1.1)\nRequirement already satisfied: python-dateutil>=2.7 in /opt/conda/lib/python3.10/site-packages (from matplotlib>=3.3.0->ultralytics) (2.8.2)\nRequirement already satisfied: pytz>=2020.1 in /opt/conda/lib/python3.10/site-packages (from pandas>=1.1.4->ultralytics) (2023.3.post1)\nRequirement already satisfied: tzdata>=2022.1 in /opt/conda/lib/python3.10/site-packages (from pandas>=1.1.4->ultralytics) (2023.4)\nRequirement already satisfied: charset-normalizer<4,>=2 in /opt/conda/lib/python3.10/site-packages (from requests>=2.23.0->ultralytics) (3.3.2)\nRequirement already satisfied: idna<4,>=2.5 in /opt/conda/lib/python3.10/site-packages (from requests>=2.23.0->ultralytics) (3.6)\nRequirement already satisfied: urllib3<3,>=1.21.1 in /opt/conda/lib/python3.10/site-packages (from requests>=2.23.0->ultralytics) (1.26.18)\nRequirement already satisfied: certifi>=2017.4.17 in /opt/conda/lib/python3.10/site-packages (from requests>=2.23.0->ultralytics) (2023.11.17)\nRequirement already satisfied: filelock in /opt/conda/lib/python3.10/site-packages (from torch>=1.8.0->ultralytics) (3.13.1)\nRequirement already satisfied: typing-extensions in /opt/conda/lib/python3.10/site-packages (from torch>=1.8.0->ultralytics) (4.9.0)\nRequirement already satisfied: sympy in /opt/conda/lib/python3.10/site-packages (from torch>=1.8.0->ultralytics) (1.12)\nRequirement already satisfied: networkx in /opt/conda/lib/python3.10/site-packages (from torch>=1.8.0->ultralytics) (3.2.1)\nRequirement already satisfied: jinja2 in /opt/conda/lib/python3.10/site-packages (from torch>=1.8.0->ultralytics) (3.1.2)\nRequirement already satisfied: fsspec in /opt/conda/lib/python3.10/site-packages (from torch>=1.8.0->ultralytics) (2023.12.2)\nRequirement already satisfied: six>=1.5 in /opt/conda/lib/python3.10/site-packages (from python-dateutil>=2.7->matplotlib>=3.3.0->ultralytics) (1.16.0)\nRequirement already satisfied: MarkupSafe>=2.0 in /opt/conda/lib/python3.10/site-packages (from jinja2->torch>=1.8.0->ultralytics) (2.1.3)\nRequirement already satisfied: mpmath>=0.19 in /opt/conda/lib/python3.10/site-packages (from sympy->torch>=1.8.0->ultralytics) (1.3.0)\nDownloading ultralytics-8.1.18-py3-none-any.whl (716 kB)\n\u001b[2K   \u001b[90m━━━━━━━━━━━━━━━━━━━━━━━━━━━━━━━━━━━━━━━━\u001b[0m \u001b[32m716.0/716.0 kB\u001b[0m \u001b[31m10.8 MB/s\u001b[0m eta \u001b[36m0:00:00\u001b[0ma \u001b[36m0:00:01\u001b[0m\n\u001b[?25hDownloading thop-0.1.1.post2209072238-py3-none-any.whl (15 kB)\nInstalling collected packages: thop, ultralytics\nSuccessfully installed thop-0.1.1.post2209072238 ultralytics-8.1.18\n",
          "output_type": "stream"
        }
      ]
    },
    {
      "cell_type": "code",
      "source": [
        "from ultralytics import YOLO"
      ],
      "metadata": {
        "execution": {
          "iopub.status.busy": "2024-02-25T18:20:59.310956Z",
          "iopub.execute_input": "2024-02-25T18:20:59.311279Z",
          "iopub.status.idle": "2024-02-25T18:21:05.575108Z",
          "shell.execute_reply.started": "2024-02-25T18:20:59.311251Z",
          "shell.execute_reply": "2024-02-25T18:21:05.574053Z"
        },
        "trusted": true,
        "id": "lVblgd8Txl6V"
      },
      "execution_count": null,
      "outputs": []
    },
    {
      "cell_type": "code",
      "source": [
        "DATADIR = '/kaggle/input/kannada49char/data/'"
      ],
      "metadata": {
        "execution": {
          "iopub.status.busy": "2024-02-25T18:21:05.576392Z",
          "iopub.execute_input": "2024-02-25T18:21:05.576881Z",
          "iopub.status.idle": "2024-02-25T18:21:05.581927Z",
          "shell.execute_reply.started": "2024-02-25T18:21:05.576849Z",
          "shell.execute_reply": "2024-02-25T18:21:05.580809Z"
        },
        "trusted": true,
        "id": "9CxPnR9Zxl6W"
      },
      "execution_count": null,
      "outputs": []
    },
    {
      "cell_type": "code",
      "source": [
        "model = YOLO(\"yolov8n-cls.pt\")\n",
        "results = model.train(data=DATADIR,epochs=50,imgsz=128)"
      ],
      "metadata": {
        "execution": {
          "iopub.status.busy": "2024-02-25T18:21:05.584229Z",
          "iopub.execute_input": "2024-02-25T18:21:05.584507Z",
          "iopub.status.idle": "2024-02-25T18:25:05.811441Z",
          "shell.execute_reply.started": "2024-02-25T18:21:05.584481Z",
          "shell.execute_reply": "2024-02-25T18:25:05.810295Z"
        },
        "trusted": true,
        "id": "IDiVzM-kxl6W",
        "outputId": "d1d47e41-def6-4d43-9ec7-9f428a4e150c",
        "colab": {
          "referenced_widgets": [
            ""
          ]
        }
      },
      "execution_count": null,
      "outputs": [
        {
          "name": "stdout",
          "text": "Downloading https://github.com/ultralytics/assets/releases/download/v8.1.0/yolov8n-cls.pt to 'yolov8n-cls.pt'...\n",
          "output_type": "stream"
        },
        {
          "name": "stderr",
          "text": "100%|██████████| 5.30M/5.30M [00:00<00:00, 66.3MB/s]\n",
          "output_type": "stream"
        },
        {
          "name": "stdout",
          "text": "Ultralytics YOLOv8.1.18 🚀 Python-3.10.13 torch-2.1.2 CUDA:0 (Tesla T4, 15102MiB)\n\u001b[34m\u001b[1mengine/trainer: \u001b[0mtask=classify, mode=train, model=yolov8n-cls.pt, data=/kaggle/input/kannada49char/data/, epochs=50, time=None, patience=100, batch=16, imgsz=128, save=True, save_period=-1, cache=False, device=None, workers=8, project=None, name=train, exist_ok=False, pretrained=True, optimizer=auto, verbose=True, seed=0, deterministic=True, single_cls=False, rect=False, cos_lr=False, close_mosaic=10, resume=False, amp=True, fraction=1.0, profile=False, freeze=None, multi_scale=False, overlap_mask=True, mask_ratio=4, dropout=0.0, val=True, split=val, save_json=False, save_hybrid=False, conf=None, iou=0.7, max_det=300, half=False, dnn=False, plots=True, source=None, vid_stride=1, stream_buffer=False, visualize=False, augment=False, agnostic_nms=False, classes=None, retina_masks=False, embed=None, show=False, save_frames=False, save_txt=False, save_conf=False, save_crop=False, show_labels=True, show_conf=True, show_boxes=True, line_width=None, format=torchscript, keras=False, optimize=False, int8=False, dynamic=False, simplify=False, opset=None, workspace=4, nms=False, lr0=0.01, lrf=0.01, momentum=0.937, weight_decay=0.0005, warmup_epochs=3.0, warmup_momentum=0.8, warmup_bias_lr=0.1, box=7.5, cls=0.5, dfl=1.5, pose=12.0, kobj=1.0, label_smoothing=0.0, nbs=64, hsv_h=0.015, hsv_s=0.7, hsv_v=0.4, degrees=0.0, translate=0.1, scale=0.5, shear=0.0, perspective=0.0, flipud=0.0, fliplr=0.5, mosaic=1.0, mixup=0.0, copy_paste=0.0, auto_augment=randaugment, erasing=0.4, crop_fraction=1.0, cfg=None, tracker=botsort.yaml, save_dir=runs/classify/train\n\u001b[34m\u001b[1mtrain:\u001b[0m /kaggle/input/kannada49char/data/train... found 1037 images in 49 classes ✅ \n\u001b[34m\u001b[1mval:\u001b[0m /kaggle/input/kannada49char/data/val... found 213 images in 49 classes ✅ \n\u001b[34m\u001b[1mtest:\u001b[0m None...\n",
          "output_type": "stream"
        },
        {
          "name": "stderr",
          "text": "2024-02-25 18:21:07,176\tINFO util.py:124 -- Outdated packages:\n  ipywidgets==7.7.1 found, needs ipywidgets>=8\nRun `pip install -U ipywidgets`, then restart the notebook server for rich notebook output.\n2024-02-25 18:21:08,009\tINFO util.py:124 -- Outdated packages:\n  ipywidgets==7.7.1 found, needs ipywidgets>=8\nRun `pip install -U ipywidgets`, then restart the notebook server for rich notebook output.\n2024-02-25 18:21:10.145973: E external/local_xla/xla/stream_executor/cuda/cuda_dnn.cc:9261] Unable to register cuDNN factory: Attempting to register factory for plugin cuDNN when one has already been registered\n2024-02-25 18:21:10.146104: E external/local_xla/xla/stream_executor/cuda/cuda_fft.cc:607] Unable to register cuFFT factory: Attempting to register factory for plugin cuFFT when one has already been registered\n2024-02-25 18:21:10.269199: E external/local_xla/xla/stream_executor/cuda/cuda_blas.cc:1515] Unable to register cuBLAS factory: Attempting to register factory for plugin cuBLAS when one has already been registered\n",
          "output_type": "stream"
        },
        {
          "name": "stdout",
          "text": "Overriding model.yaml nc=1000 with nc=49\n\n                   from  n    params  module                                       arguments                     \n  0                  -1  1       464  ultralytics.nn.modules.conv.Conv             [3, 16, 3, 2]                 \n  1                  -1  1      4672  ultralytics.nn.modules.conv.Conv             [16, 32, 3, 2]                \n  2                  -1  1      7360  ultralytics.nn.modules.block.C2f             [32, 32, 1, True]             \n  3                  -1  1     18560  ultralytics.nn.modules.conv.Conv             [32, 64, 3, 2]                \n  4                  -1  2     49664  ultralytics.nn.modules.block.C2f             [64, 64, 2, True]             \n  5                  -1  1     73984  ultralytics.nn.modules.conv.Conv             [64, 128, 3, 2]               \n  6                  -1  2    197632  ultralytics.nn.modules.block.C2f             [128, 128, 2, True]           \n  7                  -1  1    295424  ultralytics.nn.modules.conv.Conv             [128, 256, 3, 2]              \n  8                  -1  1    460288  ultralytics.nn.modules.block.C2f             [256, 256, 1, True]           \n  9                  -1  1    393009  ultralytics.nn.modules.head.Classify         [256, 49]                     \nYOLOv8n-cls summary: 99 layers, 1501057 parameters, 1501057 gradients, 3.4 GFLOPs\nTransferred 156/158 items from pretrained weights\n\u001b[34m\u001b[1mTensorBoard: \u001b[0mStart with 'tensorboard --logdir runs/classify/train', view at http://localhost:6006/\n",
          "output_type": "stream"
        },
        {
          "name": "stderr",
          "text": "\u001b[34m\u001b[1mwandb\u001b[0m: Logging into wandb.ai. (Learn how to deploy a W&B server locally: https://wandb.me/wandb-server)\n\u001b[34m\u001b[1mwandb\u001b[0m: You can find your API key in your browser here: https://wandb.ai/authorize\n\u001b[34m\u001b[1mwandb\u001b[0m: Paste an API key from your profile and hit enter, or press ctrl+c to quit:",
          "output_type": "stream"
        },
        {
          "output_type": "stream",
          "name": "stdin",
          "text": "  ········································\n"
        },
        {
          "name": "stderr",
          "text": "\u001b[34m\u001b[1mwandb\u001b[0m: Appending key for api.wandb.ai to your netrc file: /root/.netrc\n",
          "output_type": "stream"
        },
        {
          "output_type": "display_data",
          "data": {
            "text/plain": "<IPython.core.display.HTML object>",
            "text/html": "wandb version 0.16.3 is available!  To upgrade, please run:\n $ pip install wandb --upgrade"
          },
          "metadata": {}
        },
        {
          "output_type": "display_data",
          "data": {
            "text/plain": "<IPython.core.display.HTML object>",
            "text/html": "Tracking run with wandb version 0.16.2"
          },
          "metadata": {}
        },
        {
          "output_type": "display_data",
          "data": {
            "text/plain": "<IPython.core.display.HTML object>",
            "text/html": "Run data is saved locally in <code>/kaggle/working/wandb/run-20240225_182132-14i4dnou</code>"
          },
          "metadata": {}
        },
        {
          "output_type": "display_data",
          "data": {
            "text/plain": "<IPython.core.display.HTML object>",
            "text/html": "Syncing run <strong><a href='https://wandb.ai/itpm/YOLOv8/runs/14i4dnou' target=\"_blank\">train</a></strong> to <a href='https://wandb.ai/itpm/YOLOv8' target=\"_blank\">Weights & Biases</a> (<a href='https://wandb.me/run' target=\"_blank\">docs</a>)<br/>"
          },
          "metadata": {}
        },
        {
          "output_type": "display_data",
          "data": {
            "text/plain": "<IPython.core.display.HTML object>",
            "text/html": " View project at <a href='https://wandb.ai/itpm/YOLOv8' target=\"_blank\">https://wandb.ai/itpm/YOLOv8</a>"
          },
          "metadata": {}
        },
        {
          "output_type": "display_data",
          "data": {
            "text/plain": "<IPython.core.display.HTML object>",
            "text/html": " View run at <a href='https://wandb.ai/itpm/YOLOv8/runs/14i4dnou' target=\"_blank\">https://wandb.ai/itpm/YOLOv8/runs/14i4dnou</a>"
          },
          "metadata": {}
        },
        {
          "name": "stdout",
          "text": "\u001b[34m\u001b[1mAMP: \u001b[0mrunning Automatic Mixed Precision (AMP) checks with YOLOv8n...\nDownloading https://github.com/ultralytics/assets/releases/download/v8.1.0/yolov8n.pt to 'yolov8n.pt'...\n",
          "output_type": "stream"
        },
        {
          "name": "stderr",
          "text": "100%|██████████| 6.23M/6.23M [00:00<00:00, 74.6MB/s]\n",
          "output_type": "stream"
        },
        {
          "name": "stdout",
          "text": "\u001b[34m\u001b[1mAMP: \u001b[0mchecks passed ✅\n",
          "output_type": "stream"
        },
        {
          "name": "stderr",
          "text": "\u001b[34m\u001b[1mtrain: \u001b[0mScanning /kaggle/input/kannada49char/data/train... 1037 images, 0 corrupt: 100%|██████████| 1037/1037 [00:01<00:00, 892.06it/s]",
          "output_type": "stream"
        },
        {
          "name": "stdout",
          "text": "\u001b[34m\u001b[1mtrain: \u001b[0mWARNING ⚠️ Cache directory /kaggle/input/kannada49char/data is not writeable, cache not saved.\n",
          "output_type": "stream"
        },
        {
          "name": "stderr",
          "text": "\n\u001b[34m\u001b[1mval: \u001b[0mScanning /kaggle/input/kannada49char/data/val... 213 images, 0 corrupt: 100%|██████████| 213/213 [00:00<00:00, 963.89it/s] ",
          "output_type": "stream"
        },
        {
          "name": "stdout",
          "text": "\u001b[34m\u001b[1mval: \u001b[0mWARNING ⚠️ Cache directory /kaggle/input/kannada49char/data is not writeable, cache not saved.\n",
          "output_type": "stream"
        },
        {
          "name": "stderr",
          "text": "\n",
          "output_type": "stream"
        },
        {
          "name": "stdout",
          "text": "\u001b[34m\u001b[1moptimizer:\u001b[0m 'optimizer=auto' found, ignoring 'lr0=0.01' and 'momentum=0.937' and determining best 'optimizer', 'lr0' and 'momentum' automatically... \n\u001b[34m\u001b[1moptimizer:\u001b[0m AdamW(lr=0.000714, momentum=0.9) with parameter groups 26 weight(decay=0.0), 27 weight(decay=0.0005), 27 bias(decay=0.0)\n\u001b[34m\u001b[1mTensorBoard: \u001b[0mmodel graph visualization added ✅\nImage sizes 128 train, 128 val\nUsing 2 dataloader workers\nLogging results to \u001b[1mruns/classify/train\u001b[0m\nStarting training for 50 epochs...\n\n      Epoch    GPU_mem       loss  Instances       Size\n",
          "output_type": "stream"
        },
        {
          "name": "stderr",
          "text": "       1/50     0.411G      4.002         16        128:  20%|██        | 13/65 [00:01<00:03, 13.26it/s]",
          "output_type": "stream"
        },
        {
          "name": "stdout",
          "text": "Downloading https://ultralytics.com/assets/Arial.ttf to '/root/.config/Ultralytics/Arial.ttf'...\n",
          "output_type": "stream"
        },
        {
          "name": "stderr",
          "text": "       1/50     0.411G      3.972         16        128:  40%|████      | 26/65 [00:02<00:02, 17.84it/s]\n100%|██████████| 755k/755k [00:00<00:00, 15.7MB/s]  128:  40%|████      | 26/65 [00:02<00:02, 17.84it/s]\n       1/50     0.413G      3.912         13        128: 100%|██████████| 65/65 [00:04<00:00, 13.91it/s]\n               classes   top1_acc   top5_acc: 100%|██████████| 7/7 [00:00<00:00, 17.94it/s]",
          "output_type": "stream"
        },
        {
          "name": "stdout",
          "text": "                   all     0.0892      0.272\n",
          "output_type": "stream"
        },
        {
          "name": "stderr",
          "text": "\n",
          "output_type": "stream"
        },
        {
          "name": "stdout",
          "text": "\n      Epoch    GPU_mem       loss  Instances       Size\n",
          "output_type": "stream"
        },
        {
          "name": "stderr",
          "text": "       2/50     0.396G      3.544         13        128: 100%|██████████| 65/65 [00:02<00:00, 22.49it/s]\n               classes   top1_acc   top5_acc: 100%|██████████| 7/7 [00:00<00:00, 44.88it/s]",
          "output_type": "stream"
        },
        {
          "name": "stdout",
          "text": "                   all      0.385      0.667\n",
          "output_type": "stream"
        },
        {
          "name": "stderr",
          "text": "\n",
          "output_type": "stream"
        },
        {
          "name": "stdout",
          "text": "\n      Epoch    GPU_mem       loss  Instances       Size\n",
          "output_type": "stream"
        },
        {
          "name": "stderr",
          "text": "       3/50     0.396G      2.854         13        128: 100%|██████████| 65/65 [00:02<00:00, 22.92it/s]\n               classes   top1_acc   top5_acc: 100%|██████████| 7/7 [00:00<00:00, 45.23it/s]",
          "output_type": "stream"
        },
        {
          "name": "stdout",
          "text": "                   all      0.493      0.826\n",
          "output_type": "stream"
        },
        {
          "name": "stderr",
          "text": "\n",
          "output_type": "stream"
        },
        {
          "name": "stdout",
          "text": "\n      Epoch    GPU_mem       loss  Instances       Size\n",
          "output_type": "stream"
        },
        {
          "name": "stderr",
          "text": "       4/50     0.396G      2.122         13        128: 100%|██████████| 65/65 [00:02<00:00, 22.72it/s]\n               classes   top1_acc   top5_acc: 100%|██████████| 7/7 [00:00<00:00, 46.30it/s]",
          "output_type": "stream"
        },
        {
          "name": "stdout",
          "text": "                   all      0.624      0.925\n",
          "output_type": "stream"
        },
        {
          "name": "stderr",
          "text": "\n",
          "output_type": "stream"
        },
        {
          "name": "stdout",
          "text": "\n      Epoch    GPU_mem       loss  Instances       Size\n",
          "output_type": "stream"
        },
        {
          "name": "stderr",
          "text": "       5/50     0.396G      1.596         13        128: 100%|██████████| 65/65 [00:02<00:00, 22.53it/s]\n               classes   top1_acc   top5_acc: 100%|██████████| 7/7 [00:00<00:00, 44.35it/s]",
          "output_type": "stream"
        },
        {
          "name": "stdout",
          "text": "                   all      0.746      0.958\n",
          "output_type": "stream"
        },
        {
          "name": "stderr",
          "text": "\n",
          "output_type": "stream"
        },
        {
          "name": "stdout",
          "text": "\n      Epoch    GPU_mem       loss  Instances       Size\n",
          "output_type": "stream"
        },
        {
          "name": "stderr",
          "text": "       6/50     0.396G      1.372         13        128: 100%|██████████| 65/65 [00:02<00:00, 23.58it/s]\n               classes   top1_acc   top5_acc: 100%|██████████| 7/7 [00:00<00:00, 42.34it/s]",
          "output_type": "stream"
        },
        {
          "name": "stdout",
          "text": "                   all      0.779      0.977\n",
          "output_type": "stream"
        },
        {
          "name": "stderr",
          "text": "\n",
          "output_type": "stream"
        },
        {
          "name": "stdout",
          "text": "\n      Epoch    GPU_mem       loss  Instances       Size\n",
          "output_type": "stream"
        },
        {
          "name": "stderr",
          "text": "       7/50     0.396G      1.085         13        128: 100%|██████████| 65/65 [00:02<00:00, 24.97it/s]\n               classes   top1_acc   top5_acc: 100%|██████████| 7/7 [00:00<00:00, 45.06it/s]",
          "output_type": "stream"
        },
        {
          "name": "stdout",
          "text": "                   all      0.812      0.981\n",
          "output_type": "stream"
        },
        {
          "name": "stderr",
          "text": "\n",
          "output_type": "stream"
        },
        {
          "name": "stdout",
          "text": "\n      Epoch    GPU_mem       loss  Instances       Size\n",
          "output_type": "stream"
        },
        {
          "name": "stderr",
          "text": "       8/50     0.396G      1.014         13        128: 100%|██████████| 65/65 [00:02<00:00, 24.85it/s]\n               classes   top1_acc   top5_acc: 100%|██████████| 7/7 [00:00<00:00, 41.65it/s]",
          "output_type": "stream"
        },
        {
          "name": "stdout",
          "text": "                   all      0.845      0.981\n",
          "output_type": "stream"
        },
        {
          "name": "stderr",
          "text": "\n",
          "output_type": "stream"
        },
        {
          "name": "stdout",
          "text": "\n      Epoch    GPU_mem       loss  Instances       Size\n",
          "output_type": "stream"
        },
        {
          "name": "stderr",
          "text": "       9/50     0.396G     0.9354         13        128: 100%|██████████| 65/65 [00:02<00:00, 26.86it/s]\n               classes   top1_acc   top5_acc: 100%|██████████| 7/7 [00:00<00:00, 49.23it/s]",
          "output_type": "stream"
        },
        {
          "name": "stdout",
          "text": "                   all      0.817      0.991\n",
          "output_type": "stream"
        },
        {
          "name": "stderr",
          "text": "\n",
          "output_type": "stream"
        },
        {
          "name": "stdout",
          "text": "\n      Epoch    GPU_mem       loss  Instances       Size\n",
          "output_type": "stream"
        },
        {
          "name": "stderr",
          "text": "      10/50     0.396G     0.8188         13        128: 100%|██████████| 65/65 [00:02<00:00, 26.82it/s]\n               classes   top1_acc   top5_acc: 100%|██████████| 7/7 [00:00<00:00, 43.44it/s]",
          "output_type": "stream"
        },
        {
          "name": "stdout",
          "text": "                   all      0.873      0.995\n",
          "output_type": "stream"
        },
        {
          "name": "stderr",
          "text": "\n",
          "output_type": "stream"
        },
        {
          "name": "stdout",
          "text": "\n      Epoch    GPU_mem       loss  Instances       Size\n",
          "output_type": "stream"
        },
        {
          "name": "stderr",
          "text": "      11/50     0.396G      0.759         13        128: 100%|██████████| 65/65 [00:02<00:00, 25.51it/s]\n               classes   top1_acc   top5_acc: 100%|██████████| 7/7 [00:00<00:00, 50.00it/s]",
          "output_type": "stream"
        },
        {
          "name": "stdout",
          "text": "                   all      0.901      0.991\n",
          "output_type": "stream"
        },
        {
          "name": "stderr",
          "text": "\n",
          "output_type": "stream"
        },
        {
          "name": "stdout",
          "text": "\n      Epoch    GPU_mem       loss  Instances       Size\n",
          "output_type": "stream"
        },
        {
          "name": "stderr",
          "text": "      12/50     0.396G     0.7413         13        128: 100%|██████████| 65/65 [00:02<00:00, 27.29it/s]\n               classes   top1_acc   top5_acc: 100%|██████████| 7/7 [00:00<00:00, 45.65it/s]\n",
          "output_type": "stream"
        },
        {
          "name": "stdout",
          "text": "                   all      0.892      0.995\n\n      Epoch    GPU_mem       loss  Instances       Size\n",
          "output_type": "stream"
        },
        {
          "name": "stderr",
          "text": "      13/50     0.396G     0.7458         13        128: 100%|██████████| 65/65 [00:02<00:00, 25.17it/s]\n               classes   top1_acc   top5_acc: 100%|██████████| 7/7 [00:00<00:00, 47.17it/s]",
          "output_type": "stream"
        },
        {
          "name": "stdout",
          "text": "                   all      0.883      0.991\n",
          "output_type": "stream"
        },
        {
          "name": "stderr",
          "text": "\n",
          "output_type": "stream"
        },
        {
          "name": "stdout",
          "text": "\n      Epoch    GPU_mem       loss  Instances       Size\n",
          "output_type": "stream"
        },
        {
          "name": "stderr",
          "text": "      14/50     0.396G     0.7007         13        128: 100%|██████████| 65/65 [00:02<00:00, 24.93it/s]\n               classes   top1_acc   top5_acc: 100%|██████████| 7/7 [00:00<00:00, 44.58it/s]",
          "output_type": "stream"
        },
        {
          "name": "stdout",
          "text": "                   all      0.897      0.977\n",
          "output_type": "stream"
        },
        {
          "name": "stderr",
          "text": "\n",
          "output_type": "stream"
        },
        {
          "name": "stdout",
          "text": "\n      Epoch    GPU_mem       loss  Instances       Size\n",
          "output_type": "stream"
        },
        {
          "name": "stderr",
          "text": "      15/50     0.396G      0.631         13        128: 100%|██████████| 65/65 [00:02<00:00, 23.65it/s]\n               classes   top1_acc   top5_acc: 100%|██████████| 7/7 [00:00<00:00, 46.16it/s]",
          "output_type": "stream"
        },
        {
          "name": "stdout",
          "text": "                   all      0.897          1\n",
          "output_type": "stream"
        },
        {
          "name": "stderr",
          "text": "\n",
          "output_type": "stream"
        },
        {
          "name": "stdout",
          "text": "\n      Epoch    GPU_mem       loss  Instances       Size\n",
          "output_type": "stream"
        },
        {
          "name": "stderr",
          "text": "      16/50     0.396G     0.6448         13        128: 100%|██████████| 65/65 [00:02<00:00, 25.30it/s]\n               classes   top1_acc   top5_acc: 100%|██████████| 7/7 [00:00<00:00, 44.13it/s]",
          "output_type": "stream"
        },
        {
          "name": "stdout",
          "text": "                   all      0.934          1\n",
          "output_type": "stream"
        },
        {
          "name": "stderr",
          "text": "\n",
          "output_type": "stream"
        },
        {
          "name": "stdout",
          "text": "\n      Epoch    GPU_mem       loss  Instances       Size\n",
          "output_type": "stream"
        },
        {
          "name": "stderr",
          "text": "      17/50     0.396G     0.6026         13        128: 100%|██████████| 65/65 [00:02<00:00, 22.77it/s]\n               classes   top1_acc   top5_acc: 100%|██████████| 7/7 [00:00<00:00, 38.25it/s]",
          "output_type": "stream"
        },
        {
          "name": "stdout",
          "text": "                   all      0.901          1\n",
          "output_type": "stream"
        },
        {
          "name": "stderr",
          "text": "\n",
          "output_type": "stream"
        },
        {
          "name": "stdout",
          "text": "\n      Epoch    GPU_mem       loss  Instances       Size\n",
          "output_type": "stream"
        },
        {
          "name": "stderr",
          "text": "      18/50     0.396G     0.5881         13        128: 100%|██████████| 65/65 [00:02<00:00, 22.78it/s]\n               classes   top1_acc   top5_acc: 100%|██████████| 7/7 [00:00<00:00, 40.79it/s]",
          "output_type": "stream"
        },
        {
          "name": "stdout",
          "text": "                   all      0.911          1\n",
          "output_type": "stream"
        },
        {
          "name": "stderr",
          "text": "\n",
          "output_type": "stream"
        },
        {
          "name": "stdout",
          "text": "\n      Epoch    GPU_mem       loss  Instances       Size\n",
          "output_type": "stream"
        },
        {
          "name": "stderr",
          "text": "      19/50     0.396G     0.5842         13        128: 100%|██████████| 65/65 [00:02<00:00, 25.95it/s]\n               classes   top1_acc   top5_acc: 100%|██████████| 7/7 [00:00<00:00, 42.46it/s]",
          "output_type": "stream"
        },
        {
          "name": "stdout",
          "text": "                   all      0.911          1\n",
          "output_type": "stream"
        },
        {
          "name": "stderr",
          "text": "\n",
          "output_type": "stream"
        },
        {
          "name": "stdout",
          "text": "\n      Epoch    GPU_mem       loss  Instances       Size\n",
          "output_type": "stream"
        },
        {
          "name": "stderr",
          "text": "      20/50     0.396G     0.5251         13        128: 100%|██████████| 65/65 [00:02<00:00, 26.07it/s]\n               classes   top1_acc   top5_acc: 100%|██████████| 7/7 [00:00<00:00, 47.11it/s]\n",
          "output_type": "stream"
        },
        {
          "name": "stdout",
          "text": "                   all       0.93      0.995\n\n      Epoch    GPU_mem       loss  Instances       Size\n",
          "output_type": "stream"
        },
        {
          "name": "stderr",
          "text": "      21/50     0.396G     0.5062         13        128: 100%|██████████| 65/65 [00:02<00:00, 26.76it/s]\n               classes   top1_acc   top5_acc: 100%|██████████| 7/7 [00:00<00:00, 48.57it/s]",
          "output_type": "stream"
        },
        {
          "name": "stdout",
          "text": "                   all      0.939          1\n",
          "output_type": "stream"
        },
        {
          "name": "stderr",
          "text": "\n",
          "output_type": "stream"
        },
        {
          "name": "stdout",
          "text": "\n      Epoch    GPU_mem       loss  Instances       Size\n",
          "output_type": "stream"
        },
        {
          "name": "stderr",
          "text": "      22/50     0.396G     0.5404         13        128: 100%|██████████| 65/65 [00:02<00:00, 26.02it/s]\n               classes   top1_acc   top5_acc: 100%|██████████| 7/7 [00:00<00:00, 48.41it/s]",
          "output_type": "stream"
        },
        {
          "name": "stdout",
          "text": "                   all      0.944          1\n",
          "output_type": "stream"
        },
        {
          "name": "stderr",
          "text": "\n",
          "output_type": "stream"
        },
        {
          "name": "stdout",
          "text": "\n      Epoch    GPU_mem       loss  Instances       Size\n",
          "output_type": "stream"
        },
        {
          "name": "stderr",
          "text": "      23/50     0.396G     0.5182         13        128: 100%|██████████| 65/65 [00:02<00:00, 26.13it/s]\n               classes   top1_acc   top5_acc: 100%|██████████| 7/7 [00:00<00:00, 51.40it/s]",
          "output_type": "stream"
        },
        {
          "name": "stdout",
          "text": "                   all      0.939          1\n",
          "output_type": "stream"
        },
        {
          "name": "stderr",
          "text": "\n",
          "output_type": "stream"
        },
        {
          "name": "stdout",
          "text": "\n      Epoch    GPU_mem       loss  Instances       Size\n",
          "output_type": "stream"
        },
        {
          "name": "stderr",
          "text": "      24/50     0.396G     0.5228         13        128: 100%|██████████| 65/65 [00:02<00:00, 27.14it/s]\n               classes   top1_acc   top5_acc: 100%|██████████| 7/7 [00:00<00:00, 46.26it/s]",
          "output_type": "stream"
        },
        {
          "name": "stdout",
          "text": "                   all      0.939          1\n",
          "output_type": "stream"
        },
        {
          "name": "stderr",
          "text": "\n",
          "output_type": "stream"
        },
        {
          "name": "stdout",
          "text": "\n      Epoch    GPU_mem       loss  Instances       Size\n",
          "output_type": "stream"
        },
        {
          "name": "stderr",
          "text": "      25/50     0.396G     0.5196         13        128: 100%|██████████| 65/65 [00:02<00:00, 25.88it/s]\n               classes   top1_acc   top5_acc: 100%|██████████| 7/7 [00:00<00:00, 46.10it/s]",
          "output_type": "stream"
        },
        {
          "name": "stdout",
          "text": "                   all       0.92          1\n",
          "output_type": "stream"
        },
        {
          "name": "stderr",
          "text": "\n",
          "output_type": "stream"
        },
        {
          "name": "stdout",
          "text": "\n      Epoch    GPU_mem       loss  Instances       Size\n",
          "output_type": "stream"
        },
        {
          "name": "stderr",
          "text": "      26/50     0.396G     0.4948         13        128: 100%|██████████| 65/65 [00:02<00:00, 26.84it/s]\n               classes   top1_acc   top5_acc: 100%|██████████| 7/7 [00:00<00:00, 42.29it/s]",
          "output_type": "stream"
        },
        {
          "name": "stdout",
          "text": "                   all      0.944          1\n",
          "output_type": "stream"
        },
        {
          "name": "stderr",
          "text": "\n",
          "output_type": "stream"
        },
        {
          "name": "stdout",
          "text": "\n      Epoch    GPU_mem       loss  Instances       Size\n",
          "output_type": "stream"
        },
        {
          "name": "stderr",
          "text": "      27/50     0.396G     0.5165         13        128: 100%|██████████| 65/65 [00:02<00:00, 27.12it/s]\n               classes   top1_acc   top5_acc: 100%|██████████| 7/7 [00:00<00:00, 47.23it/s]",
          "output_type": "stream"
        },
        {
          "name": "stdout",
          "text": "                   all       0.93          1\n",
          "output_type": "stream"
        },
        {
          "name": "stderr",
          "text": "\n",
          "output_type": "stream"
        },
        {
          "name": "stdout",
          "text": "\n      Epoch    GPU_mem       loss  Instances       Size\n",
          "output_type": "stream"
        },
        {
          "name": "stderr",
          "text": "      28/50     0.396G     0.4789         13        128: 100%|██████████| 65/65 [00:02<00:00, 23.83it/s]\n               classes   top1_acc   top5_acc: 100%|██████████| 7/7 [00:00<00:00, 51.64it/s]",
          "output_type": "stream"
        },
        {
          "name": "stdout",
          "text": "                   all      0.948          1\n",
          "output_type": "stream"
        },
        {
          "name": "stderr",
          "text": "\n",
          "output_type": "stream"
        },
        {
          "name": "stdout",
          "text": "\n      Epoch    GPU_mem       loss  Instances       Size\n",
          "output_type": "stream"
        },
        {
          "name": "stderr",
          "text": "      29/50     0.396G     0.4614         13        128: 100%|██████████| 65/65 [00:02<00:00, 27.12it/s]\n               classes   top1_acc   top5_acc: 100%|██████████| 7/7 [00:00<00:00, 48.41it/s]",
          "output_type": "stream"
        },
        {
          "name": "stdout",
          "text": "                   all      0.934          1\n",
          "output_type": "stream"
        },
        {
          "name": "stderr",
          "text": "\n",
          "output_type": "stream"
        },
        {
          "name": "stdout",
          "text": "\n      Epoch    GPU_mem       loss  Instances       Size\n",
          "output_type": "stream"
        },
        {
          "name": "stderr",
          "text": "      30/50     0.396G     0.4308         13        128: 100%|██████████| 65/65 [00:02<00:00, 27.00it/s]\n               classes   top1_acc   top5_acc: 100%|██████████| 7/7 [00:00<00:00, 43.21it/s]",
          "output_type": "stream"
        },
        {
          "name": "stdout",
          "text": "                   all      0.944      0.995\n",
          "output_type": "stream"
        },
        {
          "name": "stderr",
          "text": "\n",
          "output_type": "stream"
        },
        {
          "name": "stdout",
          "text": "\n      Epoch    GPU_mem       loss  Instances       Size\n",
          "output_type": "stream"
        },
        {
          "name": "stderr",
          "text": "      31/50     0.396G     0.4506         13        128: 100%|██████████| 65/65 [00:02<00:00, 26.63it/s]\n               classes   top1_acc   top5_acc: 100%|██████████| 7/7 [00:00<00:00, 47.75it/s]",
          "output_type": "stream"
        },
        {
          "name": "stdout",
          "text": "                   all      0.944          1\n",
          "output_type": "stream"
        },
        {
          "name": "stderr",
          "text": "\n",
          "output_type": "stream"
        },
        {
          "name": "stdout",
          "text": "\n      Epoch    GPU_mem       loss  Instances       Size\n",
          "output_type": "stream"
        },
        {
          "name": "stderr",
          "text": "      32/50     0.396G     0.4257         13        128: 100%|██████████| 65/65 [00:02<00:00, 26.91it/s]\n               classes   top1_acc   top5_acc: 100%|██████████| 7/7 [00:00<00:00, 47.70it/s]",
          "output_type": "stream"
        },
        {
          "name": "stdout",
          "text": "                   all      0.953          1\n",
          "output_type": "stream"
        },
        {
          "name": "stderr",
          "text": "\n",
          "output_type": "stream"
        },
        {
          "name": "stdout",
          "text": "\n      Epoch    GPU_mem       loss  Instances       Size\n",
          "output_type": "stream"
        },
        {
          "name": "stderr",
          "text": "      33/50     0.396G     0.4623         13        128: 100%|██████████| 65/65 [00:02<00:00, 25.62it/s]\n               classes   top1_acc   top5_acc: 100%|██████████| 7/7 [00:00<00:00, 39.22it/s]\n",
          "output_type": "stream"
        },
        {
          "name": "stdout",
          "text": "                   all      0.958          1\n\n      Epoch    GPU_mem       loss  Instances       Size\n",
          "output_type": "stream"
        },
        {
          "name": "stderr",
          "text": "      34/50     0.396G     0.4113         13        128: 100%|██████████| 65/65 [00:02<00:00, 27.39it/s]\n               classes   top1_acc   top5_acc: 100%|██████████| 7/7 [00:00<00:00, 41.18it/s]",
          "output_type": "stream"
        },
        {
          "name": "stdout",
          "text": "                   all      0.939          1\n",
          "output_type": "stream"
        },
        {
          "name": "stderr",
          "text": "\n",
          "output_type": "stream"
        },
        {
          "name": "stdout",
          "text": "\n      Epoch    GPU_mem       loss  Instances       Size\n",
          "output_type": "stream"
        },
        {
          "name": "stderr",
          "text": "      35/50     0.396G     0.4229         13        128: 100%|██████████| 65/65 [00:02<00:00, 26.08it/s]\n               classes   top1_acc   top5_acc: 100%|██████████| 7/7 [00:00<00:00, 45.52it/s]",
          "output_type": "stream"
        },
        {
          "name": "stdout",
          "text": "                   all      0.944          1\n",
          "output_type": "stream"
        },
        {
          "name": "stderr",
          "text": "\n",
          "output_type": "stream"
        },
        {
          "name": "stdout",
          "text": "\n      Epoch    GPU_mem       loss  Instances       Size\n",
          "output_type": "stream"
        },
        {
          "name": "stderr",
          "text": "      36/50     0.396G     0.4123         13        128: 100%|██████████| 65/65 [00:02<00:00, 26.00it/s]\n               classes   top1_acc   top5_acc: 100%|██████████| 7/7 [00:00<00:00, 45.22it/s]",
          "output_type": "stream"
        },
        {
          "name": "stdout",
          "text": "                   all      0.953      0.995\n",
          "output_type": "stream"
        },
        {
          "name": "stderr",
          "text": "\n",
          "output_type": "stream"
        },
        {
          "name": "stdout",
          "text": "\n      Epoch    GPU_mem       loss  Instances       Size\n",
          "output_type": "stream"
        },
        {
          "name": "stderr",
          "text": "      37/50     0.396G     0.4645         13        128: 100%|██████████| 65/65 [00:02<00:00, 27.31it/s]\n               classes   top1_acc   top5_acc: 100%|██████████| 7/7 [00:00<00:00, 50.36it/s]",
          "output_type": "stream"
        },
        {
          "name": "stdout",
          "text": "                   all      0.944      0.995\n",
          "output_type": "stream"
        },
        {
          "name": "stderr",
          "text": "\n",
          "output_type": "stream"
        },
        {
          "name": "stdout",
          "text": "\n      Epoch    GPU_mem       loss  Instances       Size\n",
          "output_type": "stream"
        },
        {
          "name": "stderr",
          "text": "      38/50     0.396G     0.4252         13        128: 100%|██████████| 65/65 [00:02<00:00, 24.08it/s]\n               classes   top1_acc   top5_acc: 100%|██████████| 7/7 [00:00<00:00, 40.27it/s]",
          "output_type": "stream"
        },
        {
          "name": "stdout",
          "text": "                   all      0.962          1\n",
          "output_type": "stream"
        },
        {
          "name": "stderr",
          "text": "\n",
          "output_type": "stream"
        },
        {
          "name": "stdout",
          "text": "\n      Epoch    GPU_mem       loss  Instances       Size\n",
          "output_type": "stream"
        },
        {
          "name": "stderr",
          "text": "      39/50     0.396G      0.424         13        128: 100%|██████████| 65/65 [00:02<00:00, 25.47it/s]\n               classes   top1_acc   top5_acc: 100%|██████████| 7/7 [00:00<00:00, 47.97it/s]",
          "output_type": "stream"
        },
        {
          "name": "stdout",
          "text": "                   all      0.953      0.995\n",
          "output_type": "stream"
        },
        {
          "name": "stderr",
          "text": "\n",
          "output_type": "stream"
        },
        {
          "name": "stdout",
          "text": "\n      Epoch    GPU_mem       loss  Instances       Size\n",
          "output_type": "stream"
        },
        {
          "name": "stderr",
          "text": "      40/50     0.396G     0.3936         13        128: 100%|██████████| 65/65 [00:02<00:00, 26.65it/s]\n               classes   top1_acc   top5_acc: 100%|██████████| 7/7 [00:00<00:00, 50.54it/s]\n",
          "output_type": "stream"
        },
        {
          "name": "stdout",
          "text": "                   all      0.953      0.995\n\n      Epoch    GPU_mem       loss  Instances       Size\n",
          "output_type": "stream"
        },
        {
          "name": "stderr",
          "text": "      41/50     0.396G     0.4195         13        128: 100%|██████████| 65/65 [00:02<00:00, 22.91it/s]\n               classes   top1_acc   top5_acc: 100%|██████████| 7/7 [00:00<00:00, 45.48it/s]",
          "output_type": "stream"
        },
        {
          "name": "stdout",
          "text": "                   all      0.948          1\n",
          "output_type": "stream"
        },
        {
          "name": "stderr",
          "text": "\n",
          "output_type": "stream"
        },
        {
          "name": "stdout",
          "text": "\n      Epoch    GPU_mem       loss  Instances       Size\n",
          "output_type": "stream"
        },
        {
          "name": "stderr",
          "text": "      42/50     0.396G     0.4625         13        128: 100%|██████████| 65/65 [00:02<00:00, 25.00it/s]\n               classes   top1_acc   top5_acc: 100%|██████████| 7/7 [00:00<00:00, 46.77it/s]",
          "output_type": "stream"
        },
        {
          "name": "stdout",
          "text": "                   all      0.948          1\n",
          "output_type": "stream"
        },
        {
          "name": "stderr",
          "text": "\n",
          "output_type": "stream"
        },
        {
          "name": "stdout",
          "text": "\n      Epoch    GPU_mem       loss  Instances       Size\n",
          "output_type": "stream"
        },
        {
          "name": "stderr",
          "text": "      43/50     0.396G      0.359         13        128: 100%|██████████| 65/65 [00:02<00:00, 26.76it/s]\n               classes   top1_acc   top5_acc: 100%|██████████| 7/7 [00:00<00:00, 50.08it/s]",
          "output_type": "stream"
        },
        {
          "name": "stdout",
          "text": "                   all      0.948      0.995\n",
          "output_type": "stream"
        },
        {
          "name": "stderr",
          "text": "\n",
          "output_type": "stream"
        },
        {
          "name": "stdout",
          "text": "\n      Epoch    GPU_mem       loss  Instances       Size\n",
          "output_type": "stream"
        },
        {
          "name": "stderr",
          "text": "      44/50     0.396G     0.4171         13        128: 100%|██████████| 65/65 [00:02<00:00, 26.13it/s]\n               classes   top1_acc   top5_acc: 100%|██████████| 7/7 [00:00<00:00, 46.87it/s]",
          "output_type": "stream"
        },
        {
          "name": "stdout",
          "text": "                   all      0.953      0.995\n",
          "output_type": "stream"
        },
        {
          "name": "stderr",
          "text": "\n",
          "output_type": "stream"
        },
        {
          "name": "stdout",
          "text": "\n      Epoch    GPU_mem       loss  Instances       Size\n",
          "output_type": "stream"
        },
        {
          "name": "stderr",
          "text": "      45/50     0.396G     0.3763         13        128: 100%|██████████| 65/65 [00:02<00:00, 26.06it/s]\n               classes   top1_acc   top5_acc: 100%|██████████| 7/7 [00:00<00:00, 41.49it/s]",
          "output_type": "stream"
        },
        {
          "name": "stdout",
          "text": "                   all      0.953      0.995\n",
          "output_type": "stream"
        },
        {
          "name": "stderr",
          "text": "\n",
          "output_type": "stream"
        },
        {
          "name": "stdout",
          "text": "\n      Epoch    GPU_mem       loss  Instances       Size\n",
          "output_type": "stream"
        },
        {
          "name": "stderr",
          "text": "      46/50     0.396G     0.3736         13        128: 100%|██████████| 65/65 [00:02<00:00, 27.00it/s]\n               classes   top1_acc   top5_acc: 100%|██████████| 7/7 [00:00<00:00, 47.88it/s]",
          "output_type": "stream"
        },
        {
          "name": "stdout",
          "text": "                   all      0.953          1\n",
          "output_type": "stream"
        },
        {
          "name": "stderr",
          "text": "\n",
          "output_type": "stream"
        },
        {
          "name": "stdout",
          "text": "\n      Epoch    GPU_mem       loss  Instances       Size\n",
          "output_type": "stream"
        },
        {
          "name": "stderr",
          "text": "      47/50     0.396G      0.356         13        128: 100%|██████████| 65/65 [00:02<00:00, 25.49it/s]\n               classes   top1_acc   top5_acc: 100%|██████████| 7/7 [00:00<00:00, 48.47it/s]",
          "output_type": "stream"
        },
        {
          "name": "stdout",
          "text": "                   all      0.958          1\n",
          "output_type": "stream"
        },
        {
          "name": "stderr",
          "text": "\n",
          "output_type": "stream"
        },
        {
          "name": "stdout",
          "text": "\n      Epoch    GPU_mem       loss  Instances       Size\n",
          "output_type": "stream"
        },
        {
          "name": "stderr",
          "text": "      48/50     0.396G     0.3541         13        128: 100%|██████████| 65/65 [00:02<00:00, 23.55it/s]\n               classes   top1_acc   top5_acc: 100%|██████████| 7/7 [00:00<00:00, 38.11it/s]\n",
          "output_type": "stream"
        },
        {
          "name": "stdout",
          "text": "                   all      0.962          1\n\n      Epoch    GPU_mem       loss  Instances       Size\n",
          "output_type": "stream"
        },
        {
          "name": "stderr",
          "text": "      49/50     0.396G      0.399         13        128: 100%|██████████| 65/65 [00:02<00:00, 25.71it/s]\n               classes   top1_acc   top5_acc: 100%|██████████| 7/7 [00:00<00:00, 48.23it/s]\n",
          "output_type": "stream"
        },
        {
          "name": "stdout",
          "text": "                   all      0.958      0.995\n\n      Epoch    GPU_mem       loss  Instances       Size\n",
          "output_type": "stream"
        },
        {
          "name": "stderr",
          "text": "      50/50     0.396G     0.3526         13        128: 100%|██████████| 65/65 [00:02<00:00, 26.89it/s]\n               classes   top1_acc   top5_acc: 100%|██████████| 7/7 [00:00<00:00, 41.58it/s]",
          "output_type": "stream"
        },
        {
          "name": "stdout",
          "text": "                   all      0.958          1\n",
          "output_type": "stream"
        },
        {
          "name": "stderr",
          "text": "\n",
          "output_type": "stream"
        },
        {
          "name": "stdout",
          "text": "\n50 epochs completed in 0.047 hours.\nOptimizer stripped from runs/classify/train/weights/last.pt, 3.1MB\nOptimizer stripped from runs/classify/train/weights/best.pt, 3.1MB\n\nValidating runs/classify/train/weights/best.pt...\nUltralytics YOLOv8.1.18 🚀 Python-3.10.13 torch-2.1.2 CUDA:0 (Tesla T4, 15102MiB)\nYOLOv8n-cls summary (fused): 73 layers, 1497649 parameters, 0 gradients, 3.3 GFLOPs\n\u001b[34m\u001b[1mtrain:\u001b[0m /kaggle/input/kannada49char/data/train... found 1037 images in 49 classes ✅ \n\u001b[34m\u001b[1mval:\u001b[0m /kaggle/input/kannada49char/data/val... found 213 images in 49 classes ✅ \n\u001b[34m\u001b[1mtest:\u001b[0m None...\n",
          "output_type": "stream"
        },
        {
          "name": "stderr",
          "text": "               classes   top1_acc   top5_acc: 100%|██████████| 7/7 [00:00<00:00, 11.47it/s]\n",
          "output_type": "stream"
        },
        {
          "name": "stdout",
          "text": "                   all      0.958          1\nSpeed: 0.1ms preprocess, 2.1ms inference, 0.0ms loss, 0.0ms postprocess per image\nResults saved to \u001b[1mruns/classify/train\u001b[0m\nResults saved to \u001b[1mruns/classify/train\u001b[0m\n",
          "output_type": "stream"
        },
        {
          "output_type": "display_data",
          "data": {
            "text/plain": "VBox(children=(Label(value='3.738 MB of 3.738 MB uploaded\\r'), FloatProgress(value=1.0, max=1.0)))",
            "application/vnd.jupyter.widget-view+json": {
              "version_major": 2,
              "version_minor": 0,
              "model_id": ""
            }
          },
          "metadata": {}
        },
        {
          "output_type": "display_data",
          "data": {
            "text/plain": "<IPython.core.display.HTML object>",
            "text/html": "<style>\n    table.wandb td:nth-child(1) { padding: 0 10px; text-align: left ; width: auto;} td:nth-child(2) {text-align: left ; width: 100%}\n    .wandb-row { display: flex; flex-direction: row; flex-wrap: wrap; justify-content: flex-start; width: 100% }\n    .wandb-col { display: flex; flex-direction: column; flex-basis: 100%; flex: 1; padding: 10px; }\n    </style>\n<div class=\"wandb-row\"><div class=\"wandb-col\"><h3>Run history:</h3><br/><table class=\"wandb\"><tr><td>lr/pg0</td><td>▃▆████▇▇▇▇▇▇▆▆▆▆▅▅▅▅▅▅▄▄▄▄▄▃▃▃▃▃▂▂▂▂▂▁▁▁</td></tr><tr><td>lr/pg1</td><td>▃▆████▇▇▇▇▇▇▆▆▆▆▅▅▅▅▅▅▄▄▄▄▄▃▃▃▃▃▂▂▂▂▂▁▁▁</td></tr><tr><td>lr/pg2</td><td>▃▆████▇▇▇▇▇▇▆▆▆▆▅▅▅▅▅▅▄▄▄▄▄▃▃▃▃▃▂▂▂▂▂▁▁▁</td></tr><tr><td>metrics/accuracy_top1</td><td>▁▃▄▅▇▇▇▇█▇▇▇████████████████████████████</td></tr><tr><td>metrics/accuracy_top5</td><td>▁▅▆▇████████████████████████████████████</td></tr><tr><td>model/GFLOPs</td><td>▁</td></tr><tr><td>model/parameters</td><td>▁</td></tr><tr><td>model/speed_PyTorch(ms)</td><td>▁</td></tr><tr><td>train/loss</td><td>█▇▆▄▃▂▂▂▂▂▂▂▂▁▁▁▁▁▁▁▁▁▁▁▁▁▁▁▁▁▁▁▁▁▁▁▁▁▁▁</td></tr><tr><td>val/loss</td><td>█▇▆▅▃▃▃▂▂▂▂▂▂▂▁▂▁▁▁▁▁▁▁▁▁▁▁▁▁▁▁▁▁▁▁▁▁▁▁▁</td></tr></table><br/></div><div class=\"wandb-col\"><h3>Run summary:</h3><br/><table class=\"wandb\"><tr><td>lr/pg0</td><td>4e-05</td></tr><tr><td>lr/pg1</td><td>4e-05</td></tr><tr><td>lr/pg2</td><td>4e-05</td></tr><tr><td>metrics/accuracy_top1</td><td>0.95775</td></tr><tr><td>metrics/accuracy_top5</td><td>1.0</td></tr><tr><td>model/GFLOPs</td><td>3.41</td></tr><tr><td>model/parameters</td><td>1501057</td></tr><tr><td>model/speed_PyTorch(ms)</td><td>1.567</td></tr><tr><td>train/loss</td><td>0.3526</td></tr><tr><td>val/loss</td><td>2.99247</td></tr></table><br/></div></div>"
          },
          "metadata": {}
        },
        {
          "output_type": "display_data",
          "data": {
            "text/plain": "<IPython.core.display.HTML object>",
            "text/html": " View run <strong style=\"color:#cdcd00\">train</strong> at: <a href='https://wandb.ai/itpm/YOLOv8/runs/14i4dnou' target=\"_blank\">https://wandb.ai/itpm/YOLOv8/runs/14i4dnou</a><br/>Synced 6 W&B file(s), 15 media file(s), 1 artifact file(s) and 0 other file(s)"
          },
          "metadata": {}
        },
        {
          "output_type": "display_data",
          "data": {
            "text/plain": "<IPython.core.display.HTML object>",
            "text/html": "Find logs at: <code>./wandb/run-20240225_182132-14i4dnou/logs</code>"
          },
          "metadata": {}
        }
      ]
    },
    {
      "cell_type": "code",
      "source": [
        "learner = YOLO('/kaggle/working/runs/classify/train/weights/best.pt')\n",
        "res = learner.predict('/kaggle/input/kannada49char/data/train/45/img545-001.png')\n",
        "res[0].probs"
      ],
      "metadata": {
        "execution": {
          "iopub.status.busy": "2024-02-25T18:27:03.837407Z",
          "iopub.execute_input": "2024-02-25T18:27:03.838516Z",
          "iopub.status.idle": "2024-02-25T18:27:03.986912Z",
          "shell.execute_reply.started": "2024-02-25T18:27:03.838458Z",
          "shell.execute_reply": "2024-02-25T18:27:03.985929Z"
        },
        "trusted": true,
        "id": "z5M8ze0hxl6X",
        "outputId": "bcf497d6-5dea-480a-af52-7c24988fd119"
      },
      "execution_count": null,
      "outputs": [
        {
          "name": "stdout",
          "text": "\nimage 1/1 /kaggle/input/kannada49char/data/train/45/img545-001.png: 128x128 45 1.00, 35 0.00, 36 0.00, 8 0.00, 9 0.00, 3.0ms\nSpeed: 6.9ms preprocess, 3.0ms inference, 0.1ms postprocess per image at shape (1, 3, 128, 128)\n",
          "output_type": "stream"
        },
        {
          "execution_count": 7,
          "output_type": "execute_result",
          "data": {
            "text/plain": "ultralytics.engine.results.Probs object with attributes:\n\ndata: tensor([6.7484e-09, 1.1976e-09, 4.8208e-08, 1.1332e-07, 3.4033e-07, 1.6604e-07, 6.5000e-10, 1.1073e-08, 6.8492e-08, 2.1374e-09, 8.0568e-09, 2.1746e-08, 5.6424e-10, 7.5045e-08, 3.7995e-08, 6.3317e-06, 3.7457e-07, 1.1780e-10, 4.5837e-11, 1.8201e-08, 6.2420e-06, 2.2504e-06, 1.2706e-08, 2.8891e-10, 7.1363e-10, 1.0050e-05,\n        4.8780e-07, 1.6511e-05, 2.2434e-07, 4.2882e-04, 2.4064e-04, 1.1304e-06, 2.2406e-09, 2.7016e-08, 8.4498e-10, 1.9893e-05, 4.9970e-10, 2.3507e-07, 1.9887e-10, 2.6391e-08, 9.9906e-01, 2.4246e-08, 5.8927e-08, 1.1549e-07, 3.6969e-07, 1.6459e-10, 4.8875e-09, 1.0601e-04, 9.4351e-05], device='cuda:0')\norig_shape: None\nshape: torch.Size([49])\ntop1: 40\ntop1conf: tensor(0.9991, device='cuda:0')\ntop5: [40, 29, 30, 47, 48]\ntop5conf: tensor([9.9906e-01, 4.2882e-04, 2.4064e-04, 1.0601e-04, 9.4351e-05], device='cuda:0')"
          },
          "metadata": {}
        }
      ]
    },
    {
      "cell_type": "code",
      "source": [
        "import shutil\n",
        "shutil.copy('/kaggle/working/runs/classify/train/weights/best.pt','/kaggle/working/model.pt')"
      ],
      "metadata": {
        "execution": {
          "iopub.status.busy": "2024-02-25T18:28:12.149223Z",
          "iopub.execute_input": "2024-02-25T18:28:12.149633Z",
          "iopub.status.idle": "2024-02-25T18:28:12.15949Z",
          "shell.execute_reply.started": "2024-02-25T18:28:12.149605Z",
          "shell.execute_reply": "2024-02-25T18:28:12.158292Z"
        },
        "trusted": true,
        "id": "BX-p2nMgxl6Y",
        "outputId": "f28ae9a0-ecb8-4396-99ab-bfcf90f43c91"
      },
      "execution_count": null,
      "outputs": [
        {
          "execution_count": 8,
          "output_type": "execute_result",
          "data": {
            "text/plain": "'/kaggle/working/model.pt'"
          },
          "metadata": {}
        }
      ]
    },
    {
      "cell_type": "code",
      "source": [
        "import tensorflow as tf\n",
        "from tensorflow.keras.models import Sequential, load_model\n",
        "from tensorflow.keras.layers import Dense, Dropout, Activation, Flatten, Conv2D, MaxPooling2D\n",
        "from sklearn.model_selection import train_test_split\n",
        "from tensorflow.keras import layers, models\n",
        "import cv2"
      ],
      "metadata": {
        "execution": {
          "iopub.status.busy": "2024-02-25T19:25:21.306894Z",
          "iopub.execute_input": "2024-02-25T19:25:21.30723Z",
          "iopub.status.idle": "2024-02-25T19:25:21.312328Z",
          "shell.execute_reply.started": "2024-02-25T19:25:21.307204Z",
          "shell.execute_reply": "2024-02-25T19:25:21.31148Z"
        },
        "trusted": true,
        "id": "R5KfQNuTxl6a"
      },
      "execution_count": null,
      "outputs": []
    },
    {
      "cell_type": "code",
      "source": [
        "y_train = []\n",
        "X_train = []\n",
        "for cat in os.listdir('/kaggle/input/kannada49char/data/train'):\n",
        "    for img in os.listdir(os.path.join('/kaggle/input/kannada49char/data/train',cat)):\n",
        "        if int(cat) > 7:\n",
        "            y_train.append(int(cat)-1)\n",
        "        else:\n",
        "            y_train.append(int(cat))\n",
        "        img2 = cv2.imread(os.path.join('/kaggle/input/kannada49char/data/train',cat)+\"/\"+img)\n",
        "        imgz = cv2.cvtColor(img2, cv2.COLOR_BGR2GRAY)\n",
        "        X_train.append(imgz)"
      ],
      "metadata": {
        "execution": {
          "iopub.status.busy": "2024-02-25T19:25:21.313711Z",
          "iopub.execute_input": "2024-02-25T19:25:21.313995Z",
          "iopub.status.idle": "2024-02-25T19:25:26.072833Z",
          "shell.execute_reply.started": "2024-02-25T19:25:21.313971Z",
          "shell.execute_reply": "2024-02-25T19:25:26.07204Z"
        },
        "trusted": true,
        "id": "NAoYRMeRxl6a"
      },
      "execution_count": null,
      "outputs": []
    },
    {
      "cell_type": "code",
      "source": [
        "for cat in os.listdir('/kaggle/input/kannada49char/data/val'):\n",
        "    for img in os.listdir(os.path.join('/kaggle/input/kannada49char/data/val',cat)):\n",
        "        if int(cat) > 7:\n",
        "            y_train.append(int(cat)-1)\n",
        "        else:\n",
        "            y_train.append(int(cat))\n",
        "        img2 = cv2.imread(os.path.join('/kaggle/input/kannada49char/data/val',cat)+\"/\"+img)\n",
        "        imgz = cv2.cvtColor(img2, cv2.COLOR_BGR2GRAY)\n",
        "        X_train.append(imgz)"
      ],
      "metadata": {
        "execution": {
          "iopub.status.busy": "2024-02-25T19:25:26.07384Z",
          "iopub.execute_input": "2024-02-25T19:25:26.074134Z",
          "iopub.status.idle": "2024-02-25T19:25:26.963582Z",
          "shell.execute_reply.started": "2024-02-25T19:25:26.07411Z",
          "shell.execute_reply": "2024-02-25T19:25:26.962569Z"
        },
        "trusted": true,
        "id": "BTiRKGIWxl6b"
      },
      "execution_count": null,
      "outputs": []
    },
    {
      "cell_type": "code",
      "source": [
        "X_train = np.array(X_train)\n",
        "y_train = np.array(y_train)"
      ],
      "metadata": {
        "execution": {
          "iopub.status.busy": "2024-02-25T19:25:26.964853Z",
          "iopub.execute_input": "2024-02-25T19:25:26.965505Z",
          "iopub.status.idle": "2024-02-25T19:25:26.978947Z",
          "shell.execute_reply.started": "2024-02-25T19:25:26.96547Z",
          "shell.execute_reply": "2024-02-25T19:25:26.978162Z"
        },
        "trusted": true,
        "id": "4qisf98Hxl6c"
      },
      "execution_count": null,
      "outputs": []
    },
    {
      "cell_type": "code",
      "source": [
        "print(X_train.shape,y_train.shape)"
      ],
      "metadata": {
        "execution": {
          "iopub.status.busy": "2024-02-25T19:25:26.981727Z",
          "iopub.execute_input": "2024-02-25T19:25:26.982111Z",
          "iopub.status.idle": "2024-02-25T19:25:26.998174Z",
          "shell.execute_reply.started": "2024-02-25T19:25:26.982081Z",
          "shell.execute_reply": "2024-02-25T19:25:26.997196Z"
        },
        "trusted": true,
        "id": "G_alNEMJxl6d",
        "outputId": "be7cd99f-19a0-4ba9-aa8d-d36a50618463"
      },
      "execution_count": null,
      "outputs": [
        {
          "name": "stdout",
          "text": "(1250, 128, 128) (1250,)\n",
          "output_type": "stream"
        }
      ]
    },
    {
      "cell_type": "code",
      "source": [
        "lossFN = 'sparse_categorical_crossentropy'\n",
        "optimizerFN = tf.keras.optimizers.Adam()"
      ],
      "metadata": {
        "execution": {
          "iopub.status.busy": "2024-02-25T19:25:34.134081Z",
          "iopub.execute_input": "2024-02-25T19:25:34.134784Z",
          "iopub.status.idle": "2024-02-25T19:25:34.936049Z",
          "shell.execute_reply.started": "2024-02-25T19:25:34.134754Z",
          "shell.execute_reply": "2024-02-25T19:25:34.934983Z"
        },
        "trusted": true,
        "id": "wXIdgjh_xl6e"
      },
      "execution_count": null,
      "outputs": []
    },
    {
      "cell_type": "code",
      "source": [
        "data_augmentation = models.Sequential(layers.experimental.preprocessing.RandomRotation((-0.1, 0.1),input_shape=(128, 128, 1)))"
      ],
      "metadata": {
        "execution": {
          "iopub.status.busy": "2024-02-25T19:25:39.718734Z",
          "iopub.execute_input": "2024-02-25T19:25:39.719448Z",
          "iopub.status.idle": "2024-02-25T19:25:40.031963Z",
          "shell.execute_reply.started": "2024-02-25T19:25:39.719418Z",
          "shell.execute_reply": "2024-02-25T19:25:40.030929Z"
        },
        "trusted": true,
        "id": "sDQ7q5egxl6e"
      },
      "execution_count": null,
      "outputs": []
    },
    {
      "cell_type": "code",
      "source": [
        "X_train = X_train/255"
      ],
      "metadata": {
        "execution": {
          "iopub.status.busy": "2024-02-25T19:21:01.126337Z",
          "iopub.execute_input": "2024-02-25T19:21:01.126711Z",
          "iopub.status.idle": "2024-02-25T19:21:01.181454Z",
          "shell.execute_reply.started": "2024-02-25T19:21:01.12668Z",
          "shell.execute_reply": "2024-02-25T19:21:01.180606Z"
        },
        "trusted": true,
        "id": "RVkMY4Zsxl6f"
      },
      "execution_count": null,
      "outputs": []
    },
    {
      "cell_type": "code",
      "source": [
        "model =  models.Sequential([\n",
        "\n",
        "    data_augmentation,\n",
        "\n",
        "    layers.Conv2D(filters=16, kernel_size=(3, 3), activation='relu',padding = 'same'),\n",
        "    layers.MaxPooling2D(),\n",
        "\n",
        "    layers.Conv2D(filters=32, kernel_size=(3, 3), activation='relu', padding = 'same'),\n",
        "    layers.MaxPooling2D(),\n",
        "\n",
        "    layers.Conv2D(filters=64, kernel_size=(3, 3), activation='relu', padding = 'same'),\n",
        "    layers.MaxPooling2D(),\n",
        "    layers.Dropout(0.2),\n",
        "    layers.Conv2D(filters=128, kernel_size=(3, 3), activation='relu', padding = 'same'),\n",
        "    layers.MaxPooling2D(),\n",
        "\n",
        "\n",
        "    layers.Flatten(),\n",
        "\n",
        "\n",
        "    layers.Dense(128,activation = 'relu'),\n",
        "\n",
        "    layers.Dropout(0.1),\n",
        "    layers.Dense(64,activation = 'relu'),\n",
        "    layers.Dense(49, activation='softmax')\n",
        "])\n",
        "\n",
        "model.compile(optimizer=optimizerFN,\n",
        "              loss= lossFN,\n",
        "              metrics=['accuracy'])"
      ],
      "metadata": {
        "execution": {
          "iopub.status.busy": "2024-02-25T19:25:49.703851Z",
          "iopub.execute_input": "2024-02-25T19:25:49.704229Z",
          "iopub.status.idle": "2024-02-25T19:25:49.959096Z",
          "shell.execute_reply.started": "2024-02-25T19:25:49.704199Z",
          "shell.execute_reply": "2024-02-25T19:25:49.958086Z"
        },
        "trusted": true,
        "id": "a4INUJiSxl6f"
      },
      "execution_count": null,
      "outputs": []
    },
    {
      "cell_type": "code",
      "source": [
        "os.mkdir('/kaggle/working/chekcpoints')"
      ],
      "metadata": {
        "execution": {
          "iopub.status.busy": "2024-02-25T19:01:04.532155Z",
          "iopub.execute_input": "2024-02-25T19:01:04.532824Z",
          "iopub.status.idle": "2024-02-25T19:01:04.537439Z",
          "shell.execute_reply.started": "2024-02-25T19:01:04.532793Z",
          "shell.execute_reply": "2024-02-25T19:01:04.536276Z"
        },
        "trusted": true,
        "id": "lcT__JLsxl6g"
      },
      "execution_count": null,
      "outputs": []
    },
    {
      "cell_type": "code",
      "source": [
        "from tensorflow.keras.callbacks import ModelCheckpoint\n",
        "filepath = '/kaggle/working/chekcpoints-{epoch:02d}-{val_accuracy:.02f}.h5'\n",
        "checkpoint = ModelCheckpoint(filepath,monitor='val_loss',verbose=1,save_best_only=True,mode='min')"
      ],
      "metadata": {
        "execution": {
          "iopub.status.busy": "2024-02-25T19:25:53.713157Z",
          "iopub.execute_input": "2024-02-25T19:25:53.713597Z",
          "iopub.status.idle": "2024-02-25T19:25:53.720089Z",
          "shell.execute_reply.started": "2024-02-25T19:25:53.713563Z",
          "shell.execute_reply": "2024-02-25T19:25:53.718904Z"
        },
        "trusted": true,
        "id": "BISkFrpOxl6g"
      },
      "execution_count": null,
      "outputs": []
    },
    {
      "cell_type": "code",
      "source": [
        "hist = model.fit(X_train,y_train,batch_size=16,validation_split = 0.10,callbacks=[checkpoint],epochs=100)"
      ],
      "metadata": {
        "execution": {
          "iopub.status.busy": "2024-02-25T19:25:56.118716Z",
          "iopub.execute_input": "2024-02-25T19:25:56.11941Z",
          "iopub.status.idle": "2024-02-25T19:27:19.499469Z",
          "shell.execute_reply.started": "2024-02-25T19:25:56.119382Z",
          "shell.execute_reply": "2024-02-25T19:27:19.498416Z"
        },
        "trusted": true,
        "id": "6dkYeF4wxl6h",
        "outputId": "e963d7a7-efc9-4070-87c2-fc5915108a36"
      },
      "execution_count": null,
      "outputs": [
        {
          "name": "stdout",
          "text": "Epoch 1/100\n",
          "output_type": "stream"
        },
        {
          "name": "stderr",
          "text": "2024-02-25 19:25:57.454716: E tensorflow/core/grappler/optimizers/meta_optimizer.cc:961] layout failed: INVALID_ARGUMENT: Size of values 0 does not match size of permutation 4 @ fanin shape insequential_1/dropout/dropout/SelectV2-2-TransposeNHWCToNCHW-LayoutOptimizer\nWARNING: All log messages before absl::InitializeLog() is called are written to STDERR\nI0000 00:00:1708889160.798988     102 device_compiler.h:186] Compiled cluster using XLA!  This line is logged at most once for the lifetime of the process.\n",
          "output_type": "stream"
        },
        {
          "name": "stdout",
          "text": "71/71 [==============================] - ETA: 0s - loss: 6.1888 - accuracy: 0.0160\nEpoch 1: val_loss improved from inf to 3.89469, saving model to /kaggle/working/chekcpoints-01-0.02.h5\n71/71 [==============================] - 8s 22ms/step - loss: 6.1888 - accuracy: 0.0160 - val_loss: 3.8947 - val_accuracy: 0.0160\nEpoch 2/100\n15/71 [=====>........................] - ETA: 0s - loss: 3.8860 - accuracy: 0.0500  ",
          "output_type": "stream"
        },
        {
          "name": "stderr",
          "text": "/opt/conda/lib/python3.10/site-packages/keras/src/engine/training.py:3103: UserWarning: You are saving your model as an HDF5 file via `model.save()`. This file format is considered legacy. We recommend using instead the native Keras format, e.g. `model.save('my_model.keras')`.\n  saving_api.save_model(\n",
          "output_type": "stream"
        },
        {
          "name": "stdout",
          "text": "71/71 [==============================] - ETA: 0s - loss: 3.8955 - accuracy: 0.0222\nEpoch 2: val_loss improved from 3.89469 to 3.89373, saving model to /kaggle/working/chekcpoints-02-0.00.h5\n71/71 [==============================] - 1s 9ms/step - loss: 3.8955 - accuracy: 0.0222 - val_loss: 3.8937 - val_accuracy: 0.0000e+00\nEpoch 3/100\n71/71 [==============================] - ETA: 0s - loss: 3.8949 - accuracy: 0.0222\nEpoch 3: val_loss did not improve from 3.89373\n71/71 [==============================] - 1s 8ms/step - loss: 3.8949 - accuracy: 0.0222 - val_loss: 3.8966 - val_accuracy: 0.0000e+00\nEpoch 4/100\n71/71 [==============================] - ETA: 0s - loss: 3.8948 - accuracy: 0.0222\nEpoch 4: val_loss did not improve from 3.89373\n71/71 [==============================] - 1s 8ms/step - loss: 3.8948 - accuracy: 0.0222 - val_loss: 3.8997 - val_accuracy: 0.0080\nEpoch 5/100\n71/71 [==============================] - ETA: 0s - loss: 3.8945 - accuracy: 0.0222\nEpoch 5: val_loss did not improve from 3.89373\n71/71 [==============================] - 1s 8ms/step - loss: 3.8945 - accuracy: 0.0222 - val_loss: 3.9026 - val_accuracy: 0.0000e+00\nEpoch 6/100\n71/71 [==============================] - ETA: 0s - loss: 3.8887 - accuracy: 0.0373\nEpoch 6: val_loss did not improve from 3.89373\n71/71 [==============================] - 1s 8ms/step - loss: 3.8887 - accuracy: 0.0373 - val_loss: 3.9140 - val_accuracy: 0.0000e+00\nEpoch 7/100\n64/71 [==========================>...] - ETA: 0s - loss: 3.8694 - accuracy: 0.0322\nEpoch 7: val_loss improved from 3.89373 to 3.82713, saving model to /kaggle/working/chekcpoints-07-0.03.h5\n71/71 [==============================] - 1s 9ms/step - loss: 3.8665 - accuracy: 0.0338 - val_loss: 3.8271 - val_accuracy: 0.0320\nEpoch 8/100\n71/71 [==============================] - ETA: 0s - loss: 3.8184 - accuracy: 0.0427\nEpoch 8: val_loss improved from 3.82713 to 3.78182, saving model to /kaggle/working/chekcpoints-08-0.01.h5\n71/71 [==============================] - 1s 9ms/step - loss: 3.8184 - accuracy: 0.0427 - val_loss: 3.7818 - val_accuracy: 0.0080\nEpoch 9/100\n71/71 [==============================] - ETA: 0s - loss: 3.7155 - accuracy: 0.0596\nEpoch 9: val_loss improved from 3.78182 to 3.62176, saving model to /kaggle/working/chekcpoints-09-0.02.h5\n71/71 [==============================] - 1s 9ms/step - loss: 3.7155 - accuracy: 0.0596 - val_loss: 3.6218 - val_accuracy: 0.0240\nEpoch 10/100\n70/71 [============================>.] - ETA: 0s - loss: 3.5984 - accuracy: 0.0732\nEpoch 10: val_loss improved from 3.62176 to 3.61101, saving model to /kaggle/working/chekcpoints-10-0.10.h5\n71/71 [==============================] - 1s 9ms/step - loss: 3.5994 - accuracy: 0.0729 - val_loss: 3.6110 - val_accuracy: 0.0960\nEpoch 11/100\n71/71 [==============================] - ETA: 0s - loss: 3.4857 - accuracy: 0.0844\nEpoch 11: val_loss improved from 3.61101 to 3.54255, saving model to /kaggle/working/chekcpoints-11-0.10.h5\n71/71 [==============================] - 1s 9ms/step - loss: 3.4857 - accuracy: 0.0844 - val_loss: 3.5426 - val_accuracy: 0.0960\nEpoch 12/100\n71/71 [==============================] - ETA: 0s - loss: 3.3967 - accuracy: 0.1031\nEpoch 12: val_loss improved from 3.54255 to 3.26000, saving model to /kaggle/working/chekcpoints-12-0.14.h5\n71/71 [==============================] - 1s 9ms/step - loss: 3.3967 - accuracy: 0.1031 - val_loss: 3.2600 - val_accuracy: 0.1440\nEpoch 13/100\n71/71 [==============================] - ETA: 0s - loss: 3.2875 - accuracy: 0.1147\nEpoch 13: val_loss improved from 3.26000 to 3.24821, saving model to /kaggle/working/chekcpoints-13-0.10.h5\n71/71 [==============================] - 1s 9ms/step - loss: 3.2875 - accuracy: 0.1147 - val_loss: 3.2482 - val_accuracy: 0.1040\nEpoch 14/100\n66/71 [==========================>...] - ETA: 0s - loss: 3.1020 - accuracy: 0.1705\nEpoch 14: val_loss improved from 3.24821 to 2.76008, saving model to /kaggle/working/chekcpoints-14-0.26.h5\n71/71 [==============================] - 1s 10ms/step - loss: 3.1129 - accuracy: 0.1662 - val_loss: 2.7601 - val_accuracy: 0.2640\nEpoch 15/100\n69/71 [============================>.] - ETA: 0s - loss: 2.8632 - accuracy: 0.2056\nEpoch 15: val_loss improved from 2.76008 to 2.49876, saving model to /kaggle/working/chekcpoints-15-0.36.h5\n71/71 [==============================] - 1s 9ms/step - loss: 2.8509 - accuracy: 0.2080 - val_loss: 2.4988 - val_accuracy: 0.3600\nEpoch 16/100\n69/71 [============================>.] - ETA: 0s - loss: 2.7319 - accuracy: 0.2301\nEpoch 16: val_loss improved from 2.49876 to 2.41503, saving model to /kaggle/working/chekcpoints-16-0.35.h5\n71/71 [==============================] - 1s 9ms/step - loss: 2.7223 - accuracy: 0.2329 - val_loss: 2.4150 - val_accuracy: 0.3520\nEpoch 17/100\n71/71 [==============================] - ETA: 0s - loss: 2.5425 - accuracy: 0.2604\nEpoch 17: val_loss improved from 2.41503 to 2.12561, saving model to /kaggle/working/chekcpoints-17-0.41.h5\n71/71 [==============================] - 1s 9ms/step - loss: 2.5425 - accuracy: 0.2604 - val_loss: 2.1256 - val_accuracy: 0.4080\nEpoch 18/100\n71/71 [==============================] - ETA: 0s - loss: 2.2343 - accuracy: 0.3449\nEpoch 18: val_loss improved from 2.12561 to 2.01641, saving model to /kaggle/working/chekcpoints-18-0.42.h5\n71/71 [==============================] - 1s 9ms/step - loss: 2.2343 - accuracy: 0.3449 - val_loss: 2.0164 - val_accuracy: 0.4240\nEpoch 19/100\n71/71 [==============================] - ETA: 0s - loss: 2.0401 - accuracy: 0.3556\nEpoch 19: val_loss improved from 2.01641 to 1.77499, saving model to /kaggle/working/chekcpoints-19-0.46.h5\n71/71 [==============================] - 1s 9ms/step - loss: 2.0401 - accuracy: 0.3556 - val_loss: 1.7750 - val_accuracy: 0.4560\nEpoch 20/100\n71/71 [==============================] - ETA: 0s - loss: 1.9162 - accuracy: 0.4258\nEpoch 20: val_loss improved from 1.77499 to 1.75058, saving model to /kaggle/working/chekcpoints-20-0.49.h5\n71/71 [==============================] - 1s 9ms/step - loss: 1.9162 - accuracy: 0.4258 - val_loss: 1.7506 - val_accuracy: 0.4880\nEpoch 21/100\n64/71 [==========================>...] - ETA: 0s - loss: 1.7724 - accuracy: 0.4531\nEpoch 21: val_loss improved from 1.75058 to 1.51528, saving model to /kaggle/working/chekcpoints-21-0.53.h5\n71/71 [==============================] - 1s 9ms/step - loss: 1.7627 - accuracy: 0.4578 - val_loss: 1.5153 - val_accuracy: 0.5280\nEpoch 22/100\n71/71 [==============================] - ETA: 0s - loss: 1.6003 - accuracy: 0.4933\nEpoch 22: val_loss did not improve from 1.51528\n71/71 [==============================] - 1s 8ms/step - loss: 1.6003 - accuracy: 0.4933 - val_loss: 1.6252 - val_accuracy: 0.5440\nEpoch 23/100\n71/71 [==============================] - ETA: 0s - loss: 1.4920 - accuracy: 0.5404\nEpoch 23: val_loss improved from 1.51528 to 1.32095, saving model to /kaggle/working/chekcpoints-23-0.61.h5\n71/71 [==============================] - 1s 9ms/step - loss: 1.4920 - accuracy: 0.5404 - val_loss: 1.3209 - val_accuracy: 0.6080\nEpoch 24/100\n71/71 [==============================] - ETA: 0s - loss: 1.3779 - accuracy: 0.5591\nEpoch 24: val_loss improved from 1.32095 to 1.22831, saving model to /kaggle/working/chekcpoints-24-0.63.h5\n71/71 [==============================] - 1s 9ms/step - loss: 1.3779 - accuracy: 0.5591 - val_loss: 1.2283 - val_accuracy: 0.6320\nEpoch 25/100\n71/71 [==============================] - ETA: 0s - loss: 1.3390 - accuracy: 0.5680\nEpoch 25: val_loss did not improve from 1.22831\n71/71 [==============================] - 1s 8ms/step - loss: 1.3390 - accuracy: 0.5680 - val_loss: 1.3074 - val_accuracy: 0.6560\nEpoch 26/100\n71/71 [==============================] - ETA: 0s - loss: 1.2109 - accuracy: 0.6080\nEpoch 26: val_loss did not improve from 1.22831\n71/71 [==============================] - 1s 8ms/step - loss: 1.2109 - accuracy: 0.6080 - val_loss: 1.2583 - val_accuracy: 0.6560\nEpoch 27/100\n64/71 [==========================>...] - ETA: 0s - loss: 1.1866 - accuracy: 0.6074\nEpoch 27: val_loss did not improve from 1.22831\n71/71 [==============================] - 1s 8ms/step - loss: 1.1813 - accuracy: 0.6071 - val_loss: 1.3892 - val_accuracy: 0.6320\nEpoch 28/100\n64/71 [==========================>...] - ETA: 0s - loss: 1.0679 - accuracy: 0.6465\nEpoch 28: val_loss improved from 1.22831 to 1.20926, saving model to /kaggle/working/chekcpoints-28-0.63.h5\n71/71 [==============================] - 1s 9ms/step - loss: 1.0722 - accuracy: 0.6471 - val_loss: 1.2093 - val_accuracy: 0.6320\nEpoch 29/100\n71/71 [==============================] - ETA: 0s - loss: 1.0543 - accuracy: 0.6578\nEpoch 29: val_loss improved from 1.20926 to 1.01156, saving model to /kaggle/working/chekcpoints-29-0.64.h5\n71/71 [==============================] - 1s 9ms/step - loss: 1.0543 - accuracy: 0.6578 - val_loss: 1.0116 - val_accuracy: 0.6400\nEpoch 30/100\n64/71 [==========================>...] - ETA: 0s - loss: 0.9216 - accuracy: 0.6816\nEpoch 30: val_loss did not improve from 1.01156\n71/71 [==============================] - 1s 8ms/step - loss: 0.9283 - accuracy: 0.6809 - val_loss: 1.1610 - val_accuracy: 0.6800\nEpoch 31/100\n71/71 [==============================] - ETA: 0s - loss: 0.9105 - accuracy: 0.7102\nEpoch 31: val_loss did not improve from 1.01156\n71/71 [==============================] - 1s 8ms/step - loss: 0.9105 - accuracy: 0.7102 - val_loss: 1.3438 - val_accuracy: 0.6160\nEpoch 32/100\n71/71 [==============================] - ETA: 0s - loss: 0.9563 - accuracy: 0.6853\nEpoch 32: val_loss did not improve from 1.01156\n71/71 [==============================] - 1s 8ms/step - loss: 0.9563 - accuracy: 0.6853 - val_loss: 1.0239 - val_accuracy: 0.6960\nEpoch 33/100\n71/71 [==============================] - ETA: 0s - loss: 0.8060 - accuracy: 0.7316\nEpoch 33: val_loss did not improve from 1.01156\n71/71 [==============================] - 1s 8ms/step - loss: 0.8060 - accuracy: 0.7316 - val_loss: 1.1049 - val_accuracy: 0.6960\nEpoch 34/100\n64/71 [==========================>...] - ETA: 0s - loss: 0.8567 - accuracy: 0.7080\nEpoch 34: val_loss did not improve from 1.01156\n71/71 [==============================] - 1s 8ms/step - loss: 0.8454 - accuracy: 0.7093 - val_loss: 1.2679 - val_accuracy: 0.6640\nEpoch 35/100\n64/71 [==========================>...] - ETA: 0s - loss: 0.7712 - accuracy: 0.7383\nEpoch 35: val_loss did not improve from 1.01156\n71/71 [==============================] - 1s 8ms/step - loss: 0.7701 - accuracy: 0.7413 - val_loss: 1.3194 - val_accuracy: 0.6560\nEpoch 36/100\n64/71 [==========================>...] - ETA: 0s - loss: 0.8209 - accuracy: 0.7188\nEpoch 36: val_loss did not improve from 1.01156\n71/71 [==============================] - 1s 8ms/step - loss: 0.7942 - accuracy: 0.7280 - val_loss: 1.4916 - val_accuracy: 0.6640\nEpoch 37/100\n71/71 [==============================] - ETA: 0s - loss: 0.6726 - accuracy: 0.7671\nEpoch 37: val_loss did not improve from 1.01156\n71/71 [==============================] - 1s 8ms/step - loss: 0.6726 - accuracy: 0.7671 - val_loss: 1.1159 - val_accuracy: 0.7040\nEpoch 38/100\n71/71 [==============================] - ETA: 0s - loss: 0.6534 - accuracy: 0.7698\nEpoch 38: val_loss did not improve from 1.01156\n71/71 [==============================] - 1s 8ms/step - loss: 0.6534 - accuracy: 0.7698 - val_loss: 1.3587 - val_accuracy: 0.6960\nEpoch 39/100\n71/71 [==============================] - ETA: 0s - loss: 0.6331 - accuracy: 0.7760\nEpoch 39: val_loss improved from 1.01156 to 0.97900, saving model to /kaggle/working/chekcpoints-39-0.70.h5\n71/71 [==============================] - 1s 9ms/step - loss: 0.6331 - accuracy: 0.7760 - val_loss: 0.9790 - val_accuracy: 0.6960\nEpoch 40/100\n71/71 [==============================] - ETA: 0s - loss: 0.6255 - accuracy: 0.7840\nEpoch 40: val_loss did not improve from 0.97900\n71/71 [==============================] - 1s 8ms/step - loss: 0.6255 - accuracy: 0.7840 - val_loss: 1.0806 - val_accuracy: 0.6960\nEpoch 41/100\n64/71 [==========================>...] - ETA: 0s - loss: 0.6100 - accuracy: 0.7920\nEpoch 41: val_loss improved from 0.97900 to 0.90446, saving model to /kaggle/working/chekcpoints-41-0.78.h5\n71/71 [==============================] - 1s 9ms/step - loss: 0.6124 - accuracy: 0.7956 - val_loss: 0.9045 - val_accuracy: 0.7760\nEpoch 42/100\n64/71 [==========================>...] - ETA: 0s - loss: 0.4704 - accuracy: 0.8389\nEpoch 42: val_loss did not improve from 0.90446\n71/71 [==============================] - 1s 8ms/step - loss: 0.4966 - accuracy: 0.8329 - val_loss: 1.0645 - val_accuracy: 0.7680\nEpoch 43/100\n64/71 [==========================>...] - ETA: 0s - loss: 0.5763 - accuracy: 0.8076\nEpoch 43: val_loss did not improve from 0.90446\n71/71 [==============================] - 1s 8ms/step - loss: 0.5768 - accuracy: 0.8062 - val_loss: 1.1517 - val_accuracy: 0.7280\nEpoch 44/100\n64/71 [==========================>...] - ETA: 0s - loss: 0.5236 - accuracy: 0.8281\nEpoch 44: val_loss did not improve from 0.90446\n71/71 [==============================] - 1s 8ms/step - loss: 0.5302 - accuracy: 0.8258 - val_loss: 1.1000 - val_accuracy: 0.7600\nEpoch 45/100\n64/71 [==========================>...] - ETA: 0s - loss: 0.5085 - accuracy: 0.8174\nEpoch 45: val_loss did not improve from 0.90446\n71/71 [==============================] - 1s 8ms/step - loss: 0.5190 - accuracy: 0.8169 - val_loss: 1.2310 - val_accuracy: 0.7120\nEpoch 46/100\n71/71 [==============================] - ETA: 0s - loss: 0.4519 - accuracy: 0.8418\nEpoch 46: val_loss improved from 0.90446 to 0.84339, saving model to /kaggle/working/chekcpoints-46-0.78.h5\n71/71 [==============================] - 1s 9ms/step - loss: 0.4519 - accuracy: 0.8418 - val_loss: 0.8434 - val_accuracy: 0.7840\nEpoch 47/100\n64/71 [==========================>...] - ETA: 0s - loss: 0.4839 - accuracy: 0.8379\nEpoch 47: val_loss did not improve from 0.84339\n71/71 [==============================] - 1s 8ms/step - loss: 0.4945 - accuracy: 0.8293 - val_loss: 0.9830 - val_accuracy: 0.7440\nEpoch 48/100\n64/71 [==========================>...] - ETA: 0s - loss: 0.4715 - accuracy: 0.8379\nEpoch 48: val_loss did not improve from 0.84339\n71/71 [==============================] - 1s 8ms/step - loss: 0.4882 - accuracy: 0.8311 - val_loss: 1.1589 - val_accuracy: 0.7200\nEpoch 49/100\n64/71 [==========================>...] - ETA: 0s - loss: 0.5127 - accuracy: 0.8057\nEpoch 49: val_loss did not improve from 0.84339\n71/71 [==============================] - 1s 8ms/step - loss: 0.5093 - accuracy: 0.8098 - val_loss: 0.8834 - val_accuracy: 0.7600\nEpoch 50/100\n69/71 [============================>.] - ETA: 0s - loss: 0.4630 - accuracy: 0.8496\nEpoch 50: val_loss improved from 0.84339 to 0.76000, saving model to /kaggle/working/chekcpoints-50-0.76.h5\n71/71 [==============================] - 1s 9ms/step - loss: 0.4618 - accuracy: 0.8498 - val_loss: 0.7600 - val_accuracy: 0.7600\nEpoch 51/100\n64/71 [==========================>...] - ETA: 0s - loss: 0.4261 - accuracy: 0.8623\nEpoch 51: val_loss did not improve from 0.76000\n71/71 [==============================] - 1s 8ms/step - loss: 0.4142 - accuracy: 0.8649 - val_loss: 1.1167 - val_accuracy: 0.7280\nEpoch 52/100\n64/71 [==========================>...] - ETA: 0s - loss: 0.4564 - accuracy: 0.8535\nEpoch 52: val_loss did not improve from 0.76000\n71/71 [==============================] - 1s 8ms/step - loss: 0.4530 - accuracy: 0.8578 - val_loss: 0.9041 - val_accuracy: 0.7840\nEpoch 53/100\n64/71 [==========================>...] - ETA: 0s - loss: 0.4514 - accuracy: 0.8496\nEpoch 53: val_loss did not improve from 0.76000\n71/71 [==============================] - 1s 8ms/step - loss: 0.4379 - accuracy: 0.8542 - val_loss: 1.0812 - val_accuracy: 0.7360\nEpoch 54/100\n64/71 [==========================>...] - ETA: 0s - loss: 0.4179 - accuracy: 0.8672\nEpoch 54: val_loss did not improve from 0.76000\n71/71 [==============================] - 1s 8ms/step - loss: 0.4145 - accuracy: 0.8667 - val_loss: 1.1115 - val_accuracy: 0.7520\nEpoch 55/100\n64/71 [==========================>...] - ETA: 0s - loss: 0.4367 - accuracy: 0.8506\nEpoch 55: val_loss did not improve from 0.76000\n71/71 [==============================] - 1s 8ms/step - loss: 0.4364 - accuracy: 0.8489 - val_loss: 0.9652 - val_accuracy: 0.7680\nEpoch 56/100\n71/71 [==============================] - ETA: 0s - loss: 0.3896 - accuracy: 0.8684\nEpoch 56: val_loss did not improve from 0.76000\n71/71 [==============================] - 1s 8ms/step - loss: 0.3896 - accuracy: 0.8684 - val_loss: 1.1402 - val_accuracy: 0.7360\nEpoch 57/100\n64/71 [==========================>...] - ETA: 0s - loss: 0.4024 - accuracy: 0.8721\nEpoch 57: val_loss did not improve from 0.76000\n71/71 [==============================] - 1s 8ms/step - loss: 0.3976 - accuracy: 0.8738 - val_loss: 1.1032 - val_accuracy: 0.7440\nEpoch 58/100\n71/71 [==============================] - ETA: 0s - loss: 0.4035 - accuracy: 0.8711\nEpoch 58: val_loss did not improve from 0.76000\n71/71 [==============================] - 1s 8ms/step - loss: 0.4035 - accuracy: 0.8711 - val_loss: 1.0701 - val_accuracy: 0.7360\nEpoch 59/100\n71/71 [==============================] - ETA: 0s - loss: 0.3456 - accuracy: 0.8853\nEpoch 59: val_loss did not improve from 0.76000\n71/71 [==============================] - 1s 8ms/step - loss: 0.3456 - accuracy: 0.8853 - val_loss: 1.0507 - val_accuracy: 0.7680\nEpoch 60/100\n71/71 [==============================] - ETA: 0s - loss: 0.3843 - accuracy: 0.8587\nEpoch 60: val_loss did not improve from 0.76000\n71/71 [==============================] - 1s 8ms/step - loss: 0.3843 - accuracy: 0.8587 - val_loss: 0.8816 - val_accuracy: 0.8000\nEpoch 61/100\n71/71 [==============================] - ETA: 0s - loss: 0.3843 - accuracy: 0.8711\nEpoch 61: val_loss did not improve from 0.76000\n71/71 [==============================] - 1s 8ms/step - loss: 0.3843 - accuracy: 0.8711 - val_loss: 1.0152 - val_accuracy: 0.7680\nEpoch 62/100\n71/71 [==============================] - ETA: 0s - loss: 0.3844 - accuracy: 0.8809\nEpoch 62: val_loss did not improve from 0.76000\n71/71 [==============================] - 1s 8ms/step - loss: 0.3844 - accuracy: 0.8809 - val_loss: 1.0200 - val_accuracy: 0.7600\nEpoch 63/100\n64/71 [==========================>...] - ETA: 0s - loss: 0.3645 - accuracy: 0.8662\nEpoch 63: val_loss did not improve from 0.76000\n71/71 [==============================] - 1s 8ms/step - loss: 0.3681 - accuracy: 0.8667 - val_loss: 1.1320 - val_accuracy: 0.7680\nEpoch 64/100\n64/71 [==========================>...] - ETA: 0s - loss: 0.3366 - accuracy: 0.8877\nEpoch 64: val_loss did not improve from 0.76000\n71/71 [==============================] - 1s 8ms/step - loss: 0.3311 - accuracy: 0.8871 - val_loss: 1.2145 - val_accuracy: 0.7680\nEpoch 65/100\n71/71 [==============================] - ETA: 0s - loss: 0.3452 - accuracy: 0.8809\nEpoch 65: val_loss did not improve from 0.76000\n71/71 [==============================] - 1s 8ms/step - loss: 0.3452 - accuracy: 0.8809 - val_loss: 0.9101 - val_accuracy: 0.7920\nEpoch 66/100\n69/71 [============================>.] - ETA: 0s - loss: 0.3779 - accuracy: 0.8723\nEpoch 66: val_loss did not improve from 0.76000\n71/71 [==============================] - 1s 9ms/step - loss: 0.3733 - accuracy: 0.8738 - val_loss: 1.0006 - val_accuracy: 0.7200\nEpoch 67/100\n67/71 [===========================>..] - ETA: 0s - loss: 0.2725 - accuracy: 0.9039\nEpoch 67: val_loss did not improve from 0.76000\n71/71 [==============================] - 1s 9ms/step - loss: 0.2690 - accuracy: 0.9049 - val_loss: 1.0466 - val_accuracy: 0.7520\nEpoch 68/100\n70/71 [============================>.] - ETA: 0s - loss: 0.3370 - accuracy: 0.8938\nEpoch 68: val_loss did not improve from 0.76000\n71/71 [==============================] - 1s 8ms/step - loss: 0.3371 - accuracy: 0.8933 - val_loss: 0.8176 - val_accuracy: 0.7840\nEpoch 69/100\n71/71 [==============================] - ETA: 0s - loss: 0.3175 - accuracy: 0.8862\nEpoch 69: val_loss did not improve from 0.76000\n71/71 [==============================] - 1s 8ms/step - loss: 0.3175 - accuracy: 0.8862 - val_loss: 1.1370 - val_accuracy: 0.7760\nEpoch 70/100\n70/71 [============================>.] - ETA: 0s - loss: 0.2947 - accuracy: 0.9125\nEpoch 70: val_loss did not improve from 0.76000\n71/71 [==============================] - 1s 8ms/step - loss: 0.2938 - accuracy: 0.9129 - val_loss: 0.9255 - val_accuracy: 0.8240\nEpoch 71/100\n64/71 [==========================>...] - ETA: 0s - loss: 0.2900 - accuracy: 0.9062\nEpoch 71: val_loss did not improve from 0.76000\n71/71 [==============================] - 1s 8ms/step - loss: 0.2901 - accuracy: 0.9058 - val_loss: 1.0487 - val_accuracy: 0.7760\nEpoch 72/100\n71/71 [==============================] - ETA: 0s - loss: 0.3346 - accuracy: 0.8960\nEpoch 72: val_loss did not improve from 0.76000\n71/71 [==============================] - 1s 8ms/step - loss: 0.3346 - accuracy: 0.8960 - val_loss: 1.0374 - val_accuracy: 0.7600\nEpoch 73/100\n71/71 [==============================] - ETA: 0s - loss: 0.2983 - accuracy: 0.8969\nEpoch 73: val_loss did not improve from 0.76000\n71/71 [==============================] - 1s 8ms/step - loss: 0.2983 - accuracy: 0.8969 - val_loss: 0.8849 - val_accuracy: 0.8000\nEpoch 74/100\n64/71 [==========================>...] - ETA: 0s - loss: 0.3242 - accuracy: 0.8916\nEpoch 74: val_loss did not improve from 0.76000\n71/71 [==============================] - 1s 8ms/step - loss: 0.3250 - accuracy: 0.8880 - val_loss: 1.0029 - val_accuracy: 0.8000\nEpoch 75/100\n64/71 [==========================>...] - ETA: 0s - loss: 0.2686 - accuracy: 0.9072\nEpoch 75: val_loss did not improve from 0.76000\n71/71 [==============================] - 1s 8ms/step - loss: 0.2652 - accuracy: 0.9084 - val_loss: 0.8636 - val_accuracy: 0.8240\nEpoch 76/100\n64/71 [==========================>...] - ETA: 0s - loss: 0.3056 - accuracy: 0.8926\nEpoch 76: val_loss did not improve from 0.76000\n71/71 [==============================] - 1s 8ms/step - loss: 0.3219 - accuracy: 0.8889 - val_loss: 1.0081 - val_accuracy: 0.7840\nEpoch 77/100\n71/71 [==============================] - ETA: 0s - loss: 0.3081 - accuracy: 0.9040\nEpoch 77: val_loss did not improve from 0.76000\n71/71 [==============================] - 1s 8ms/step - loss: 0.3081 - accuracy: 0.9040 - val_loss: 0.8078 - val_accuracy: 0.8160\nEpoch 78/100\n71/71 [==============================] - ETA: 0s - loss: 0.2349 - accuracy: 0.9182\nEpoch 78: val_loss did not improve from 0.76000\n71/71 [==============================] - 1s 8ms/step - loss: 0.2349 - accuracy: 0.9182 - val_loss: 1.2264 - val_accuracy: 0.7520\nEpoch 79/100\n71/71 [==============================] - ETA: 0s - loss: 0.2344 - accuracy: 0.9173\nEpoch 79: val_loss did not improve from 0.76000\n71/71 [==============================] - 1s 8ms/step - loss: 0.2344 - accuracy: 0.9173 - val_loss: 1.1402 - val_accuracy: 0.7760\nEpoch 80/100\n71/71 [==============================] - ETA: 0s - loss: 0.2813 - accuracy: 0.9173\nEpoch 80: val_loss did not improve from 0.76000\n71/71 [==============================] - 1s 8ms/step - loss: 0.2813 - accuracy: 0.9173 - val_loss: 0.9793 - val_accuracy: 0.8240\nEpoch 81/100\n64/71 [==========================>...] - ETA: 0s - loss: 0.2650 - accuracy: 0.9131\nEpoch 81: val_loss did not improve from 0.76000\n71/71 [==============================] - 1s 8ms/step - loss: 0.2724 - accuracy: 0.9084 - val_loss: 1.0823 - val_accuracy: 0.7760\nEpoch 82/100\n71/71 [==============================] - ETA: 0s - loss: 0.2800 - accuracy: 0.9076\nEpoch 82: val_loss did not improve from 0.76000\n71/71 [==============================] - 1s 8ms/step - loss: 0.2800 - accuracy: 0.9076 - val_loss: 0.9254 - val_accuracy: 0.8000\nEpoch 83/100\n64/71 [==========================>...] - ETA: 0s - loss: 0.2741 - accuracy: 0.9160\nEpoch 83: val_loss improved from 0.76000 to 0.66575, saving model to /kaggle/working/chekcpoints-83-0.83.h5\n71/71 [==============================] - 1s 9ms/step - loss: 0.2652 - accuracy: 0.9182 - val_loss: 0.6657 - val_accuracy: 0.8320\nEpoch 84/100\n70/71 [============================>.] - ETA: 0s - loss: 0.2243 - accuracy: 0.9241\nEpoch 84: val_loss did not improve from 0.66575\n71/71 [==============================] - 1s 8ms/step - loss: 0.2254 - accuracy: 0.9236 - val_loss: 1.0174 - val_accuracy: 0.8160\nEpoch 85/100\n64/71 [==========================>...] - ETA: 0s - loss: 0.2896 - accuracy: 0.8965\nEpoch 85: val_loss did not improve from 0.66575\n71/71 [==============================] - 1s 8ms/step - loss: 0.2923 - accuracy: 0.8960 - val_loss: 0.9593 - val_accuracy: 0.8000\nEpoch 86/100\n64/71 [==========================>...] - ETA: 0s - loss: 0.2947 - accuracy: 0.9092\nEpoch 86: val_loss did not improve from 0.66575\n71/71 [==============================] - 1s 8ms/step - loss: 0.2776 - accuracy: 0.9147 - val_loss: 0.9086 - val_accuracy: 0.8000\nEpoch 87/100\n64/71 [==========================>...] - ETA: 0s - loss: 0.2914 - accuracy: 0.9053\nEpoch 87: val_loss did not improve from 0.66575\n71/71 [==============================] - 1s 8ms/step - loss: 0.2903 - accuracy: 0.9040 - val_loss: 1.0699 - val_accuracy: 0.7760\nEpoch 88/100\n64/71 [==========================>...] - ETA: 0s - loss: 0.2492 - accuracy: 0.9141\nEpoch 88: val_loss did not improve from 0.66575\n71/71 [==============================] - 1s 8ms/step - loss: 0.2512 - accuracy: 0.9129 - val_loss: 0.8722 - val_accuracy: 0.8160\nEpoch 89/100\n64/71 [==========================>...] - ETA: 0s - loss: 0.2624 - accuracy: 0.9121\nEpoch 89: val_loss did not improve from 0.66575\n71/71 [==============================] - 1s 8ms/step - loss: 0.2568 - accuracy: 0.9138 - val_loss: 0.8570 - val_accuracy: 0.8240\nEpoch 90/100\n64/71 [==========================>...] - ETA: 0s - loss: 0.2439 - accuracy: 0.9238\nEpoch 90: val_loss did not improve from 0.66575\n71/71 [==============================] - 1s 8ms/step - loss: 0.2386 - accuracy: 0.9262 - val_loss: 0.9362 - val_accuracy: 0.8160\nEpoch 91/100\n64/71 [==========================>...] - ETA: 0s - loss: 0.2331 - accuracy: 0.9180\nEpoch 91: val_loss did not improve from 0.66575\n71/71 [==============================] - 1s 8ms/step - loss: 0.2322 - accuracy: 0.9200 - val_loss: 1.1792 - val_accuracy: 0.7920\nEpoch 92/100\n64/71 [==========================>...] - ETA: 0s - loss: 0.2079 - accuracy: 0.9248\nEpoch 92: val_loss did not improve from 0.66575\n71/71 [==============================] - 1s 8ms/step - loss: 0.2087 - accuracy: 0.9236 - val_loss: 1.0667 - val_accuracy: 0.7760\nEpoch 93/100\n64/71 [==========================>...] - ETA: 0s - loss: 0.2553 - accuracy: 0.9150\nEpoch 93: val_loss did not improve from 0.66575\n71/71 [==============================] - 1s 8ms/step - loss: 0.2863 - accuracy: 0.9093 - val_loss: 0.7180 - val_accuracy: 0.8480\nEpoch 94/100\n64/71 [==========================>...] - ETA: 0s - loss: 0.2314 - accuracy: 0.9229\nEpoch 94: val_loss did not improve from 0.66575\n71/71 [==============================] - 1s 8ms/step - loss: 0.2303 - accuracy: 0.9227 - val_loss: 0.8506 - val_accuracy: 0.8240\nEpoch 95/100\n64/71 [==========================>...] - ETA: 0s - loss: 0.2061 - accuracy: 0.9375\nEpoch 95: val_loss did not improve from 0.66575\n71/71 [==============================] - 1s 8ms/step - loss: 0.2244 - accuracy: 0.9333 - val_loss: 0.8508 - val_accuracy: 0.8400\nEpoch 96/100\n64/71 [==========================>...] - ETA: 0s - loss: 0.2494 - accuracy: 0.9160\nEpoch 96: val_loss did not improve from 0.66575\n71/71 [==============================] - 1s 8ms/step - loss: 0.2457 - accuracy: 0.9173 - val_loss: 0.8948 - val_accuracy: 0.8160\nEpoch 97/100\n71/71 [==============================] - ETA: 0s - loss: 0.2380 - accuracy: 0.9218\nEpoch 97: val_loss did not improve from 0.66575\n71/71 [==============================] - 1s 8ms/step - loss: 0.2380 - accuracy: 0.9218 - val_loss: 0.9190 - val_accuracy: 0.8080\nEpoch 98/100\n64/71 [==========================>...] - ETA: 0s - loss: 0.1722 - accuracy: 0.9395\nEpoch 98: val_loss did not improve from 0.66575\n71/71 [==============================] - 1s 8ms/step - loss: 0.1674 - accuracy: 0.9413 - val_loss: 0.7674 - val_accuracy: 0.7920\nEpoch 99/100\n64/71 [==========================>...] - ETA: 0s - loss: 0.1739 - accuracy: 0.9346\nEpoch 99: val_loss did not improve from 0.66575\n71/71 [==============================] - 1s 8ms/step - loss: 0.1885 - accuracy: 0.9307 - val_loss: 1.0538 - val_accuracy: 0.8400\nEpoch 100/100\n71/71 [==============================] - ETA: 0s - loss: 0.1944 - accuracy: 0.9360\nEpoch 100: val_loss did not improve from 0.66575\n71/71 [==============================] - 1s 8ms/step - loss: 0.1944 - accuracy: 0.9360 - val_loss: 0.7859 - val_accuracy: 0.8640\n",
          "output_type": "stream"
        }
      ]
    },
    {
      "cell_type": "code",
      "source": [
        "import matplotlib.pyplot as plt\n",
        "plt.plot(hist.history['accuracy'])\n",
        "plt.plot(hist.history['val_accuracy'])\n",
        "plt.title('model accuracy')\n",
        "plt.ylabel('accuracy')\n",
        "plt.xlabel('epoch')\n",
        "plt.legend(['Train', 'Validation'], loc='upper left')\n",
        "plt.show()\n",
        "\n",
        "plt.plot(hist.history['loss'])\n",
        "plt.plot(hist.history['val_loss'])\n",
        "plt.title('model loss')\n",
        "plt.ylabel('loss')\n",
        "plt.xlabel('epoch')\n",
        "plt.legend(['Train', 'Validation'], loc='upper left')\n",
        "plt.show()"
      ],
      "metadata": {
        "execution": {
          "iopub.status.busy": "2024-02-25T19:33:02.188462Z",
          "iopub.execute_input": "2024-02-25T19:33:02.189374Z",
          "iopub.status.idle": "2024-02-25T19:33:02.658897Z",
          "shell.execute_reply.started": "2024-02-25T19:33:02.189341Z",
          "shell.execute_reply": "2024-02-25T19:33:02.657984Z"
        },
        "trusted": true,
        "id": "ig56K6ACxl6h",
        "outputId": "f0cfae3f-d2c3-46c7-dcfd-ac956a9b0342"
      },
      "execution_count": null,
      "outputs": [
        {
          "output_type": "display_data",
          "data": {
            "text/plain": "<Figure size 640x480 with 1 Axes>",
            "image/png": "[encoded data removed]"
          },
          "metadata": {}
        },
        {
          "output_type": "display_data",
          "data": {
            "text/plain": "<Figure size 640x480 with 1 Axes>",
            "image/png": "[encoded data removed]"
          },
          "metadata": {}
        }
      ]
    }
  ]
}